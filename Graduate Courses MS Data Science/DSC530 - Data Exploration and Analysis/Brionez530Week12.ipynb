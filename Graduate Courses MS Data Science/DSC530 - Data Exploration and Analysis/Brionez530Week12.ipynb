{
 "cells": [
  {
   "cell_type": "markdown",
   "id": "67e5c221",
   "metadata": {},
   "source": [
    "# Week 12 Final Term Project"
   ]
  },
  {
   "cell_type": "markdown",
   "id": "ce26391e",
   "metadata": {},
   "source": [
    "## Question / Hypothesis: "
   ]
  },
  {
   "cell_type": "markdown",
   "id": "e090ec09",
   "metadata": {},
   "source": [
    "### Are Firearm Sales in Florida Increasing? "
   ]
  },
  {
   "cell_type": "markdown",
   "id": "c3fc98fb",
   "metadata": {},
   "source": [
    "I will be using Exploratory Data Analysis to review the FBIs data set on background checks. Background checks are required for anyone purchasing a firearm from an authorized FFL (Federal Firearm License) seller. An FFL is requried to sell firearms unless privately selling to a single individual. "
   ]
  },
  {
   "cell_type": "code",
   "execution_count": 187,
   "id": "00fbd49d",
   "metadata": {},
   "outputs": [],
   "source": [
    "from os.path import basename, exists\n",
    "\n",
    "\n",
    "def download(url):\n",
    "    filename = basename(url)\n",
    "    if not exists(filename):\n",
    "        from urllib.request import urlretrieve\n",
    "\n",
    "        local, _ = urlretrieve(url, filename)\n",
    "        print(\"Downloaded \" + local)\n",
    "\n",
    "# Downloading required code from author \n",
    "download(\"https://github.com/AllenDowney/ThinkStats2/raw/master/code/thinkstats2.py\") \n",
    "download(\"https://github.com/AllenDowney/ThinkStats2/raw/master/code/thinkplot.py\")"
   ]
  },
  {
   "cell_type": "code",
   "execution_count": 188,
   "id": "6555884e",
   "metadata": {},
   "outputs": [],
   "source": [
    "# Importing requried packages and libraries\n",
    "import numpy as np\n",
    "import pandas as pd\n",
    "import statistics\n",
    "\n",
    "import thinkstats2\n",
    "import thinkplot\n",
    "from thinkstats2 import Mean, MeanVar, Var, Std, Cov"
   ]
  },
  {
   "cell_type": "markdown",
   "id": "0bdcce3b",
   "metadata": {},
   "source": [
    "First, I will read the .csv file that was downloaded from Kaggle.com and save the data to a variable named \"df\""
   ]
  },
  {
   "cell_type": "code",
   "execution_count": 189,
   "id": "0b28deda",
   "metadata": {},
   "outputs": [],
   "source": [
    "df = pd.read_csv('nics-firearm-background-checks.csv') # reading csv and saving to a variable"
   ]
  },
  {
   "cell_type": "markdown",
   "id": "bf2c0f32",
   "metadata": {},
   "source": [
    "Printing the data frame to see the dimensions"
   ]
  },
  {
   "cell_type": "code",
   "execution_count": 190,
   "id": "41eb6daf",
   "metadata": {},
   "outputs": [
    {
     "data": {
      "text/html": [
       "<div>\n",
       "<style scoped>\n",
       "    .dataframe tbody tr th:only-of-type {\n",
       "        vertical-align: middle;\n",
       "    }\n",
       "\n",
       "    .dataframe tbody tr th {\n",
       "        vertical-align: top;\n",
       "    }\n",
       "\n",
       "    .dataframe thead th {\n",
       "        text-align: right;\n",
       "    }\n",
       "</style>\n",
       "<table border=\"1\" class=\"dataframe\">\n",
       "  <thead>\n",
       "    <tr style=\"text-align: right;\">\n",
       "      <th></th>\n",
       "      <th>month</th>\n",
       "      <th>state</th>\n",
       "      <th>permit</th>\n",
       "      <th>permit_recheck</th>\n",
       "      <th>handgun</th>\n",
       "      <th>long_gun</th>\n",
       "      <th>other</th>\n",
       "      <th>multiple</th>\n",
       "      <th>admin</th>\n",
       "      <th>prepawn_handgun</th>\n",
       "      <th>...</th>\n",
       "      <th>returned_other</th>\n",
       "      <th>rentals_handgun</th>\n",
       "      <th>rentals_long_gun</th>\n",
       "      <th>private_sale_handgun</th>\n",
       "      <th>private_sale_long_gun</th>\n",
       "      <th>private_sale_other</th>\n",
       "      <th>return_to_seller_handgun</th>\n",
       "      <th>return_to_seller_long_gun</th>\n",
       "      <th>return_to_seller_other</th>\n",
       "      <th>totals</th>\n",
       "    </tr>\n",
       "  </thead>\n",
       "  <tbody>\n",
       "    <tr>\n",
       "      <th>0</th>\n",
       "      <td>2023-09</td>\n",
       "      <td>Alabama</td>\n",
       "      <td>10342.0</td>\n",
       "      <td>145.0</td>\n",
       "      <td>15421.0</td>\n",
       "      <td>12848.0</td>\n",
       "      <td>1156.0</td>\n",
       "      <td>1052</td>\n",
       "      <td>0.0</td>\n",
       "      <td>14.0</td>\n",
       "      <td>...</td>\n",
       "      <td>0.0</td>\n",
       "      <td>0.0</td>\n",
       "      <td>0.0</td>\n",
       "      <td>29.0</td>\n",
       "      <td>21.0</td>\n",
       "      <td>14.0</td>\n",
       "      <td>0.0</td>\n",
       "      <td>1.0</td>\n",
       "      <td>0.0</td>\n",
       "      <td>44556</td>\n",
       "    </tr>\n",
       "    <tr>\n",
       "      <th>1</th>\n",
       "      <td>2023-09</td>\n",
       "      <td>Alaska</td>\n",
       "      <td>188.0</td>\n",
       "      <td>10.0</td>\n",
       "      <td>2429.0</td>\n",
       "      <td>2543.0</td>\n",
       "      <td>262.0</td>\n",
       "      <td>197</td>\n",
       "      <td>0.0</td>\n",
       "      <td>0.0</td>\n",
       "      <td>...</td>\n",
       "      <td>0.0</td>\n",
       "      <td>0.0</td>\n",
       "      <td>0.0</td>\n",
       "      <td>0.0</td>\n",
       "      <td>1.0</td>\n",
       "      <td>0.0</td>\n",
       "      <td>0.0</td>\n",
       "      <td>0.0</td>\n",
       "      <td>0.0</td>\n",
       "      <td>5922</td>\n",
       "    </tr>\n",
       "    <tr>\n",
       "      <th>2</th>\n",
       "      <td>2023-09</td>\n",
       "      <td>Arizona</td>\n",
       "      <td>9113.0</td>\n",
       "      <td>2014.0</td>\n",
       "      <td>14398.0</td>\n",
       "      <td>8239.0</td>\n",
       "      <td>1575.0</td>\n",
       "      <td>931</td>\n",
       "      <td>0.0</td>\n",
       "      <td>14.0</td>\n",
       "      <td>...</td>\n",
       "      <td>0.0</td>\n",
       "      <td>0.0</td>\n",
       "      <td>0.0</td>\n",
       "      <td>6.0</td>\n",
       "      <td>6.0</td>\n",
       "      <td>0.0</td>\n",
       "      <td>1.0</td>\n",
       "      <td>0.0</td>\n",
       "      <td>0.0</td>\n",
       "      <td>38189</td>\n",
       "    </tr>\n",
       "    <tr>\n",
       "      <th>3</th>\n",
       "      <td>2023-09</td>\n",
       "      <td>Arkansas</td>\n",
       "      <td>2139.0</td>\n",
       "      <td>181.0</td>\n",
       "      <td>5645.0</td>\n",
       "      <td>6108.0</td>\n",
       "      <td>437.0</td>\n",
       "      <td>466</td>\n",
       "      <td>6.0</td>\n",
       "      <td>8.0</td>\n",
       "      <td>...</td>\n",
       "      <td>0.0</td>\n",
       "      <td>0.0</td>\n",
       "      <td>0.0</td>\n",
       "      <td>6.0</td>\n",
       "      <td>13.0</td>\n",
       "      <td>2.0</td>\n",
       "      <td>0.0</td>\n",
       "      <td>0.0</td>\n",
       "      <td>0.0</td>\n",
       "      <td>17207</td>\n",
       "    </tr>\n",
       "    <tr>\n",
       "      <th>4</th>\n",
       "      <td>2023-09</td>\n",
       "      <td>California</td>\n",
       "      <td>28611.0</td>\n",
       "      <td>15559.0</td>\n",
       "      <td>33792.0</td>\n",
       "      <td>20548.0</td>\n",
       "      <td>4295.0</td>\n",
       "      <td>0</td>\n",
       "      <td>0.0</td>\n",
       "      <td>1.0</td>\n",
       "      <td>...</td>\n",
       "      <td>56.0</td>\n",
       "      <td>0.0</td>\n",
       "      <td>0.0</td>\n",
       "      <td>7289.0</td>\n",
       "      <td>3093.0</td>\n",
       "      <td>529.0</td>\n",
       "      <td>26.0</td>\n",
       "      <td>10.0</td>\n",
       "      <td>0.0</td>\n",
       "      <td>118625</td>\n",
       "    </tr>\n",
       "  </tbody>\n",
       "</table>\n",
       "<p>5 rows × 27 columns</p>\n",
       "</div>"
      ],
      "text/plain": [
       "     month       state   permit  permit_recheck  handgun  long_gun   other  \\\n",
       "0  2023-09     Alabama  10342.0           145.0  15421.0   12848.0  1156.0   \n",
       "1  2023-09      Alaska    188.0            10.0   2429.0    2543.0   262.0   \n",
       "2  2023-09     Arizona   9113.0          2014.0  14398.0    8239.0  1575.0   \n",
       "3  2023-09    Arkansas   2139.0           181.0   5645.0    6108.0   437.0   \n",
       "4  2023-09  California  28611.0         15559.0  33792.0   20548.0  4295.0   \n",
       "\n",
       "   multiple  admin  prepawn_handgun  ...  returned_other  rentals_handgun  \\\n",
       "0      1052    0.0             14.0  ...             0.0              0.0   \n",
       "1       197    0.0              0.0  ...             0.0              0.0   \n",
       "2       931    0.0             14.0  ...             0.0              0.0   \n",
       "3       466    6.0              8.0  ...             0.0              0.0   \n",
       "4         0    0.0              1.0  ...            56.0              0.0   \n",
       "\n",
       "   rentals_long_gun  private_sale_handgun  private_sale_long_gun  \\\n",
       "0               0.0                  29.0                   21.0   \n",
       "1               0.0                   0.0                    1.0   \n",
       "2               0.0                   6.0                    6.0   \n",
       "3               0.0                   6.0                   13.0   \n",
       "4               0.0                7289.0                 3093.0   \n",
       "\n",
       "   private_sale_other  return_to_seller_handgun  return_to_seller_long_gun  \\\n",
       "0                14.0                       0.0                        1.0   \n",
       "1                 0.0                       0.0                        0.0   \n",
       "2                 0.0                       1.0                        0.0   \n",
       "3                 2.0                       0.0                        0.0   \n",
       "4               529.0                      26.0                       10.0   \n",
       "\n",
       "   return_to_seller_other  totals  \n",
       "0                     0.0   44556  \n",
       "1                     0.0    5922  \n",
       "2                     0.0   38189  \n",
       "3                     0.0   17207  \n",
       "4                     0.0  118625  \n",
       "\n",
       "[5 rows x 27 columns]"
      ]
     },
     "execution_count": 190,
     "metadata": {},
     "output_type": "execute_result"
    }
   ],
   "source": [
    "df.head() # Using the head() function to view the data frame"
   ]
  },
  {
   "cell_type": "markdown",
   "id": "6aa76765",
   "metadata": {},
   "source": [
    "In reviewing the data frame, there are a total of 27 variables (columns) and 16445 records (rows). I will select 5 of them to provide a description of them. "
   ]
  },
  {
   "cell_type": "code",
   "execution_count": 191,
   "id": "33180962",
   "metadata": {},
   "outputs": [],
   "source": [
    "df['month'] = pd.to_datetime(df['month']) # Converts 'month' variable to a datetime for plotting"
   ]
  },
  {
   "cell_type": "code",
   "execution_count": 192,
   "id": "a4d00e93",
   "metadata": {},
   "outputs": [],
   "source": [
    "fl = df[df.state == \"Florida\"] # Creating a new subset of the date frame that only includes data for Florida\n",
    "others = df[df.state != \"Florida\"] # Creating a new subset of the date frame that for all other states"
   ]
  },
  {
   "cell_type": "code",
   "execution_count": 193,
   "id": "be1b0125",
   "metadata": {},
   "outputs": [
    {
     "data": {
      "text/html": [
       "<div>\n",
       "<style scoped>\n",
       "    .dataframe tbody tr th:only-of-type {\n",
       "        vertical-align: middle;\n",
       "    }\n",
       "\n",
       "    .dataframe tbody tr th {\n",
       "        vertical-align: top;\n",
       "    }\n",
       "\n",
       "    .dataframe thead th {\n",
       "        text-align: right;\n",
       "    }\n",
       "</style>\n",
       "<table border=\"1\" class=\"dataframe\">\n",
       "  <thead>\n",
       "    <tr style=\"text-align: right;\">\n",
       "      <th></th>\n",
       "      <th>month</th>\n",
       "      <th>state</th>\n",
       "      <th>permit</th>\n",
       "      <th>permit_recheck</th>\n",
       "      <th>handgun</th>\n",
       "      <th>long_gun</th>\n",
       "      <th>other</th>\n",
       "      <th>multiple</th>\n",
       "      <th>admin</th>\n",
       "      <th>prepawn_handgun</th>\n",
       "      <th>...</th>\n",
       "      <th>returned_other</th>\n",
       "      <th>rentals_handgun</th>\n",
       "      <th>rentals_long_gun</th>\n",
       "      <th>private_sale_handgun</th>\n",
       "      <th>private_sale_long_gun</th>\n",
       "      <th>private_sale_other</th>\n",
       "      <th>return_to_seller_handgun</th>\n",
       "      <th>return_to_seller_long_gun</th>\n",
       "      <th>return_to_seller_other</th>\n",
       "      <th>totals</th>\n",
       "    </tr>\n",
       "  </thead>\n",
       "  <tbody>\n",
       "    <tr>\n",
       "      <th>9</th>\n",
       "      <td>2023-09-01</td>\n",
       "      <td>Florida</td>\n",
       "      <td>8399.0</td>\n",
       "      <td>0.0</td>\n",
       "      <td>51223.0</td>\n",
       "      <td>20945.0</td>\n",
       "      <td>4528.0</td>\n",
       "      <td>3085</td>\n",
       "      <td>0.0</td>\n",
       "      <td>6.0</td>\n",
       "      <td>...</td>\n",
       "      <td>2.0</td>\n",
       "      <td>0.0</td>\n",
       "      <td>0.0</td>\n",
       "      <td>259.0</td>\n",
       "      <td>141.0</td>\n",
       "      <td>54.0</td>\n",
       "      <td>47.0</td>\n",
       "      <td>45.0</td>\n",
       "      <td>2.0</td>\n",
       "      <td>95281</td>\n",
       "    </tr>\n",
       "    <tr>\n",
       "      <th>64</th>\n",
       "      <td>2023-08-01</td>\n",
       "      <td>Florida</td>\n",
       "      <td>8781.0</td>\n",
       "      <td>0.0</td>\n",
       "      <td>55034.0</td>\n",
       "      <td>19438.0</td>\n",
       "      <td>5008.0</td>\n",
       "      <td>2995</td>\n",
       "      <td>0.0</td>\n",
       "      <td>7.0</td>\n",
       "      <td>...</td>\n",
       "      <td>6.0</td>\n",
       "      <td>0.0</td>\n",
       "      <td>0.0</td>\n",
       "      <td>235.0</td>\n",
       "      <td>140.0</td>\n",
       "      <td>67.0</td>\n",
       "      <td>61.0</td>\n",
       "      <td>31.0</td>\n",
       "      <td>2.0</td>\n",
       "      <td>98132</td>\n",
       "    </tr>\n",
       "    <tr>\n",
       "      <th>119</th>\n",
       "      <td>2023-07-01</td>\n",
       "      <td>Florida</td>\n",
       "      <td>8746.0</td>\n",
       "      <td>0.0</td>\n",
       "      <td>59086.0</td>\n",
       "      <td>18577.0</td>\n",
       "      <td>4796.0</td>\n",
       "      <td>3047</td>\n",
       "      <td>0.0</td>\n",
       "      <td>18.0</td>\n",
       "      <td>...</td>\n",
       "      <td>2.0</td>\n",
       "      <td>0.0</td>\n",
       "      <td>0.0</td>\n",
       "      <td>262.0</td>\n",
       "      <td>127.0</td>\n",
       "      <td>63.0</td>\n",
       "      <td>46.0</td>\n",
       "      <td>51.0</td>\n",
       "      <td>0.0</td>\n",
       "      <td>101017</td>\n",
       "    </tr>\n",
       "    <tr>\n",
       "      <th>174</th>\n",
       "      <td>2023-06-01</td>\n",
       "      <td>Florida</td>\n",
       "      <td>11470.0</td>\n",
       "      <td>0.0</td>\n",
       "      <td>58766.0</td>\n",
       "      <td>20981.0</td>\n",
       "      <td>4863.0</td>\n",
       "      <td>3213</td>\n",
       "      <td>0.0</td>\n",
       "      <td>6.0</td>\n",
       "      <td>...</td>\n",
       "      <td>3.0</td>\n",
       "      <td>0.0</td>\n",
       "      <td>0.0</td>\n",
       "      <td>246.0</td>\n",
       "      <td>140.0</td>\n",
       "      <td>57.0</td>\n",
       "      <td>63.0</td>\n",
       "      <td>36.0</td>\n",
       "      <td>0.0</td>\n",
       "      <td>106100</td>\n",
       "    </tr>\n",
       "    <tr>\n",
       "      <th>229</th>\n",
       "      <td>2023-05-01</td>\n",
       "      <td>Florida</td>\n",
       "      <td>12457.0</td>\n",
       "      <td>0.0</td>\n",
       "      <td>61383.0</td>\n",
       "      <td>21861.0</td>\n",
       "      <td>4709.0</td>\n",
       "      <td>3189</td>\n",
       "      <td>0.0</td>\n",
       "      <td>6.0</td>\n",
       "      <td>...</td>\n",
       "      <td>0.0</td>\n",
       "      <td>0.0</td>\n",
       "      <td>0.0</td>\n",
       "      <td>285.0</td>\n",
       "      <td>158.0</td>\n",
       "      <td>51.0</td>\n",
       "      <td>44.0</td>\n",
       "      <td>36.0</td>\n",
       "      <td>0.0</td>\n",
       "      <td>110038</td>\n",
       "    </tr>\n",
       "  </tbody>\n",
       "</table>\n",
       "<p>5 rows × 27 columns</p>\n",
       "</div>"
      ],
      "text/plain": [
       "         month    state   permit  permit_recheck  handgun  long_gun   other  \\\n",
       "9   2023-09-01  Florida   8399.0             0.0  51223.0   20945.0  4528.0   \n",
       "64  2023-08-01  Florida   8781.0             0.0  55034.0   19438.0  5008.0   \n",
       "119 2023-07-01  Florida   8746.0             0.0  59086.0   18577.0  4796.0   \n",
       "174 2023-06-01  Florida  11470.0             0.0  58766.0   20981.0  4863.0   \n",
       "229 2023-05-01  Florida  12457.0             0.0  61383.0   21861.0  4709.0   \n",
       "\n",
       "     multiple  admin  prepawn_handgun  ...  returned_other  rentals_handgun  \\\n",
       "9        3085    0.0              6.0  ...             2.0              0.0   \n",
       "64       2995    0.0              7.0  ...             6.0              0.0   \n",
       "119      3047    0.0             18.0  ...             2.0              0.0   \n",
       "174      3213    0.0              6.0  ...             3.0              0.0   \n",
       "229      3189    0.0              6.0  ...             0.0              0.0   \n",
       "\n",
       "     rentals_long_gun  private_sale_handgun  private_sale_long_gun  \\\n",
       "9                 0.0                 259.0                  141.0   \n",
       "64                0.0                 235.0                  140.0   \n",
       "119               0.0                 262.0                  127.0   \n",
       "174               0.0                 246.0                  140.0   \n",
       "229               0.0                 285.0                  158.0   \n",
       "\n",
       "     private_sale_other  return_to_seller_handgun  return_to_seller_long_gun  \\\n",
       "9                  54.0                      47.0                       45.0   \n",
       "64                 67.0                      61.0                       31.0   \n",
       "119                63.0                      46.0                       51.0   \n",
       "174                57.0                      63.0                       36.0   \n",
       "229                51.0                      44.0                       36.0   \n",
       "\n",
       "     return_to_seller_other  totals  \n",
       "9                       2.0   95281  \n",
       "64                      2.0   98132  \n",
       "119                     0.0  101017  \n",
       "174                     0.0  106100  \n",
       "229                     0.0  110038  \n",
       "\n",
       "[5 rows x 27 columns]"
      ]
     },
     "execution_count": 193,
     "metadata": {},
     "output_type": "execute_result"
    }
   ],
   "source": [
    "fl.head() # Using the head() function to view the data frame"
   ]
  },
  {
   "cell_type": "code",
   "execution_count": 194,
   "id": "bca9ccfa",
   "metadata": {},
   "outputs": [
    {
     "data": {
      "text/html": [
       "<div>\n",
       "<style scoped>\n",
       "    .dataframe tbody tr th:only-of-type {\n",
       "        vertical-align: middle;\n",
       "    }\n",
       "\n",
       "    .dataframe tbody tr th {\n",
       "        vertical-align: top;\n",
       "    }\n",
       "\n",
       "    .dataframe thead th {\n",
       "        text-align: right;\n",
       "    }\n",
       "</style>\n",
       "<table border=\"1\" class=\"dataframe\">\n",
       "  <thead>\n",
       "    <tr style=\"text-align: right;\">\n",
       "      <th></th>\n",
       "      <th>month</th>\n",
       "      <th>state</th>\n",
       "      <th>permit</th>\n",
       "      <th>permit_recheck</th>\n",
       "      <th>handgun</th>\n",
       "      <th>long_gun</th>\n",
       "      <th>other</th>\n",
       "      <th>multiple</th>\n",
       "      <th>admin</th>\n",
       "      <th>prepawn_handgun</th>\n",
       "      <th>...</th>\n",
       "      <th>returned_other</th>\n",
       "      <th>rentals_handgun</th>\n",
       "      <th>rentals_long_gun</th>\n",
       "      <th>private_sale_handgun</th>\n",
       "      <th>private_sale_long_gun</th>\n",
       "      <th>private_sale_other</th>\n",
       "      <th>return_to_seller_handgun</th>\n",
       "      <th>return_to_seller_long_gun</th>\n",
       "      <th>return_to_seller_other</th>\n",
       "      <th>totals</th>\n",
       "    </tr>\n",
       "  </thead>\n",
       "  <tbody>\n",
       "    <tr>\n",
       "      <th>0</th>\n",
       "      <td>2023-09-01</td>\n",
       "      <td>Alabama</td>\n",
       "      <td>10342.0</td>\n",
       "      <td>145.0</td>\n",
       "      <td>15421.0</td>\n",
       "      <td>12848.0</td>\n",
       "      <td>1156.0</td>\n",
       "      <td>1052</td>\n",
       "      <td>0.0</td>\n",
       "      <td>14.0</td>\n",
       "      <td>...</td>\n",
       "      <td>0.0</td>\n",
       "      <td>0.0</td>\n",
       "      <td>0.0</td>\n",
       "      <td>29.0</td>\n",
       "      <td>21.0</td>\n",
       "      <td>14.0</td>\n",
       "      <td>0.0</td>\n",
       "      <td>1.0</td>\n",
       "      <td>0.0</td>\n",
       "      <td>44556</td>\n",
       "    </tr>\n",
       "    <tr>\n",
       "      <th>1</th>\n",
       "      <td>2023-09-01</td>\n",
       "      <td>Alaska</td>\n",
       "      <td>188.0</td>\n",
       "      <td>10.0</td>\n",
       "      <td>2429.0</td>\n",
       "      <td>2543.0</td>\n",
       "      <td>262.0</td>\n",
       "      <td>197</td>\n",
       "      <td>0.0</td>\n",
       "      <td>0.0</td>\n",
       "      <td>...</td>\n",
       "      <td>0.0</td>\n",
       "      <td>0.0</td>\n",
       "      <td>0.0</td>\n",
       "      <td>0.0</td>\n",
       "      <td>1.0</td>\n",
       "      <td>0.0</td>\n",
       "      <td>0.0</td>\n",
       "      <td>0.0</td>\n",
       "      <td>0.0</td>\n",
       "      <td>5922</td>\n",
       "    </tr>\n",
       "    <tr>\n",
       "      <th>2</th>\n",
       "      <td>2023-09-01</td>\n",
       "      <td>Arizona</td>\n",
       "      <td>9113.0</td>\n",
       "      <td>2014.0</td>\n",
       "      <td>14398.0</td>\n",
       "      <td>8239.0</td>\n",
       "      <td>1575.0</td>\n",
       "      <td>931</td>\n",
       "      <td>0.0</td>\n",
       "      <td>14.0</td>\n",
       "      <td>...</td>\n",
       "      <td>0.0</td>\n",
       "      <td>0.0</td>\n",
       "      <td>0.0</td>\n",
       "      <td>6.0</td>\n",
       "      <td>6.0</td>\n",
       "      <td>0.0</td>\n",
       "      <td>1.0</td>\n",
       "      <td>0.0</td>\n",
       "      <td>0.0</td>\n",
       "      <td>38189</td>\n",
       "    </tr>\n",
       "    <tr>\n",
       "      <th>3</th>\n",
       "      <td>2023-09-01</td>\n",
       "      <td>Arkansas</td>\n",
       "      <td>2139.0</td>\n",
       "      <td>181.0</td>\n",
       "      <td>5645.0</td>\n",
       "      <td>6108.0</td>\n",
       "      <td>437.0</td>\n",
       "      <td>466</td>\n",
       "      <td>6.0</td>\n",
       "      <td>8.0</td>\n",
       "      <td>...</td>\n",
       "      <td>0.0</td>\n",
       "      <td>0.0</td>\n",
       "      <td>0.0</td>\n",
       "      <td>6.0</td>\n",
       "      <td>13.0</td>\n",
       "      <td>2.0</td>\n",
       "      <td>0.0</td>\n",
       "      <td>0.0</td>\n",
       "      <td>0.0</td>\n",
       "      <td>17207</td>\n",
       "    </tr>\n",
       "    <tr>\n",
       "      <th>4</th>\n",
       "      <td>2023-09-01</td>\n",
       "      <td>California</td>\n",
       "      <td>28611.0</td>\n",
       "      <td>15559.0</td>\n",
       "      <td>33792.0</td>\n",
       "      <td>20548.0</td>\n",
       "      <td>4295.0</td>\n",
       "      <td>0</td>\n",
       "      <td>0.0</td>\n",
       "      <td>1.0</td>\n",
       "      <td>...</td>\n",
       "      <td>56.0</td>\n",
       "      <td>0.0</td>\n",
       "      <td>0.0</td>\n",
       "      <td>7289.0</td>\n",
       "      <td>3093.0</td>\n",
       "      <td>529.0</td>\n",
       "      <td>26.0</td>\n",
       "      <td>10.0</td>\n",
       "      <td>0.0</td>\n",
       "      <td>118625</td>\n",
       "    </tr>\n",
       "  </tbody>\n",
       "</table>\n",
       "<p>5 rows × 27 columns</p>\n",
       "</div>"
      ],
      "text/plain": [
       "       month       state   permit  permit_recheck  handgun  long_gun   other  \\\n",
       "0 2023-09-01     Alabama  10342.0           145.0  15421.0   12848.0  1156.0   \n",
       "1 2023-09-01      Alaska    188.0            10.0   2429.0    2543.0   262.0   \n",
       "2 2023-09-01     Arizona   9113.0          2014.0  14398.0    8239.0  1575.0   \n",
       "3 2023-09-01    Arkansas   2139.0           181.0   5645.0    6108.0   437.0   \n",
       "4 2023-09-01  California  28611.0         15559.0  33792.0   20548.0  4295.0   \n",
       "\n",
       "   multiple  admin  prepawn_handgun  ...  returned_other  rentals_handgun  \\\n",
       "0      1052    0.0             14.0  ...             0.0              0.0   \n",
       "1       197    0.0              0.0  ...             0.0              0.0   \n",
       "2       931    0.0             14.0  ...             0.0              0.0   \n",
       "3       466    6.0              8.0  ...             0.0              0.0   \n",
       "4         0    0.0              1.0  ...            56.0              0.0   \n",
       "\n",
       "   rentals_long_gun  private_sale_handgun  private_sale_long_gun  \\\n",
       "0               0.0                  29.0                   21.0   \n",
       "1               0.0                   0.0                    1.0   \n",
       "2               0.0                   6.0                    6.0   \n",
       "3               0.0                   6.0                   13.0   \n",
       "4               0.0                7289.0                 3093.0   \n",
       "\n",
       "   private_sale_other  return_to_seller_handgun  return_to_seller_long_gun  \\\n",
       "0                14.0                       0.0                        1.0   \n",
       "1                 0.0                       0.0                        0.0   \n",
       "2                 0.0                       1.0                        0.0   \n",
       "3                 2.0                       0.0                        0.0   \n",
       "4               529.0                      26.0                       10.0   \n",
       "\n",
       "   return_to_seller_other  totals  \n",
       "0                     0.0   44556  \n",
       "1                     0.0    5922  \n",
       "2                     0.0   38189  \n",
       "3                     0.0   17207  \n",
       "4                     0.0  118625  \n",
       "\n",
       "[5 rows x 27 columns]"
      ]
     },
     "execution_count": 194,
     "metadata": {},
     "output_type": "execute_result"
    }
   ],
   "source": [
    "others.head() # Using the head() function to view the data frame"
   ]
  },
  {
   "cell_type": "markdown",
   "id": "92162788",
   "metadata": {},
   "source": [
    "## A Minimum of 5 Variables in Your Dataset Used During Your Analysis."
   ]
  },
  {
   "cell_type": "markdown",
   "id": "fd9b7ea8",
   "metadata": {},
   "source": [
    "The 5 variables selected for analysis are:\n",
    "- Month\n",
    "- Handgun\n",
    "- Long_gun\n",
    "- multiple\n",
    "- total"
   ]
  },
  {
   "cell_type": "markdown",
   "id": "cd5fca47",
   "metadata": {},
   "source": [
    "## 5 Variables with Description"
   ]
  },
  {
   "cell_type": "markdown",
   "id": "d10360a4",
   "metadata": {},
   "source": [
    "1. month\n",
    "    - The \"month\" varaible provides date information for the number of background checks.\n",
    "2. handgun\n",
    "    - Describes the type of firearm the background check is for. Commonly called a \"pistol\".\n",
    "3. long_gun\n",
    "    - Describes the type of firearm the background check is for. Commonly called a \"rifle\".\n",
    "4. multiple\n",
    "    - This variable decribes a background check when a single individual is purchasing mutliple firearms in one transaction.\n",
    "5. total\n",
    "    - This variable describes the total number of background checks for a given state in a given month. "
   ]
  },
  {
   "cell_type": "markdown",
   "id": "a24b31e2",
   "metadata": {},
   "source": [
    "## Include a Histogram of Each of the 5 Variables"
   ]
  },
  {
   "cell_type": "markdown",
   "id": "23fbc1c4",
   "metadata": {},
   "source": [
    "### Month"
   ]
  },
  {
   "cell_type": "code",
   "execution_count": 195,
   "id": "061e1802",
   "metadata": {},
   "outputs": [
    {
     "data": {
      "text/plain": [
       "array([[<AxesSubplot:title={'center':'month'}>]], dtype=object)"
      ]
     },
     "execution_count": 195,
     "metadata": {},
     "output_type": "execute_result"
    },
    {
     "data": {
      "image/png": "[encoded data removed]",
      "text/plain": [
       "<Figure size 432x288 with 1 Axes>"
      ]
     },
     "metadata": {
      "needs_background": "light"
     },
     "output_type": "display_data"
    }
   ],
   "source": [
    "fl.hist('month', bins = 500)"
   ]
  },
  {
   "cell_type": "markdown",
   "id": "b63f3bd8",
   "metadata": {},
   "source": [
    "This histogram did not initially make sense to me, but upon further thought it makes sense. There can only be one value of each month in a given year. As an example, there is only one February month per year. "
   ]
  },
  {
   "cell_type": "markdown",
   "id": "cf0834a8",
   "metadata": {},
   "source": [
    "### Handgun"
   ]
  },
  {
   "cell_type": "code",
   "execution_count": 196,
   "id": "5fab96e0",
   "metadata": {},
   "outputs": [
    {
     "data": {
      "text/plain": [
       "array([[<AxesSubplot:title={'center':'handgun'}>]], dtype=object)"
      ]
     },
     "execution_count": 196,
     "metadata": {},
     "output_type": "execute_result"
    },
    {
     "data": {
      "image/png": "[encoded data removed]",
      "text/plain": [
       "<Figure size 432x288 with 1 Axes>"
      ]
     },
     "metadata": {
      "needs_background": "light"
     },
     "output_type": "display_data"
    }
   ],
   "source": [
    "fl.hist('handgun', bins = 25)"
   ]
  },
  {
   "cell_type": "markdown",
   "id": "54dff8c7",
   "metadata": {},
   "source": [
    "Positive skewed distribution"
   ]
  },
  {
   "cell_type": "markdown",
   "id": "fbf88826",
   "metadata": {},
   "source": [
    "### Long_gun"
   ]
  },
  {
   "cell_type": "code",
   "execution_count": 197,
   "id": "7a7a5f78",
   "metadata": {},
   "outputs": [
    {
     "data": {
      "text/plain": [
       "array([[<AxesSubplot:title={'center':'long_gun'}>]], dtype=object)"
      ]
     },
     "execution_count": 197,
     "metadata": {},
     "output_type": "execute_result"
    },
    {
     "data": {
      "image/png": "[encoded data removed]",
      "text/plain": [
       "<Figure size 432x288 with 1 Axes>"
      ]
     },
     "metadata": {
      "needs_background": "light"
     },
     "output_type": "display_data"
    }
   ],
   "source": [
    "fl.hist('long_gun', bins = 25)"
   ]
  },
  {
   "cell_type": "markdown",
   "id": "f244aebc",
   "metadata": {},
   "source": [
    "Positive skewed distribution"
   ]
  },
  {
   "cell_type": "markdown",
   "id": "1cb4f6ad",
   "metadata": {},
   "source": [
    "### Multiple"
   ]
  },
  {
   "cell_type": "code",
   "execution_count": 198,
   "id": "7c87f80d",
   "metadata": {},
   "outputs": [
    {
     "data": {
      "text/plain": [
       "array([[<AxesSubplot:title={'center':'multiple'}>]], dtype=object)"
      ]
     },
     "execution_count": 198,
     "metadata": {},
     "output_type": "execute_result"
    },
    {
     "data": {
      "image/png": "[encoded data removed]",
      "text/plain": [
       "<Figure size 432x288 with 1 Axes>"
      ]
     },
     "metadata": {
      "needs_background": "light"
     },
     "output_type": "display_data"
    }
   ],
   "source": [
    "fl.hist('multiple', bins = 25)"
   ]
  },
  {
   "cell_type": "markdown",
   "id": "6cb062bf",
   "metadata": {},
   "source": [
    "Positive skewed distribution"
   ]
  },
  {
   "cell_type": "markdown",
   "id": "fd42eefc",
   "metadata": {},
   "source": [
    "### Totals"
   ]
  },
  {
   "cell_type": "code",
   "execution_count": 199,
   "id": "0f329398",
   "metadata": {},
   "outputs": [
    {
     "data": {
      "text/plain": [
       "array([[<AxesSubplot:title={'center':'totals'}>]], dtype=object)"
      ]
     },
     "execution_count": 199,
     "metadata": {},
     "output_type": "execute_result"
    },
    {
     "data": {
      "image/png": "[encoded data removed]",
      "text/plain": [
       "<Figure size 432x288 with 1 Axes>"
      ]
     },
     "metadata": {
      "needs_background": "light"
     },
     "output_type": "display_data"
    }
   ],
   "source": [
    "fl.hist(\"totals\", bins = 25)"
   ]
  },
  {
   "cell_type": "markdown",
   "id": "f4d19212",
   "metadata": {},
   "source": [
    "Appears to be multi-modal distribution"
   ]
  },
  {
   "cell_type": "markdown",
   "id": "74dc4300",
   "metadata": {},
   "source": [
    "## Include the Other Descriptive Characteristics About the Variables: Mean, Mode, Spread, and Tails"
   ]
  },
  {
   "cell_type": "code",
   "execution_count": 200,
   "id": "997ca528",
   "metadata": {},
   "outputs": [
    {
     "name": "stdout",
     "output_type": "stream",
     "text": [
      "The mean is - 2011-04-01 17:29:53.979933184\n",
      "The varirancethe variance cannot be caclulated using the function var()\n",
      "The standard deviation is - 2631 days 13:20:36.233858400\n",
      "The mode is - 11108.0\n"
     ]
    }
   ],
   "source": [
    "# Calculating the decriptive statistics for the variable \"month\"\n",
    "mean = fl.month.mean()\n",
    "# var = df.month.var()\n",
    "std = fl.month.std()\n",
    "mode = statistics.mode(fl.handgun)\n",
    "print(f\"The mean is - {mean}\") \n",
    "print(f\"The varirancethe variance cannot be caclulated using the function var()\")\n",
    "print(f\"The standard deviation is - {std}\")\n",
    "print(f\"The mode is - {mode}\")"
   ]
  },
  {
   "cell_type": "code",
   "execution_count": 201,
   "id": "1694a1e8",
   "metadata": {},
   "outputs": [
    {
     "name": "stdout",
     "output_type": "stream",
     "text": [
      "The mean is - 35046.37\n",
      "The varirancethe is - 513599093.27\n",
      "The standard deviation is - 22662.72\n",
      "The mode is - 11108.00\n"
     ]
    }
   ],
   "source": [
    "# Calculating the decriptive statistics for the variable \"handgun\"\n",
    "mean = fl.handgun.mean()\n",
    "var = fl.handgun.var()\n",
    "std = fl.handgun.std()\n",
    "mode = statistics.mode(fl.handgun)\n",
    "print(f\"The mean is - {mean:.2f}\") \n",
    "print(f\"The varirancethe is - {var:.2f}\")\n",
    "print(f\"The standard deviation is - {std:.2f}\")\n",
    "print(f\"The mode is - {mode:.2f}\")"
   ]
  },
  {
   "cell_type": "code",
   "execution_count": 202,
   "id": "8a46b133",
   "metadata": {},
   "outputs": [
    {
     "name": "stdout",
     "output_type": "stream",
     "text": [
      "The mean is - 18728.80\n",
      "The varirancethe is - 70539246.23\n",
      "The standard deviation is - 8398.76\n",
      "The mode is - 22852.00\n"
     ]
    }
   ],
   "source": [
    "# Calculating the decriptive statistics for the variable \"long_gun\"\n",
    "mean = fl.long_gun.mean()\n",
    "var = fl.long_gun.var()\n",
    "std = fl.long_gun.std()\n",
    "mode = statistics.mode(fl.long_gun)\n",
    "print(f\"The mean is - {mean:.2f}\") \n",
    "print(f\"The varirancethe is - {var:.2f}\")\n",
    "print(f\"The standard deviation is - {std:.2f}\")\n",
    "print(f\"The mode is - {mode:.2f}\")"
   ]
  },
  {
   "cell_type": "code",
   "execution_count": 203,
   "id": "b8869c96",
   "metadata": {},
   "outputs": [
    {
     "name": "stdout",
     "output_type": "stream",
     "text": [
      "The mean is - 1533.53\n",
      "The varirancethe is - 1133495.39\n",
      "The standard deviation is - 1064.66\n",
      "The mode is - 2495.00\n"
     ]
    }
   ],
   "source": [
    "# Calculating the decriptive statistics for the variable \"multiple\"\n",
    "mean = fl.multiple.mean()\n",
    "var = fl.multiple.var()\n",
    "std = fl.multiple.std()\n",
    "mode = statistics.mode(fl.multiple)\n",
    "print(f\"The mean is - {mean:.2f}\") \n",
    "print(f\"The varirancethe is - {var:.2f}\")\n",
    "print(f\"The standard deviation is - {std:.2f}\")\n",
    "print(f\"The mode is - {mode:.2f}\")"
   ]
  },
  {
   "cell_type": "code",
   "execution_count": 204,
   "id": "092a4fc5",
   "metadata": {},
   "outputs": [
    {
     "name": "stdout",
     "output_type": "stream",
     "text": [
      "The mean is - 68743.72\n",
      "The varirancethe is - 1930902443.18\n",
      "The standard deviation is - 43942.04\n",
      "The mode is - 95281.00\n"
     ]
    }
   ],
   "source": [
    "# Calculating the decriptive statistics for the variable \"totasl\"\n",
    "mean = fl.totals.mean()\n",
    "var = fl.totals.var()\n",
    "std = fl.totals.std()\n",
    "mode = statistics.mode(fl.totals)\n",
    "print(f\"The mean is - {mean:.2f}\") \n",
    "print(f\"The varirancethe is - {var:.2f}\")\n",
    "print(f\"The standard deviation is - {std:.2f}\")\n",
    "print(f\"The mode is - {mode:.2f}\")"
   ]
  },
  {
   "cell_type": "markdown",
   "id": "505ae9fa",
   "metadata": {},
   "source": [
    "## Compare Two Scenarios in Your Data Using a PMF"
   ]
  },
  {
   "cell_type": "markdown",
   "id": "d4348568",
   "metadata": {},
   "source": [
    "The section immidtaileyt below this is my attempt to understand why the PMF values were much lower than the examples from the book. My understanding is that the probablites of each value are inherently low. Perhaps this is an indication of many outliers? "
   ]
  },
  {
   "cell_type": "code",
   "execution_count": 205,
   "id": "6332921f",
   "metadata": {},
   "outputs": [],
   "source": [
    "probabilities = fl['handgun'].value_counts(normalize=True)"
   ]
  },
  {
   "cell_type": "code",
   "execution_count": 206,
   "id": "8fbba83c",
   "metadata": {},
   "outputs": [
    {
     "data": {
      "text/plain": [
       "11108.0    0.006689\n",
       "51223.0    0.003344\n",
       "19701.0    0.003344\n",
       "17970.0    0.003344\n",
       "18006.0    0.003344\n",
       "             ...   \n",
       "39592.0    0.003344\n",
       "42570.0    0.003344\n",
       "42171.0    0.003344\n",
       "40647.0    0.003344\n",
       "319.0      0.003344\n",
       "Name: handgun, Length: 298, dtype: float64"
      ]
     },
     "execution_count": 206,
     "metadata": {},
     "output_type": "execute_result"
    }
   ],
   "source": [
    "probabilities # Viewing the values of the variable probabilities"
   ]
  },
  {
   "cell_type": "code",
   "execution_count": 207,
   "id": "8f938c2b",
   "metadata": {},
   "outputs": [
    {
     "data": {
      "text/plain": [
       "<AxesSubplot:ylabel='Density'>"
      ]
     },
     "execution_count": 207,
     "metadata": {},
     "output_type": "execute_result"
    },
    {
     "data": {
      "image/png": "[encoded data removed]",
      "text/plain": [
       "<Figure size 432x288 with 1 Axes>"
      ]
     },
     "metadata": {
      "needs_background": "light"
     },
     "output_type": "display_data"
    }
   ],
   "source": [
    "probabilities.plot(kind='density') # Plottiny probability density "
   ]
  },
  {
   "cell_type": "code",
   "execution_count": 208,
   "id": "29fcadec",
   "metadata": {},
   "outputs": [],
   "source": [
    "# Using author provided code to calcualte PMFs\n",
    "fl_pmf = thinkstats2.Pmf(fl.handgun, label = \"Florida multiples\") \n",
    "others_pmf = thinkstats2.Pmf(others.handgun, label = \"Others multiple\")"
   ]
  },
  {
   "cell_type": "code",
   "execution_count": 209,
   "id": "771db6c3",
   "metadata": {},
   "outputs": [
    {
     "data": {
      "image/png": "[encoded data removed]",
      "text/plain": [
       "<Figure size 864x432 with 2 Axes>"
      ]
     },
     "metadata": {
      "needs_background": "light"
     },
     "output_type": "display_data"
    }
   ],
   "source": [
    "# Using the author code to plot the PMFs\n",
    "\n",
    "thinkplot.PrePlot(2, cols=2)\n",
    "thinkplot.Hist(fl_pmf, align=\"right\")\n",
    "thinkplot.Hist(others_pmf, align=\"left\")\n",
    "thinkplot.Config(xlabel=\"handgun\", ylabel=\"PMF\")\n",
    "\n",
    "thinkplot.PrePlot(2)\n",
    "thinkplot.SubPlot(2)\n",
    "thinkplot.Pmfs([fl_pmf, others_pmf])\n",
    "thinkplot.Config(xlabel=\"handgun\")"
   ]
  },
  {
   "cell_type": "markdown",
   "id": "896fa0e9",
   "metadata": {},
   "source": [
    "I am currently unsure of why the plots are the way they are, it appears the PMF values are low, and when looking to the book for a refrence the values for PMF are much higher (in the book). "
   ]
  },
  {
   "cell_type": "markdown",
   "id": "a8282739",
   "metadata": {},
   "source": [
    "## Create 1 CDF With One of Your Variables"
   ]
  },
  {
   "cell_type": "code",
   "execution_count": 210,
   "id": "a1bad366",
   "metadata": {},
   "outputs": [],
   "source": [
    "# Using the author provided code to calcualte CDF\n",
    "cdf = thinkstats2.Cdf(fl.totals, label = \"totals\")"
   ]
  },
  {
   "cell_type": "code",
   "execution_count": 211,
   "id": "744001a9",
   "metadata": {},
   "outputs": [
    {
     "data": {
      "image/png": "[encoded data removed]",
      "text/plain": [
       "<Figure size 432x288 with 1 Axes>"
      ]
     },
     "metadata": {
      "needs_background": "light"
     },
     "output_type": "display_data"
    },
    {
     "data": {
      "text/plain": [
       "<Figure size 576x432 with 0 Axes>"
      ]
     },
     "metadata": {},
     "output_type": "display_data"
    }
   ],
   "source": [
    "# Using the author provided code to plot CDF\n",
    "thinkplot.Cdf(cdf)\n",
    "thinkplot.Show(xlabel = \"Total Background Checks Florida\", ylabel = \"CDF\" )"
   ]
  },
  {
   "cell_type": "markdown",
   "id": "8b09c18d",
   "metadata": {},
   "source": [
    "The CDF of the variable \"totals\" for the Floirda subset \"fl\" illustrates a few different points. One is that common values are indicated as more vertical section of the CDF plot, another is that we can see that roughly 90% of values fall within 150,000. "
   ]
  },
  {
   "cell_type": "markdown",
   "id": "2ed11db8",
   "metadata": {},
   "source": [
    "## Plot 1 Analytical Distribution and Provide Your Analysis on How it Applies to the Dataset You Have Chosen"
   ]
  },
  {
   "cell_type": "markdown",
   "id": "36a30530",
   "metadata": {},
   "source": [
    "I chose to run a lognormal distribution model on the dataset. "
   ]
  },
  {
   "cell_type": "code",
   "execution_count": 212,
   "id": "9119de61",
   "metadata": {},
   "outputs": [],
   "source": [
    "def MakeNormalModel(x): # Modified the code provided by the author to better represent a different data set.\n",
    "    \"\"\"Plots a CDF with a Normal model.\n",
    "\n",
    "    x: sequence\n",
    "    \"\"\"\n",
    "    cdf = thinkstats2.Cdf(x, label=\"x\")\n",
    "\n",
    "    mean, var = thinkstats2.TrimmedMeanVar(x)\n",
    "    std = np.sqrt(var)\n",
    "    print(\"n, mean, std\", len(x), mean, std)\n",
    "\n",
    "    xmin = mean - 4 * std\n",
    "    xmax = mean + 4 * std\n",
    "\n",
    "    xs, ps = thinkstats2.RenderNormalCdf(mean, std, xmin, xmax)\n",
    "    thinkplot.Plot(xs, ps, label=\"model\", linewidth=4, color=\"0.8\")\n",
    "    thinkplot.Cdf(cdf)"
   ]
  },
  {
   "cell_type": "code",
   "execution_count": 213,
   "id": "e363f71f",
   "metadata": {},
   "outputs": [],
   "source": [
    "bchecks = fl.handgun # Setting the the data frame column to a new variable"
   ]
  },
  {
   "cell_type": "code",
   "execution_count": 214,
   "id": "1a4b4e8d",
   "metadata": {},
   "outputs": [
    {
     "name": "stdout",
     "output_type": "stream",
     "text": [
      "n, mean, std 299 34637.53898305085 21361.940125602738\n"
     ]
    },
    {
     "data": {
      "image/png": "[encoded data removed]",
      "text/plain": [
       "<Figure size 432x288 with 1 Axes>"
      ]
     },
     "metadata": {
      "needs_background": "light"
     },
     "output_type": "display_data"
    }
   ],
   "source": [
    "MakeNormalModel(bchecks) # Uses the function MakeNormalModel which takes a single parameter and plots a lognormal distribution\n",
    "thinkplot.Config(\n",
    "    title=\"Handgun Background Checks, linear scale\",\n",
    "    xlabel=\"Background Checks\",\n",
    "    ylabel=\"CDF\",\n",
    "    loc=\"upper right\",\n",
    ")"
   ]
  },
  {
   "cell_type": "markdown",
   "id": "8e8191b5",
   "metadata": {},
   "source": [
    "The distribution appears to start at zero, my assumption for this is that there are not any negative values for background checks. We can see that the distribution confirms a non normal distribution. "
   ]
  },
  {
   "cell_type": "markdown",
   "id": "eb0ae963",
   "metadata": {},
   "source": [
    "## Create Two Scatter Plots Comparing Two Variables and Provide Your Analysis on Correlation and Causation."
   ]
  },
  {
   "cell_type": "markdown",
   "id": "16c59e24",
   "metadata": {},
   "source": [
    "Remember, covariance, Pearson’s correlation, and Non-Linear Relationships should also be considered during your analysis."
   ]
  },
  {
   "cell_type": "code",
   "execution_count": 215,
   "id": "7bf570a0",
   "metadata": {},
   "outputs": [
    {
     "data": {
      "image/png": "[encoded data removed]",
      "text/plain": [
       "<Figure size 432x288 with 1 Axes>"
      ]
     },
     "metadata": {
      "needs_background": "light"
     },
     "output_type": "display_data"
    },
    {
     "data": {
      "text/plain": [
       "<Figure size 576x432 with 0 Axes>"
      ]
     },
     "metadata": {},
     "output_type": "display_data"
    }
   ],
   "source": [
    "# Using author provided code to plot two different varaibles\n",
    "thinkplot.Scatter(fl.handgun, fl.totals)\n",
    "thinkplot.Show(xlabel = \"Handgun Background Checks (Florida)\", ylabel = \"Total Background Checks (Florida)\")"
   ]
  },
  {
   "cell_type": "code",
   "execution_count": 216,
   "id": "d55c8c8c",
   "metadata": {},
   "outputs": [],
   "source": [
    "# Using author provided code to calculate covariance \n",
    "def Cov(xs, ys, meanx=None, meany=None):\n",
    "    xs = np.asarray(xs)\n",
    "    ys = np.asarray(ys)\n",
    "\n",
    "    if meanx is None:\n",
    "        meanx = np.mean(xs)\n",
    "    if meany is None:\n",
    "        meany = np.mean(ys)\n",
    "\n",
    "    cov = np.dot(xs-meanx, ys-meany) / len(xs)\n",
    "    return cov"
   ]
  },
  {
   "cell_type": "code",
   "execution_count": 217,
   "id": "1aa5c3df",
   "metadata": {},
   "outputs": [
    {
     "data": {
      "text/plain": [
       "975251962.7442647"
      ]
     },
     "execution_count": 217,
     "metadata": {},
     "output_type": "execute_result"
    }
   ],
   "source": [
    "Cov(fl.handgun, fl.totals)"
   ]
  },
  {
   "cell_type": "markdown",
   "id": "08f8dc5a",
   "metadata": {},
   "source": [
    "The covariance value indicates a strong relationship between the two variables."
   ]
  },
  {
   "cell_type": "code",
   "execution_count": 218,
   "id": "ffd71cd7",
   "metadata": {},
   "outputs": [],
   "source": [
    "# Using author provided code to calculate correlation\n",
    "def Corr(xs, ys):\n",
    "    xs = np.asarray(xs)\n",
    "    ys = np.asarray(ys)\n",
    "\n",
    "    meanx, varx = thinkstats2.MeanVar(xs)\n",
    "    meany, vary = thinkstats2.MeanVar(ys)\n",
    "\n",
    "    corr = Cov(xs, ys, meanx, meany) / np.sqrt(varx * vary)\n",
    "    return corr"
   ]
  },
  {
   "cell_type": "code",
   "execution_count": 219,
   "id": "a16f45aa",
   "metadata": {},
   "outputs": [
    {
     "data": {
      "text/plain": [
       "0.9826061252834406"
      ]
     },
     "execution_count": 219,
     "metadata": {},
     "output_type": "execute_result"
    }
   ],
   "source": [
    "Corr(fl.handgun, fl.totals)"
   ]
  },
  {
   "cell_type": "markdown",
   "id": "66228a37",
   "metadata": {},
   "source": [
    "The correlation coefficient is very close to one indicating a strong positive correlation."
   ]
  },
  {
   "cell_type": "code",
   "execution_count": 220,
   "id": "914fcc48",
   "metadata": {},
   "outputs": [
    {
     "data": {
      "image/png": "[encoded data removed]",
      "text/plain": [
       "<Figure size 432x288 with 1 Axes>"
      ]
     },
     "metadata": {
      "needs_background": "light"
     },
     "output_type": "display_data"
    },
    {
     "data": {
      "text/plain": [
       "<Figure size 576x432 with 0 Axes>"
      ]
     },
     "metadata": {},
     "output_type": "display_data"
    }
   ],
   "source": [
    "thinkplot.Scatter(fl.multiple, fl.totals)\n",
    "thinkplot.Show(xlabel = \"Multiple\", ylabel = \"Number of Total Background Checks (Florida)\")"
   ]
  },
  {
   "cell_type": "code",
   "execution_count": 221,
   "id": "67b8f0d9",
   "metadata": {},
   "outputs": [
    {
     "data": {
      "text/plain": [
       "44226207.53130278"
      ]
     },
     "execution_count": 221,
     "metadata": {},
     "output_type": "execute_result"
    }
   ],
   "source": [
    "Cov(fl.multiple, fl.totals)"
   ]
  },
  {
   "cell_type": "markdown",
   "id": "b6dc7eed",
   "metadata": {},
   "source": [
    "The covariance value once again indicates a strong relationship between the two variables."
   ]
  },
  {
   "cell_type": "code",
   "execution_count": 222,
   "id": "2c486177",
   "metadata": {},
   "outputs": [
    {
     "data": {
      "text/plain": [
       "0.9485158193821798"
      ]
     },
     "execution_count": 222,
     "metadata": {},
     "output_type": "execute_result"
    }
   ],
   "source": [
    "Corr(fl.multiple, fl.totals)"
   ]
  },
  {
   "cell_type": "markdown",
   "id": "d70b5b04",
   "metadata": {},
   "source": [
    "The correlation coefficient is again close to one, although slightly less than the previous correlation coefficient, indicating a strong positive correlation."
   ]
  },
  {
   "cell_type": "markdown",
   "id": "35b49202",
   "metadata": {},
   "source": [
    "### An Additional Scatterplot for My Own Curiosity "
   ]
  },
  {
   "cell_type": "markdown",
   "id": "caeadaf1",
   "metadata": {},
   "source": [
    "Additonal Scatterplot below not required, but I wanted to see how the \"month\" variable interacted with the number of background checks."
   ]
  },
  {
   "cell_type": "code",
   "execution_count": 223,
   "id": "c99edd42",
   "metadata": {},
   "outputs": [
    {
     "data": {
      "image/png": "[encoded data removed]",
      "text/plain": [
       "<Figure size 432x288 with 1 Axes>"
      ]
     },
     "metadata": {
      "needs_background": "light"
     },
     "output_type": "display_data"
    },
    {
     "data": {
      "text/plain": [
       "<Figure size 576x432 with 0 Axes>"
      ]
     },
     "metadata": {},
     "output_type": "display_data"
    }
   ],
   "source": [
    "thinkplot.Scatter(fl.month, fl.totals)\n",
    "thinkplot.Show(xlabel = \"Years\", ylabel = \"Number of Total Background Checks (Florida)\")"
   ]
  },
  {
   "cell_type": "markdown",
   "id": "6b61e238",
   "metadata": {},
   "source": [
    "There appears to be a clear positive correlation between month and background checks. "
   ]
  },
  {
   "cell_type": "markdown",
   "id": "d4dc5772",
   "metadata": {},
   "source": [
    "## Conduct a Test on Your Hypothesis"
   ]
  },
  {
   "cell_type": "code",
   "execution_count": 224,
   "id": "a2dbb84f",
   "metadata": {},
   "outputs": [],
   "source": [
    "# Using the author provided code to run a Hypothesis Test\n",
    "\n",
    "class DiffMeansPermute(thinkstats2.HypothesisTest):\n",
    "\n",
    "    def TestStatistic(self, data):\n",
    "        group1, group2 = data\n",
    "        test_stat = abs(group1.mean() - group2.mean())\n",
    "        return test_stat\n",
    "\n",
    "    def MakeModel(self):\n",
    "        group1, group2 = self.data\n",
    "        self.n, self.m = len(group1), len(group2)\n",
    "        self.pool = np.hstack((group1, group2))\n",
    "\n",
    "    def RunModel(self):\n",
    "        np.random.shuffle(self.pool)\n",
    "        data = self.pool[:self.n], self.pool[self.n:]\n",
    "        return data"
   ]
  },
  {
   "cell_type": "code",
   "execution_count": 225,
   "id": "4e5ff248",
   "metadata": {},
   "outputs": [],
   "source": [
    "data = fl.handgun, fl.totals # Creating a tuple for the hypothesis test"
   ]
  },
  {
   "cell_type": "code",
   "execution_count": 226,
   "id": "305160c1",
   "metadata": {},
   "outputs": [
    {
     "data": {
      "text/plain": [
       "0.0"
      ]
     },
     "execution_count": 226,
     "metadata": {},
     "output_type": "execute_result"
    }
   ],
   "source": [
    "# Using author provided code to calculate the p-value\n",
    "ht = DiffMeansPermute(data)\n",
    "pvalue = ht.PValue()\n",
    "pvalue"
   ]
  },
  {
   "cell_type": "markdown",
   "id": "fa6de1dd",
   "metadata": {},
   "source": [
    "The p-value is caclulated to be 0.0 (perhaps not quite zero, the authors code may round). This indicates that the null hypothesis is false. "
   ]
  },
  {
   "cell_type": "markdown",
   "id": "0c30851e",
   "metadata": {},
   "source": [
    "## Conduct a Regression Analysis on Either One Dependent and One Xplanatory Variable, or Multiple Explanatory Variables"
   ]
  },
  {
   "cell_type": "code",
   "execution_count": 227,
   "id": "54541aa2",
   "metadata": {},
   "outputs": [],
   "source": [
    "# Using the authors code to perform a linear regression model using the least squares method\n",
    "\n",
    "def LeastSquares(xs, ys):\n",
    "    meanx, varx = MeanVar(xs)\n",
    "    meany = Mean(ys)\n",
    "\n",
    "    slope = Cov(xs, ys, meanx, meany) / varx\n",
    "    inter = meany - slope * meanx\n",
    "\n",
    "    return inter, slope"
   ]
  },
  {
   "cell_type": "code",
   "execution_count": 228,
   "id": "7f6f0a3c",
   "metadata": {},
   "outputs": [],
   "source": [
    "# Setting columns to variables for ease of use\n",
    "totals = fl.totals \n",
    "hg = fl.handgun"
   ]
  },
  {
   "cell_type": "code",
   "execution_count": 229,
   "id": "d2524991",
   "metadata": {},
   "outputs": [
    {
     "data": {
      "text/plain": [
       "(1972.3159038912854, 1.9052304281014152)"
      ]
     },
     "execution_count": 229,
     "metadata": {},
     "output_type": "execute_result"
    }
   ],
   "source": [
    "# Calculating intercept and slope using the code provided by the author\n",
    "inter, slope = LeastSquares(hg,totals)\n",
    "inter, slope"
   ]
  },
  {
   "cell_type": "code",
   "execution_count": 230,
   "id": "f319a4e4",
   "metadata": {},
   "outputs": [],
   "source": [
    "# Using the author provided code to calculate the line of best fit\n",
    "def FitLine(xs, inter, slope):\n",
    "    fit_xs = np.sort(xs)\n",
    "    fit_ys = inter + slope * fit_xs\n",
    "    return fit_xs, fit_ys"
   ]
  },
  {
   "cell_type": "code",
   "execution_count": 231,
   "id": "ee703dd6",
   "metadata": {},
   "outputs": [],
   "source": [
    "# Using the FitLine() function to creat a tuple for plotting \n",
    "fit_xs, fit_ys = FitLine(hg, inter, slope)"
   ]
  },
  {
   "cell_type": "code",
   "execution_count": 232,
   "id": "819a540e",
   "metadata": {},
   "outputs": [
    {
     "data": {
      "image/png": "[encoded data removed]",
      "text/plain": [
       "<Figure size 432x288 with 1 Axes>"
      ]
     },
     "metadata": {
      "needs_background": "light"
     },
     "output_type": "display_data"
    }
   ],
   "source": [
    "# Plotting the linear regression model with the code provide by the author. \n",
    "\n",
    "thinkplot.Scatter(hg, totals, color='blue', alpha=0.1, s=10)\n",
    "thinkplot.Plot(fit_xs, fit_ys, color='white', linewidth=3)\n",
    "thinkplot.Plot(fit_xs, fit_ys, color='red', linewidth=2)\n",
    "thinkplot.Config(xlabel=\"Handgun Background Checks (Florida)\",\n",
    "                 ylabel='Total Background Checks (Florida)',\n",
    "                 legend=False)"
   ]
  }
 ],
 "metadata": {
  "kernelspec": {
   "display_name": "Python 3 (ipykernel)",
   "language": "python",
   "name": "python3"
  },
  "language_info": {
   "codemirror_mode": {
    "name": "ipython",
    "version": 3
   },
   "file_extension": ".py",
   "mimetype": "text/x-python",
   "name": "python",
   "nbconvert_exporter": "python",
   "pygments_lexer": "ipython3",
   "version": "3.9.12"
  }
 },
 "nbformat": 4,
 "nbformat_minor": 5
}
