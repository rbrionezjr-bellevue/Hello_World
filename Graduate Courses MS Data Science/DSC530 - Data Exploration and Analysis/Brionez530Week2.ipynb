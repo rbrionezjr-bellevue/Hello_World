{
 "cells": [
  {
   "cell_type": "markdown",
   "id": "cb462b7a",
   "metadata": {},
   "source": [
    "**Display the text “Hello World! My name is ....\"**"
   ]
  },
  {
   "cell_type": "code",
   "execution_count": 1,
   "id": "63c87099",
   "metadata": {},
   "outputs": [
    {
     "name": "stdout",
     "output_type": "stream",
     "text": [
      "Hello World! My name is Ruben Brionez Jr!\n"
     ]
    }
   ],
   "source": [
    "print(\"Hello World! My name is Ruben Brionez Jr!\")  #print function "
   ]
  },
  {
   "cell_type": "markdown",
   "id": "ea429e0a",
   "metadata": {},
   "source": [
    "**Add two numbers together**"
   ]
  },
  {
   "cell_type": "code",
   "execution_count": 2,
   "id": "edc81438",
   "metadata": {},
   "outputs": [
    {
     "data": {
      "text/plain": [
       "14"
      ]
     },
     "execution_count": 2,
     "metadata": {},
     "output_type": "execute_result"
    }
   ],
   "source": [
    "5 + 9 # Add"
   ]
  },
  {
   "cell_type": "markdown",
   "id": "dc68e6fa",
   "metadata": {},
   "source": [
    "**Subtract a number from another number**"
   ]
  },
  {
   "cell_type": "code",
   "execution_count": 3,
   "id": "1fd5ac66",
   "metadata": {},
   "outputs": [
    {
     "data": {
      "text/plain": [
       "3"
      ]
     },
     "execution_count": 3,
     "metadata": {},
     "output_type": "execute_result"
    }
   ],
   "source": [
    "35 - 32 # Subract"
   ]
  },
  {
   "cell_type": "markdown",
   "id": "951649f2",
   "metadata": {},
   "source": [
    "**Multiply two numbers**"
   ]
  },
  {
   "cell_type": "code",
   "execution_count": 4,
   "id": "2664ec65",
   "metadata": {},
   "outputs": [
    {
     "data": {
      "text/plain": [
       "40"
      ]
     },
     "execution_count": 4,
     "metadata": {},
     "output_type": "execute_result"
    }
   ],
   "source": [
    "5 * 8 # Multiply"
   ]
  },
  {
   "cell_type": "markdown",
   "id": "f9fb6ca6",
   "metadata": {},
   "source": [
    "**Divide between two numbers**"
   ]
  },
  {
   "cell_type": "code",
   "execution_count": 5,
   "id": "ff429b4a",
   "metadata": {},
   "outputs": [
    {
     "data": {
      "text/plain": [
       "11.0"
      ]
     },
     "execution_count": 5,
     "metadata": {},
     "output_type": "execute_result"
    }
   ],
   "source": [
    "88 / 8 # Division"
   ]
  },
  {
   "cell_type": "markdown",
   "id": "47563e36",
   "metadata": {},
   "source": [
    "**Concatenate two strings together (any words)**"
   ]
  },
  {
   "cell_type": "code",
   "execution_count": 6,
   "id": "b6ad06a1",
   "metadata": {},
   "outputs": [
    {
     "data": {
      "text/plain": [
       "'Hello Everyone!'"
      ]
     },
     "execution_count": 6,
     "metadata": {},
     "output_type": "execute_result"
    }
   ],
   "source": [
    "\"Hello\" + \" \" + \"Everyone!\""
   ]
  },
  {
   "cell_type": "markdown",
   "id": "9c681ab3",
   "metadata": {},
   "source": [
    "**Create a list of 4 items (can be strings, numbers, both)**"
   ]
  },
  {
   "cell_type": "code",
   "execution_count": 9,
   "id": "7cb5e164",
   "metadata": {},
   "outputs": [
    {
     "name": "stdout",
     "output_type": "stream",
     "text": [
      "[1, 'Fish', 2, 'Fish']\n"
     ]
    }
   ],
   "source": [
    "list1 = [1, \"Fish\", 2, \"Fish\"]\n",
    "print(list1)"
   ]
  },
  {
   "cell_type": "markdown",
   "id": "547b5b9c",
   "metadata": {},
   "source": [
    "**Append an item to your list (again, can be a string, number)**"
   ]
  },
  {
   "cell_type": "code",
   "execution_count": 7,
   "id": "26a1b386",
   "metadata": {},
   "outputs": [
    {
     "name": "stdout",
     "output_type": "stream",
     "text": [
      "[1, 'Fish', 2, 'Fish', 'appended', 'appended', 'appended']\n",
      "<class 'list'>\n"
     ]
    }
   ],
   "source": [
    "list1.append(\"appended\")\n",
    "print(list1)\n",
    "print(type(list1)) # Used to verify the variable type "
   ]
  },
  {
   "cell_type": "markdown",
   "id": "d2e5ed54",
   "metadata": {},
   "source": [
    "**Create a tuple with 4 items (can be strings, numbers, both)**"
   ]
  },
  {
   "cell_type": "code",
   "execution_count": 11,
   "id": "1a5b36fe",
   "metadata": {},
   "outputs": [
    {
     "name": "stdout",
     "output_type": "stream",
     "text": [
      "(1, 2, 3, 4)\n",
      "<class 'tuple'>\n"
     ]
    }
   ],
   "source": [
    "my_tuple = (1, 2, 3, 4)\n",
    "print(my_tuple)\n",
    "print(type(my_tuple)) # Used to verify the variable type "
   ]
  }
 ],
 "metadata": {
  "kernelspec": {
   "display_name": "Python 3 (ipykernel)",
   "language": "python",
   "name": "python3"
  },
  "language_info": {
   "codemirror_mode": {
    "name": "ipython",
    "version": 3
   },
   "file_extension": ".py",
   "mimetype": "text/x-python",
   "name": "python",
   "nbconvert_exporter": "python",
   "pygments_lexer": "ipython3",
   "version": "3.9.12"
  }
 },
 "nbformat": 4,
 "nbformat_minor": 5
}
