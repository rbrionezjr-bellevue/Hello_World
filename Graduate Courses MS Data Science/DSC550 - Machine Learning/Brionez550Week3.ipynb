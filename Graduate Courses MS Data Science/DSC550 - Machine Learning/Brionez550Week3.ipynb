{
 "cells": [
  {
   "cell_type": "markdown",
   "id": "98a3dde1-80f6-4778-95c3-303c2ca30b6b",
   "metadata": {},
   "source": [
    "# Week 3 Assignment"
   ]
  },
  {
   "cell_type": "markdown",
   "id": "e32cf60b-d6dd-4210-8683-7955cdbfa437",
   "metadata": {},
   "source": [
    "## Part 1: Using the TextBlob Sentiment Analyzer"
   ]
  },
  {
   "cell_type": "markdown",
   "id": "35a41ef9-b374-496c-b94c-604c5edf189f",
   "metadata": {},
   "source": [
    "**Loading Required Libraries**"
   ]
  },
  {
   "cell_type": "code",
   "execution_count": 92,
   "id": "4ee05942-fdf7-4975-aa3d-437c6b1acff1",
   "metadata": {},
   "outputs": [],
   "source": [
    "import numpy as np\n",
    "import pandas as pd"
   ]
  },
  {
   "cell_type": "code",
   "execution_count": 93,
   "id": "0a552be9-29c6-4436-a5b4-5e909e385bd8",
   "metadata": {},
   "outputs": [],
   "source": [
    "from textblob import TextBlob"
   ]
  },
  {
   "cell_type": "markdown",
   "id": "ff4afb0c-12a4-42db-b085-d0758d9fd79f",
   "metadata": {},
   "source": [
    "**Import Data**"
   ]
  },
  {
   "cell_type": "code",
   "execution_count": 94,
   "id": "2c83d425-5da1-486f-a114-41c08c9f8a7d",
   "metadata": {},
   "outputs": [
    {
     "name": "stderr",
     "output_type": "stream",
     "text": [
      "b'Skipping line 43043: expected 2 fields, saw 3\\n'\n"
     ]
    }
   ],
   "source": [
    "unlabeled_df = pd.read_csv(\"unlabeledTrainData.tsv\", sep='\\t', on_bad_lines='warn')"
   ]
  },
  {
   "cell_type": "code",
   "execution_count": 95,
   "id": "190b5c35-017a-40f5-a12f-05e5afed061e",
   "metadata": {},
   "outputs": [],
   "source": [
    "test_df = pd.read_csv('testData.tsv', sep= '\\t')"
   ]
  },
  {
   "cell_type": "code",
   "execution_count": 96,
   "id": "563377b4-9100-4845-a647-92ac1afd2c8e",
   "metadata": {},
   "outputs": [],
   "source": [
    "labeled_df = pd.read_csv(\"labeledTrainData.tsv\", sep= \"\\t\")"
   ]
  },
  {
   "cell_type": "markdown",
   "id": "00c03fba-2fdc-4870-92ed-33b5bc9dbd9c",
   "metadata": {},
   "source": [
    "**Viewing First 5 Rows of DataFrames**"
   ]
  },
  {
   "cell_type": "code",
   "execution_count": 97,
   "id": "bf4664dc-0bf7-401c-ad8c-707ec2ec5e14",
   "metadata": {},
   "outputs": [
    {
     "data": {
      "text/html": [
       "<div>\n",
       "<style scoped>\n",
       "    .dataframe tbody tr th:only-of-type {\n",
       "        vertical-align: middle;\n",
       "    }\n",
       "\n",
       "    .dataframe tbody tr th {\n",
       "        vertical-align: top;\n",
       "    }\n",
       "\n",
       "    .dataframe thead th {\n",
       "        text-align: right;\n",
       "    }\n",
       "</style>\n",
       "<table border=\"1\" class=\"dataframe\">\n",
       "  <thead>\n",
       "    <tr style=\"text-align: right;\">\n",
       "      <th></th>\n",
       "      <th>id</th>\n",
       "      <th>review</th>\n",
       "    </tr>\n",
       "  </thead>\n",
       "  <tbody>\n",
       "    <tr>\n",
       "      <th>0</th>\n",
       "      <td>9999_0</td>\n",
       "      <td>Watching Time Chasers, it obvious that it was ...</td>\n",
       "    </tr>\n",
       "    <tr>\n",
       "      <th>1</th>\n",
       "      <td>45057_0</td>\n",
       "      <td>I saw this film about 20 years ago and remembe...</td>\n",
       "    </tr>\n",
       "    <tr>\n",
       "      <th>2</th>\n",
       "      <td>15561_0</td>\n",
       "      <td>Minor Spoilers&lt;br /&gt;&lt;br /&gt;In New York, Joan Ba...</td>\n",
       "    </tr>\n",
       "    <tr>\n",
       "      <th>3</th>\n",
       "      <td>7161_0</td>\n",
       "      <td>I went to see this film with a great deal of e...</td>\n",
       "    </tr>\n",
       "    <tr>\n",
       "      <th>4</th>\n",
       "      <td>43971_0</td>\n",
       "      <td>Yes, I agree with everyone on this site this m...</td>\n",
       "    </tr>\n",
       "  </tbody>\n",
       "</table>\n",
       "</div>"
      ],
      "text/plain": [
       "        id                                             review\n",
       "0   9999_0  Watching Time Chasers, it obvious that it was ...\n",
       "1  45057_0  I saw this film about 20 years ago and remembe...\n",
       "2  15561_0  Minor Spoilers<br /><br />In New York, Joan Ba...\n",
       "3   7161_0  I went to see this film with a great deal of e...\n",
       "4  43971_0  Yes, I agree with everyone on this site this m..."
      ]
     },
     "execution_count": 97,
     "metadata": {},
     "output_type": "execute_result"
    }
   ],
   "source": [
    "unlabeled_df.head(5)"
   ]
  },
  {
   "cell_type": "code",
   "execution_count": 98,
   "id": "bb867228-d367-410b-a68d-4ce7b771e54a",
   "metadata": {},
   "outputs": [
    {
     "data": {
      "text/html": [
       "<div>\n",
       "<style scoped>\n",
       "    .dataframe tbody tr th:only-of-type {\n",
       "        vertical-align: middle;\n",
       "    }\n",
       "\n",
       "    .dataframe tbody tr th {\n",
       "        vertical-align: top;\n",
       "    }\n",
       "\n",
       "    .dataframe thead th {\n",
       "        text-align: right;\n",
       "    }\n",
       "</style>\n",
       "<table border=\"1\" class=\"dataframe\">\n",
       "  <thead>\n",
       "    <tr style=\"text-align: right;\">\n",
       "      <th></th>\n",
       "      <th>id</th>\n",
       "      <th>review</th>\n",
       "    </tr>\n",
       "  </thead>\n",
       "  <tbody>\n",
       "    <tr>\n",
       "      <th>0</th>\n",
       "      <td>12311_10</td>\n",
       "      <td>Naturally in a film who's main themes are of m...</td>\n",
       "    </tr>\n",
       "    <tr>\n",
       "      <th>1</th>\n",
       "      <td>8348_2</td>\n",
       "      <td>This movie is a disaster within a disaster fil...</td>\n",
       "    </tr>\n",
       "    <tr>\n",
       "      <th>2</th>\n",
       "      <td>5828_4</td>\n",
       "      <td>All in all, this is a movie for kids. We saw i...</td>\n",
       "    </tr>\n",
       "    <tr>\n",
       "      <th>3</th>\n",
       "      <td>7186_2</td>\n",
       "      <td>Afraid of the Dark left me with the impression...</td>\n",
       "    </tr>\n",
       "    <tr>\n",
       "      <th>4</th>\n",
       "      <td>12128_7</td>\n",
       "      <td>A very accurate depiction of small time mob li...</td>\n",
       "    </tr>\n",
       "  </tbody>\n",
       "</table>\n",
       "</div>"
      ],
      "text/plain": [
       "         id                                             review\n",
       "0  12311_10  Naturally in a film who's main themes are of m...\n",
       "1    8348_2  This movie is a disaster within a disaster fil...\n",
       "2    5828_4  All in all, this is a movie for kids. We saw i...\n",
       "3    7186_2  Afraid of the Dark left me with the impression...\n",
       "4   12128_7  A very accurate depiction of small time mob li..."
      ]
     },
     "execution_count": 98,
     "metadata": {},
     "output_type": "execute_result"
    }
   ],
   "source": [
    "test_df.head(5)"
   ]
  },
  {
   "cell_type": "code",
   "execution_count": 99,
   "id": "affb1c7d-564b-4cc3-8169-fe3338ba0cfe",
   "metadata": {},
   "outputs": [
    {
     "data": {
      "text/html": [
       "<div>\n",
       "<style scoped>\n",
       "    .dataframe tbody tr th:only-of-type {\n",
       "        vertical-align: middle;\n",
       "    }\n",
       "\n",
       "    .dataframe tbody tr th {\n",
       "        vertical-align: top;\n",
       "    }\n",
       "\n",
       "    .dataframe thead th {\n",
       "        text-align: right;\n",
       "    }\n",
       "</style>\n",
       "<table border=\"1\" class=\"dataframe\">\n",
       "  <thead>\n",
       "    <tr style=\"text-align: right;\">\n",
       "      <th></th>\n",
       "      <th>id</th>\n",
       "      <th>sentiment</th>\n",
       "      <th>review</th>\n",
       "    </tr>\n",
       "  </thead>\n",
       "  <tbody>\n",
       "    <tr>\n",
       "      <th>0</th>\n",
       "      <td>5814_8</td>\n",
       "      <td>1</td>\n",
       "      <td>With all this stuff going down at the moment w...</td>\n",
       "    </tr>\n",
       "    <tr>\n",
       "      <th>1</th>\n",
       "      <td>2381_9</td>\n",
       "      <td>1</td>\n",
       "      <td>\\The Classic War of the Worlds\\\" by Timothy Hi...</td>\n",
       "    </tr>\n",
       "    <tr>\n",
       "      <th>2</th>\n",
       "      <td>7759_3</td>\n",
       "      <td>0</td>\n",
       "      <td>The film starts with a manager (Nicholas Bell)...</td>\n",
       "    </tr>\n",
       "    <tr>\n",
       "      <th>3</th>\n",
       "      <td>3630_4</td>\n",
       "      <td>0</td>\n",
       "      <td>It must be assumed that those who praised this...</td>\n",
       "    </tr>\n",
       "    <tr>\n",
       "      <th>4</th>\n",
       "      <td>9495_8</td>\n",
       "      <td>1</td>\n",
       "      <td>Superbly trashy and wondrously unpretentious 8...</td>\n",
       "    </tr>\n",
       "  </tbody>\n",
       "</table>\n",
       "</div>"
      ],
      "text/plain": [
       "       id  sentiment                                             review\n",
       "0  5814_8          1  With all this stuff going down at the moment w...\n",
       "1  2381_9          1  \\The Classic War of the Worlds\\\" by Timothy Hi...\n",
       "2  7759_3          0  The film starts with a manager (Nicholas Bell)...\n",
       "3  3630_4          0  It must be assumed that those who praised this...\n",
       "4  9495_8          1  Superbly trashy and wondrously unpretentious 8..."
      ]
     },
     "execution_count": 99,
     "metadata": {},
     "output_type": "execute_result"
    }
   ],
   "source": [
    "labeled_df.head(5)"
   ]
  },
  {
   "cell_type": "markdown",
   "id": "11bab44c-7fc0-4be9-a2c5-07643bb95003",
   "metadata": {},
   "source": [
    "**How many of each positive and negative reviews are there?**"
   ]
  },
  {
   "cell_type": "code",
   "execution_count": 100,
   "id": "adb97b97-1f07-4a02-b8d2-6be3c80ea11e",
   "metadata": {},
   "outputs": [
    {
     "data": {
      "text/plain": [
       "1    12500\n",
       "0    12500\n",
       "Name: sentiment, dtype: int64"
      ]
     },
     "execution_count": 100,
     "metadata": {},
     "output_type": "execute_result"
    }
   ],
   "source": [
    "positive = labeled_df['sentiment'].value_counts()\n",
    "positive"
   ]
  },
  {
   "cell_type": "markdown",
   "id": "403a326a-01e6-4a11-88d9-4dbb6e3bf372",
   "metadata": {},
   "source": [
    "**Use TextBlob to classify each movie review as positive or negative. Assume that a polarity score greater than or equal to zero is a positive sentiment and less than 0 is a negative sentiment.**"
   ]
  },
  {
   "cell_type": "code",
   "execution_count": 101,
   "id": "0af6a5eb-5152-4b37-92b4-069cda487a80",
   "metadata": {},
   "outputs": [
    {
     "data": {
      "text/plain": [
       "-0.8"
      ]
     },
     "execution_count": 101,
     "metadata": {},
     "output_type": "execute_result"
    }
   ],
   "source": [
    "# To better understand TextBlob and the values it returns I need some hands on experimentation\n",
    "text = \"I hate this\" # not a factual statement\n",
    "# using the index of the returned tuple allows access to the value\n",
    "TextBlob(text).sentiment[0] "
   ]
  },
  {
   "cell_type": "code",
   "execution_count": 102,
   "id": "46cdc6f8-f726-4ce4-8dba-cc79a270d600",
   "metadata": {},
   "outputs": [],
   "source": [
    "# create a function to calcuate the sentiment using TexBlob and return a string \n",
    "def sentiment_calc(text):  \n",
    "    try:\n",
    "        # access the polarity of the returned tuple and compare to zero\n",
    "        if TextBlob(text).sentiment[0] >= 0: \n",
    "            return \"Positive\"\n",
    "        else:\n",
    "            return \"Negative\"\n",
    "        \n",
    "    except:\n",
    "        return None\n",
    "\n",
    "# applying the function to all rows in the 'review' column\n",
    "test_df['sentiment'] = test_df['review'].apply(sentiment_calc) "
   ]
  },
  {
   "cell_type": "code",
   "execution_count": 103,
   "id": "13fcaf50-df88-4933-b372-a286f909fbdf",
   "metadata": {},
   "outputs": [],
   "source": [
    "# create a function to calcuate the sentiment using TexBlob and return a number\n",
    "def sentiment_calc_value(text): \n",
    "    try:\n",
    "        # access the polarity of the returned tuple and compare to zero\n",
    "        if TextBlob(text).sentiment[0] >= 0: # access the polarity of the returned tuple and compare to zero\n",
    "            return 1\n",
    "        else:\n",
    "            return 0\n",
    "        \n",
    "    except:\n",
    "        return None\n",
    "# applying the function to all rows in the 'review' column\n",
    "test_df['sentiment_value'] = test_df['review'].apply(sentiment_calc_value) "
   ]
  },
  {
   "cell_type": "code",
   "execution_count": 104,
   "id": "431a443e-6a32-46db-8d0b-1d5826771994",
   "metadata": {},
   "outputs": [
    {
     "data": {
      "text/html": [
       "<div>\n",
       "<style scoped>\n",
       "    .dataframe tbody tr th:only-of-type {\n",
       "        vertical-align: middle;\n",
       "    }\n",
       "\n",
       "    .dataframe tbody tr th {\n",
       "        vertical-align: top;\n",
       "    }\n",
       "\n",
       "    .dataframe thead th {\n",
       "        text-align: right;\n",
       "    }\n",
       "</style>\n",
       "<table border=\"1\" class=\"dataframe\">\n",
       "  <thead>\n",
       "    <tr style=\"text-align: right;\">\n",
       "      <th></th>\n",
       "      <th>id</th>\n",
       "      <th>review</th>\n",
       "      <th>sentiment</th>\n",
       "      <th>sentiment_value</th>\n",
       "    </tr>\n",
       "  </thead>\n",
       "  <tbody>\n",
       "    <tr>\n",
       "      <th>0</th>\n",
       "      <td>12311_10</td>\n",
       "      <td>Naturally in a film who's main themes are of m...</td>\n",
       "      <td>Positive</td>\n",
       "      <td>1</td>\n",
       "    </tr>\n",
       "    <tr>\n",
       "      <th>1</th>\n",
       "      <td>8348_2</td>\n",
       "      <td>This movie is a disaster within a disaster fil...</td>\n",
       "      <td>Positive</td>\n",
       "      <td>1</td>\n",
       "    </tr>\n",
       "    <tr>\n",
       "      <th>2</th>\n",
       "      <td>5828_4</td>\n",
       "      <td>All in all, this is a movie for kids. We saw i...</td>\n",
       "      <td>Positive</td>\n",
       "      <td>1</td>\n",
       "    </tr>\n",
       "    <tr>\n",
       "      <th>3</th>\n",
       "      <td>7186_2</td>\n",
       "      <td>Afraid of the Dark left me with the impression...</td>\n",
       "      <td>Negative</td>\n",
       "      <td>0</td>\n",
       "    </tr>\n",
       "    <tr>\n",
       "      <th>4</th>\n",
       "      <td>12128_7</td>\n",
       "      <td>A very accurate depiction of small time mob li...</td>\n",
       "      <td>Positive</td>\n",
       "      <td>1</td>\n",
       "    </tr>\n",
       "    <tr>\n",
       "      <th>5</th>\n",
       "      <td>2913_8</td>\n",
       "      <td>...as valuable as King Tut's tomb! (OK, maybe ...</td>\n",
       "      <td>Positive</td>\n",
       "      <td>1</td>\n",
       "    </tr>\n",
       "    <tr>\n",
       "      <th>6</th>\n",
       "      <td>4396_1</td>\n",
       "      <td>This has to be one of the biggest misfires eve...</td>\n",
       "      <td>Positive</td>\n",
       "      <td>1</td>\n",
       "    </tr>\n",
       "    <tr>\n",
       "      <th>7</th>\n",
       "      <td>395_2</td>\n",
       "      <td>This is one of those movies I watched, and won...</td>\n",
       "      <td>Positive</td>\n",
       "      <td>1</td>\n",
       "    </tr>\n",
       "    <tr>\n",
       "      <th>8</th>\n",
       "      <td>10616_1</td>\n",
       "      <td>The worst movie i've seen in years (and i've s...</td>\n",
       "      <td>Negative</td>\n",
       "      <td>0</td>\n",
       "    </tr>\n",
       "    <tr>\n",
       "      <th>9</th>\n",
       "      <td>9074_9</td>\n",
       "      <td>Five medical students (Kevin Bacon, David Labr...</td>\n",
       "      <td>Positive</td>\n",
       "      <td>1</td>\n",
       "    </tr>\n",
       "    <tr>\n",
       "      <th>10</th>\n",
       "      <td>9252_3</td>\n",
       "      <td>'The Mill on the Floss' was one of the lesser ...</td>\n",
       "      <td>Positive</td>\n",
       "      <td>1</td>\n",
       "    </tr>\n",
       "    <tr>\n",
       "      <th>11</th>\n",
       "      <td>9896_9</td>\n",
       "      <td>I just saw this film at the phoenix film festi...</td>\n",
       "      <td>Positive</td>\n",
       "      <td>1</td>\n",
       "    </tr>\n",
       "    <tr>\n",
       "      <th>12</th>\n",
       "      <td>574_4</td>\n",
       "      <td>\\The Love Letter\\\" is one of those movies that...</td>\n",
       "      <td>Positive</td>\n",
       "      <td>1</td>\n",
       "    </tr>\n",
       "    <tr>\n",
       "      <th>13</th>\n",
       "      <td>11182_8</td>\n",
       "      <td>Another fantastic offering from the Monkey Isl...</td>\n",
       "      <td>Positive</td>\n",
       "      <td>1</td>\n",
       "    </tr>\n",
       "    <tr>\n",
       "      <th>14</th>\n",
       "      <td>11656_4</td>\n",
       "      <td>This was included on the disk \\Shorts: Volume ...</td>\n",
       "      <td>Positive</td>\n",
       "      <td>1</td>\n",
       "    </tr>\n",
       "    <tr>\n",
       "      <th>15</th>\n",
       "      <td>2322_4</td>\n",
       "      <td>I'm not really much of an Abbott &amp; Costello fa...</td>\n",
       "      <td>Positive</td>\n",
       "      <td>1</td>\n",
       "    </tr>\n",
       "    <tr>\n",
       "      <th>16</th>\n",
       "      <td>8703_1</td>\n",
       "      <td>This movie was dreadful. Biblically very inacc...</td>\n",
       "      <td>Positive</td>\n",
       "      <td>1</td>\n",
       "    </tr>\n",
       "    <tr>\n",
       "      <th>17</th>\n",
       "      <td>7483_1</td>\n",
       "      <td>I don't think I've ever gave something a 1/10 ...</td>\n",
       "      <td>Negative</td>\n",
       "      <td>0</td>\n",
       "    </tr>\n",
       "    <tr>\n",
       "      <th>18</th>\n",
       "      <td>6007_10</td>\n",
       "      <td>Excellent story-telling and cinematography. Po...</td>\n",
       "      <td>Positive</td>\n",
       "      <td>1</td>\n",
       "    </tr>\n",
       "    <tr>\n",
       "      <th>19</th>\n",
       "      <td>12424_4</td>\n",
       "      <td>I completely forgot that I'd seen this within ...</td>\n",
       "      <td>Positive</td>\n",
       "      <td>1</td>\n",
       "    </tr>\n",
       "  </tbody>\n",
       "</table>\n",
       "</div>"
      ],
      "text/plain": [
       "          id                                             review sentiment  \\\n",
       "0   12311_10  Naturally in a film who's main themes are of m...  Positive   \n",
       "1     8348_2  This movie is a disaster within a disaster fil...  Positive   \n",
       "2     5828_4  All in all, this is a movie for kids. We saw i...  Positive   \n",
       "3     7186_2  Afraid of the Dark left me with the impression...  Negative   \n",
       "4    12128_7  A very accurate depiction of small time mob li...  Positive   \n",
       "5     2913_8  ...as valuable as King Tut's tomb! (OK, maybe ...  Positive   \n",
       "6     4396_1  This has to be one of the biggest misfires eve...  Positive   \n",
       "7      395_2  This is one of those movies I watched, and won...  Positive   \n",
       "8    10616_1  The worst movie i've seen in years (and i've s...  Negative   \n",
       "9     9074_9  Five medical students (Kevin Bacon, David Labr...  Positive   \n",
       "10    9252_3  'The Mill on the Floss' was one of the lesser ...  Positive   \n",
       "11    9896_9  I just saw this film at the phoenix film festi...  Positive   \n",
       "12     574_4  \\The Love Letter\\\" is one of those movies that...  Positive   \n",
       "13   11182_8  Another fantastic offering from the Monkey Isl...  Positive   \n",
       "14   11656_4  This was included on the disk \\Shorts: Volume ...  Positive   \n",
       "15    2322_4  I'm not really much of an Abbott & Costello fa...  Positive   \n",
       "16    8703_1  This movie was dreadful. Biblically very inacc...  Positive   \n",
       "17    7483_1  I don't think I've ever gave something a 1/10 ...  Negative   \n",
       "18   6007_10  Excellent story-telling and cinematography. Po...  Positive   \n",
       "19   12424_4  I completely forgot that I'd seen this within ...  Positive   \n",
       "\n",
       "    sentiment_value  \n",
       "0                 1  \n",
       "1                 1  \n",
       "2                 1  \n",
       "3                 0  \n",
       "4                 1  \n",
       "5                 1  \n",
       "6                 1  \n",
       "7                 1  \n",
       "8                 0  \n",
       "9                 1  \n",
       "10                1  \n",
       "11                1  \n",
       "12                1  \n",
       "13                1  \n",
       "14                1  \n",
       "15                1  \n",
       "16                1  \n",
       "17                0  \n",
       "18                1  \n",
       "19                1  "
      ]
     },
     "execution_count": 104,
     "metadata": {},
     "output_type": "execute_result"
    }
   ],
   "source": [
    "# viewing the first 20 rows\n",
    "test_df.head(20) "
   ]
  },
  {
   "cell_type": "markdown",
   "id": "b58c4baa-b886-48b1-878c-615815979444",
   "metadata": {},
   "source": [
    "**Check the accuracy of this model. Is this model better than random guessing?**"
   ]
  },
  {
   "cell_type": "code",
   "execution_count": 105,
   "id": "0612f305-164a-4c02-8143-4952bebe338e",
   "metadata": {},
   "outputs": [],
   "source": [
    "# import additional libraries and methods\n",
    "from sklearn.metrics import accuracy_score"
   ]
  },
  {
   "cell_type": "code",
   "execution_count": 106,
   "id": "e5a9e327-946f-4936-b158-ab67a1667e1e",
   "metadata": {},
   "outputs": [
    {
     "name": "stdout",
     "output_type": "stream",
     "text": [
      "The accuracy of the model is 50.24%\n"
     ]
    }
   ],
   "source": [
    "# using the \"accuracy_score\" method to calcualte the models accuracy. \n",
    "accuracy = accuracy_score(labeled_df[\"sentiment\"],test_df[\"sentiment_value\"]) \n",
    "# multiply by 100 to get a percentage\n",
    "accuracy = accuracy * 100 \n",
    "# printing the output\n",
    "print(f\"The accuracy of the model is {accuracy:.2f}%\") "
   ]
  },
  {
   "cell_type": "markdown",
   "id": "fbaf411b-f624-4f88-931a-44c91eb9658f",
   "metadata": {},
   "source": [
    "## Part 2: Prepping Text for a Custom Model"
   ]
  },
  {
   "cell_type": "markdown",
   "id": "6fc3c36b-aa62-4837-a118-f9f0a0b98308",
   "metadata": {},
   "source": [
    "**Convert All Text to Lowercase Letters.**"
   ]
  },
  {
   "cell_type": "code",
   "execution_count": 107,
   "id": "df6551cb-27ca-44bb-8642-291a01c190b8",
   "metadata": {},
   "outputs": [],
   "source": [
    "# using apply and a lambda to apply the lower() function to all rows in the test dataframe \n",
    "test_df['review'] = test_df['review'].apply(lambda x: x.lower() if isinstance(x, str) else x)"
   ]
  },
  {
   "cell_type": "code",
   "execution_count": 108,
   "id": "b5c23632-a235-428d-829f-fa2e87af0e50",
   "metadata": {},
   "outputs": [
    {
     "data": {
      "text/html": [
       "<div>\n",
       "<style scoped>\n",
       "    .dataframe tbody tr th:only-of-type {\n",
       "        vertical-align: middle;\n",
       "    }\n",
       "\n",
       "    .dataframe tbody tr th {\n",
       "        vertical-align: top;\n",
       "    }\n",
       "\n",
       "    .dataframe thead th {\n",
       "        text-align: right;\n",
       "    }\n",
       "</style>\n",
       "<table border=\"1\" class=\"dataframe\">\n",
       "  <thead>\n",
       "    <tr style=\"text-align: right;\">\n",
       "      <th></th>\n",
       "      <th>id</th>\n",
       "      <th>review</th>\n",
       "      <th>sentiment</th>\n",
       "      <th>sentiment_value</th>\n",
       "    </tr>\n",
       "  </thead>\n",
       "  <tbody>\n",
       "    <tr>\n",
       "      <th>0</th>\n",
       "      <td>12311_10</td>\n",
       "      <td>naturally in a film who's main themes are of m...</td>\n",
       "      <td>Positive</td>\n",
       "      <td>1</td>\n",
       "    </tr>\n",
       "    <tr>\n",
       "      <th>1</th>\n",
       "      <td>8348_2</td>\n",
       "      <td>this movie is a disaster within a disaster fil...</td>\n",
       "      <td>Positive</td>\n",
       "      <td>1</td>\n",
       "    </tr>\n",
       "    <tr>\n",
       "      <th>2</th>\n",
       "      <td>5828_4</td>\n",
       "      <td>all in all, this is a movie for kids. we saw i...</td>\n",
       "      <td>Positive</td>\n",
       "      <td>1</td>\n",
       "    </tr>\n",
       "    <tr>\n",
       "      <th>3</th>\n",
       "      <td>7186_2</td>\n",
       "      <td>afraid of the dark left me with the impression...</td>\n",
       "      <td>Negative</td>\n",
       "      <td>0</td>\n",
       "    </tr>\n",
       "    <tr>\n",
       "      <th>4</th>\n",
       "      <td>12128_7</td>\n",
       "      <td>a very accurate depiction of small time mob li...</td>\n",
       "      <td>Positive</td>\n",
       "      <td>1</td>\n",
       "    </tr>\n",
       "    <tr>\n",
       "      <th>5</th>\n",
       "      <td>2913_8</td>\n",
       "      <td>...as valuable as king tut's tomb! (ok, maybe ...</td>\n",
       "      <td>Positive</td>\n",
       "      <td>1</td>\n",
       "    </tr>\n",
       "    <tr>\n",
       "      <th>6</th>\n",
       "      <td>4396_1</td>\n",
       "      <td>this has to be one of the biggest misfires eve...</td>\n",
       "      <td>Positive</td>\n",
       "      <td>1</td>\n",
       "    </tr>\n",
       "    <tr>\n",
       "      <th>7</th>\n",
       "      <td>395_2</td>\n",
       "      <td>this is one of those movies i watched, and won...</td>\n",
       "      <td>Positive</td>\n",
       "      <td>1</td>\n",
       "    </tr>\n",
       "    <tr>\n",
       "      <th>8</th>\n",
       "      <td>10616_1</td>\n",
       "      <td>the worst movie i've seen in years (and i've s...</td>\n",
       "      <td>Negative</td>\n",
       "      <td>0</td>\n",
       "    </tr>\n",
       "    <tr>\n",
       "      <th>9</th>\n",
       "      <td>9074_9</td>\n",
       "      <td>five medical students (kevin bacon, david labr...</td>\n",
       "      <td>Positive</td>\n",
       "      <td>1</td>\n",
       "    </tr>\n",
       "  </tbody>\n",
       "</table>\n",
       "</div>"
      ],
      "text/plain": [
       "         id                                             review sentiment  \\\n",
       "0  12311_10  naturally in a film who's main themes are of m...  Positive   \n",
       "1    8348_2  this movie is a disaster within a disaster fil...  Positive   \n",
       "2    5828_4  all in all, this is a movie for kids. we saw i...  Positive   \n",
       "3    7186_2  afraid of the dark left me with the impression...  Negative   \n",
       "4   12128_7  a very accurate depiction of small time mob li...  Positive   \n",
       "5    2913_8  ...as valuable as king tut's tomb! (ok, maybe ...  Positive   \n",
       "6    4396_1  this has to be one of the biggest misfires eve...  Positive   \n",
       "7     395_2  this is one of those movies i watched, and won...  Positive   \n",
       "8   10616_1  the worst movie i've seen in years (and i've s...  Negative   \n",
       "9    9074_9  five medical students (kevin bacon, david labr...  Positive   \n",
       "\n",
       "   sentiment_value  \n",
       "0                1  \n",
       "1                1  \n",
       "2                1  \n",
       "3                0  \n",
       "4                1  \n",
       "5                1  \n",
       "6                1  \n",
       "7                1  \n",
       "8                0  \n",
       "9                1  "
      ]
     },
     "execution_count": 108,
     "metadata": {},
     "output_type": "execute_result"
    }
   ],
   "source": [
    "# viewing first 10 rows of dataframe\n",
    "test_df.head(10)"
   ]
  },
  {
   "cell_type": "code",
   "execution_count": 109,
   "id": "32c076a3-a037-4e73-8e5f-9a4d15725061",
   "metadata": {},
   "outputs": [
    {
     "data": {
      "text/plain": [
       "\"naturally in a film who's main themes are of mortality, nostalgia, and loss of innocence it is perhaps not surprising that it is rated more highly by older viewers than younger ones. however there is a craftsmanship and completeness to the film which anyone can enjoy. the pace is steady and constant, the characters full and engaging, the relationships and interactions natural showing that you do not need floods of tears to show emotion, screams to show fear, shouting to show dispute or violence to show anger. naturally joyce's short story lends the film a ready made structure as perfect as a polished diamond, but the small changes huston makes such as the inclusion of the poem fit in neatly. it is truly a masterpiece of tact, subtlety and overwhelming beauty.\""
      ]
     },
     "execution_count": 109,
     "metadata": {},
     "output_type": "execute_result"
    }
   ],
   "source": [
    "# using .iloc to view a single value of a row in the 'review' column\n",
    "test_df.iloc[0,1]"
   ]
  },
  {
   "cell_type": "markdown",
   "id": "fc64a53e-52f6-4623-8217-1ae936294342",
   "metadata": {},
   "source": [
    "**Remove Punctuation and Special Characters From the Text.**"
   ]
  },
  {
   "cell_type": "code",
   "execution_count": 110,
   "id": "0798bdfb-4fe7-4b27-8dd3-897bd93154ac",
   "metadata": {},
   "outputs": [],
   "source": [
    "test_df['review'] = test_df['review'].apply(lambda x: ''.join(char for char in x if char.isalnum() or char.isspace()))\n",
    "# .isalnum() function checks to see if the values in the string are alphanumeric\n",
    "# .ispace() function checks the string for white space values and returns true if \"\\n, \\t, \\r, \\v,\" are found\n",
    "# .join() function joins empty sting in place of the removed characters "
   ]
  },
  {
   "cell_type": "code",
   "execution_count": 111,
   "id": "50b9dcf0-e8a0-41cd-b35c-d7b0f100f809",
   "metadata": {},
   "outputs": [
    {
     "data": {
      "text/plain": [
       "'naturally in a film whos main themes are of mortality nostalgia and loss of innocence it is perhaps not surprising that it is rated more highly by older viewers than younger ones however there is a craftsmanship and completeness to the film which anyone can enjoy the pace is steady and constant the characters full and engaging the relationships and interactions natural showing that you do not need floods of tears to show emotion screams to show fear shouting to show dispute or violence to show anger naturally joyces short story lends the film a ready made structure as perfect as a polished diamond but the small changes huston makes such as the inclusion of the poem fit in neatly it is truly a masterpiece of tact subtlety and overwhelming beauty'"
      ]
     },
     "execution_count": 111,
     "metadata": {},
     "output_type": "execute_result"
    }
   ],
   "source": [
    "# using .iloc to view the results of the changed dataframe for a single value of a row in the 'review' column\n",
    "test_df.iloc[0,1]"
   ]
  },
  {
   "cell_type": "markdown",
   "id": "ed4f2d8c-459b-44c7-9b34-6946a21d7a9c",
   "metadata": {},
   "source": [
    "**Remove Stop Words.**"
   ]
  },
  {
   "cell_type": "code",
   "execution_count": 112,
   "id": "1211c787-969c-4320-af3b-230edb804777",
   "metadata": {},
   "outputs": [],
   "source": [
    "# importing additional required libraries \n",
    "import nltk\n",
    "from nltk.corpus import stopwords"
   ]
  },
  {
   "cell_type": "code",
   "execution_count": 113,
   "id": "f76dd866-7856-405d-a099-c8ca2e02b12c",
   "metadata": {},
   "outputs": [
    {
     "name": "stdout",
     "output_type": "stream",
     "text": [
      "['i', 'me', 'my', 'myself', 'we', 'our', 'ours', 'ourselves', 'you', \"you're\", \"you've\", \"you'll\", \"you'd\", 'your', 'yours', 'yourself', 'yourselves', 'he', 'him', 'his', 'himself', 'she', \"she's\", 'her', 'hers', 'herself', 'it', \"it's\", 'its', 'itself', 'they', 'them', 'their', 'theirs', 'themselves', 'what', 'which', 'who', 'whom', 'this', 'that', \"that'll\", 'these', 'those', 'am', 'is', 'are', 'was', 'were', 'be', 'been', 'being', 'have', 'has', 'had', 'having', 'do', 'does', 'did', 'doing', 'a', 'an', 'the', 'and', 'but', 'if', 'or', 'because', 'as', 'until', 'while', 'of', 'at', 'by', 'for', 'with', 'about', 'against', 'between', 'into', 'through', 'during', 'before', 'after', 'above', 'below', 'to', 'from', 'up', 'down', 'in', 'out', 'on', 'off', 'over', 'under', 'again', 'further', 'then', 'once', 'here', 'there', 'when', 'where', 'why', 'how', 'all', 'any', 'both', 'each', 'few', 'more', 'most', 'other', 'some', 'such', 'no', 'nor', 'not', 'only', 'own', 'same', 'so', 'than', 'too', 'very', 's', 't', 'can', 'will', 'just', 'don', \"don't\", 'should', \"should've\", 'now', 'd', 'll', 'm', 'o', 're', 've', 'y', 'ain', 'aren', \"aren't\", 'couldn', \"couldn't\", 'didn', \"didn't\", 'doesn', \"doesn't\", 'hadn', \"hadn't\", 'hasn', \"hasn't\", 'haven', \"haven't\", 'isn', \"isn't\", 'ma', 'mightn', \"mightn't\", 'mustn', \"mustn't\", 'needn', \"needn't\", 'shan', \"shan't\", 'shouldn', \"shouldn't\", 'wasn', \"wasn't\", 'weren', \"weren't\", 'won', \"won't\", 'wouldn', \"wouldn't\"]\n"
     ]
    },
    {
     "name": "stderr",
     "output_type": "stream",
     "text": [
      "[nltk_data] Downloading package stopwords to\n",
      "[nltk_data]     C:\\Users\\rbrio\\AppData\\Roaming\\nltk_data...\n",
      "[nltk_data]   Package stopwords is already up-to-date!\n"
     ]
    }
   ],
   "source": [
    "# download list of stopwords\n",
    "nltk.download('stopwords')\n",
    "# view list of english stopwords\n",
    "print(stopwords.words('english'))"
   ]
  },
  {
   "cell_type": "code",
   "execution_count": 114,
   "id": "20d51af7-e2ec-4acd-becf-79244ca2eb46",
   "metadata": {},
   "outputs": [],
   "source": [
    "# sets the english stopwards list to the variable 'stop_words'\n",
    "stop_words = stopwords.words('english')\n",
    "\n",
    "# removes the stop words from the review strings\n",
    "test_df['review'] = test_df['review'].apply(lambda x: ' '.join([word for word in x.split() if word not in (stop_words)]))"
   ]
  },
  {
   "cell_type": "code",
   "execution_count": 115,
   "id": "fddefb01-ccb3-4184-9106-de1cd6f7a4b5",
   "metadata": {},
   "outputs": [
    {
     "data": {
      "text/html": [
       "<div>\n",
       "<style scoped>\n",
       "    .dataframe tbody tr th:only-of-type {\n",
       "        vertical-align: middle;\n",
       "    }\n",
       "\n",
       "    .dataframe tbody tr th {\n",
       "        vertical-align: top;\n",
       "    }\n",
       "\n",
       "    .dataframe thead th {\n",
       "        text-align: right;\n",
       "    }\n",
       "</style>\n",
       "<table border=\"1\" class=\"dataframe\">\n",
       "  <thead>\n",
       "    <tr style=\"text-align: right;\">\n",
       "      <th></th>\n",
       "      <th>id</th>\n",
       "      <th>review</th>\n",
       "      <th>sentiment</th>\n",
       "      <th>sentiment_value</th>\n",
       "    </tr>\n",
       "  </thead>\n",
       "  <tbody>\n",
       "    <tr>\n",
       "      <th>0</th>\n",
       "      <td>12311_10</td>\n",
       "      <td>naturally film whos main themes mortality nost...</td>\n",
       "      <td>Positive</td>\n",
       "      <td>1</td>\n",
       "    </tr>\n",
       "    <tr>\n",
       "      <th>1</th>\n",
       "      <td>8348_2</td>\n",
       "      <td>movie disaster within disaster film full great...</td>\n",
       "      <td>Positive</td>\n",
       "      <td>1</td>\n",
       "    </tr>\n",
       "    <tr>\n",
       "      <th>2</th>\n",
       "      <td>5828_4</td>\n",
       "      <td>movie kids saw tonight child loved one point k...</td>\n",
       "      <td>Positive</td>\n",
       "      <td>1</td>\n",
       "    </tr>\n",
       "    <tr>\n",
       "      <th>3</th>\n",
       "      <td>7186_2</td>\n",
       "      <td>afraid dark left impression several different ...</td>\n",
       "      <td>Negative</td>\n",
       "      <td>0</td>\n",
       "    </tr>\n",
       "    <tr>\n",
       "      <th>4</th>\n",
       "      <td>12128_7</td>\n",
       "      <td>accurate depiction small time mob life filmed ...</td>\n",
       "      <td>Positive</td>\n",
       "      <td>1</td>\n",
       "    </tr>\n",
       "    <tr>\n",
       "      <th>5</th>\n",
       "      <td>2913_8</td>\n",
       "      <td>valuable king tuts tomb ok maybe valuable wort...</td>\n",
       "      <td>Positive</td>\n",
       "      <td>1</td>\n",
       "    </tr>\n",
       "    <tr>\n",
       "      <th>6</th>\n",
       "      <td>4396_1</td>\n",
       "      <td>one biggest misfires everthe script nice could...</td>\n",
       "      <td>Positive</td>\n",
       "      <td>1</td>\n",
       "    </tr>\n",
       "    <tr>\n",
       "      <th>7</th>\n",
       "      <td>395_2</td>\n",
       "      <td>one movies watched wondered watch find interes...</td>\n",
       "      <td>Positive</td>\n",
       "      <td>1</td>\n",
       "    </tr>\n",
       "    <tr>\n",
       "      <th>8</th>\n",
       "      <td>10616_1</td>\n",
       "      <td>worst movie ive seen years ive seen lot movies...</td>\n",
       "      <td>Negative</td>\n",
       "      <td>0</td>\n",
       "    </tr>\n",
       "    <tr>\n",
       "      <th>9</th>\n",
       "      <td>9074_9</td>\n",
       "      <td>five medical students kevin bacon david labrac...</td>\n",
       "      <td>Positive</td>\n",
       "      <td>1</td>\n",
       "    </tr>\n",
       "  </tbody>\n",
       "</table>\n",
       "</div>"
      ],
      "text/plain": [
       "         id                                             review sentiment  \\\n",
       "0  12311_10  naturally film whos main themes mortality nost...  Positive   \n",
       "1    8348_2  movie disaster within disaster film full great...  Positive   \n",
       "2    5828_4  movie kids saw tonight child loved one point k...  Positive   \n",
       "3    7186_2  afraid dark left impression several different ...  Negative   \n",
       "4   12128_7  accurate depiction small time mob life filmed ...  Positive   \n",
       "5    2913_8  valuable king tuts tomb ok maybe valuable wort...  Positive   \n",
       "6    4396_1  one biggest misfires everthe script nice could...  Positive   \n",
       "7     395_2  one movies watched wondered watch find interes...  Positive   \n",
       "8   10616_1  worst movie ive seen years ive seen lot movies...  Negative   \n",
       "9    9074_9  five medical students kevin bacon david labrac...  Positive   \n",
       "\n",
       "   sentiment_value  \n",
       "0                1  \n",
       "1                1  \n",
       "2                1  \n",
       "3                0  \n",
       "4                1  \n",
       "5                1  \n",
       "6                1  \n",
       "7                1  \n",
       "8                0  \n",
       "9                1  "
      ]
     },
     "execution_count": 115,
     "metadata": {},
     "output_type": "execute_result"
    }
   ],
   "source": [
    "test_df.head(10)"
   ]
  },
  {
   "cell_type": "code",
   "execution_count": 116,
   "id": "26653b9d-d1b9-41fc-a8a4-6215164ddf8b",
   "metadata": {},
   "outputs": [
    {
     "data": {
      "text/plain": [
       "'naturally film whos main themes mortality nostalgia loss innocence perhaps surprising rated highly older viewers younger ones however craftsmanship completeness film anyone enjoy pace steady constant characters full engaging relationships interactions natural showing need floods tears show emotion screams show fear shouting show dispute violence show anger naturally joyces short story lends film ready made structure perfect polished diamond small changes huston makes inclusion poem fit neatly truly masterpiece tact subtlety overwhelming beauty'"
      ]
     },
     "execution_count": 116,
     "metadata": {},
     "output_type": "execute_result"
    }
   ],
   "source": [
    "# viewing the row data for my own review\n",
    "test_df.iloc[0,1]"
   ]
  },
  {
   "cell_type": "markdown",
   "id": "a5056502-a82c-4f03-b35b-b735c31540ac",
   "metadata": {},
   "source": [
    "**Apply NLTK’s PorterStemmer.**"
   ]
  },
  {
   "cell_type": "code",
   "execution_count": 117,
   "id": "0ca36a48-cbf6-4357-9ad1-65968b0ce723",
   "metadata": {},
   "outputs": [],
   "source": [
    "# load additional required modules\n",
    "import nltk\n",
    "from nltk.stem import PorterStemmer\n",
    "from nltk.tokenize import word_tokenize\n",
    "from functools import reduce"
   ]
  },
  {
   "cell_type": "code",
   "execution_count": 118,
   "id": "d7572a60-023b-4894-84e8-8e08f1263b96",
   "metadata": {},
   "outputs": [],
   "source": [
    "# initializing porter_stemmer variable with the PorterStemmer() function\n",
    "porter_stemmer = PorterStemmer()"
   ]
  },
  {
   "cell_type": "code",
   "execution_count": 119,
   "id": "5211a125",
   "metadata": {},
   "outputs": [],
   "source": [
    "# creating a tokenized_sentence column\n",
    "test_df['tokenized_sentence'] = test_df.apply(lambda row: nltk.word_tokenize(row['review']), axis=1)\n",
    "# creating a stem column\n",
    "test_df['stem'] = test_df['tokenized_sentence'].apply(lambda x : [porter_stemmer.stem(y) for y in x])"
   ]
  },
  {
   "cell_type": "code",
   "execution_count": 120,
   "id": "38507f64-6de4-4fce-9e6a-fc547e4ee1d4",
   "metadata": {},
   "outputs": [
    {
     "data": {
      "text/html": [
       "<div>\n",
       "<style scoped>\n",
       "    .dataframe tbody tr th:only-of-type {\n",
       "        vertical-align: middle;\n",
       "    }\n",
       "\n",
       "    .dataframe tbody tr th {\n",
       "        vertical-align: top;\n",
       "    }\n",
       "\n",
       "    .dataframe thead th {\n",
       "        text-align: right;\n",
       "    }\n",
       "</style>\n",
       "<table border=\"1\" class=\"dataframe\">\n",
       "  <thead>\n",
       "    <tr style=\"text-align: right;\">\n",
       "      <th></th>\n",
       "      <th>id</th>\n",
       "      <th>review</th>\n",
       "      <th>sentiment</th>\n",
       "      <th>sentiment_value</th>\n",
       "      <th>tokenized_sentence</th>\n",
       "      <th>stem</th>\n",
       "    </tr>\n",
       "  </thead>\n",
       "  <tbody>\n",
       "    <tr>\n",
       "      <th>0</th>\n",
       "      <td>12311_10</td>\n",
       "      <td>naturally film whos main themes mortality nost...</td>\n",
       "      <td>Positive</td>\n",
       "      <td>1</td>\n",
       "      <td>[naturally, film, whos, main, themes, mortalit...</td>\n",
       "      <td>[natur, film, who, main, theme, mortal, nostal...</td>\n",
       "    </tr>\n",
       "    <tr>\n",
       "      <th>1</th>\n",
       "      <td>8348_2</td>\n",
       "      <td>movie disaster within disaster film full great...</td>\n",
       "      <td>Positive</td>\n",
       "      <td>1</td>\n",
       "      <td>[movie, disaster, within, disaster, film, full...</td>\n",
       "      <td>[movi, disast, within, disast, film, full, gre...</td>\n",
       "    </tr>\n",
       "    <tr>\n",
       "      <th>2</th>\n",
       "      <td>5828_4</td>\n",
       "      <td>movie kids saw tonight child loved one point k...</td>\n",
       "      <td>Positive</td>\n",
       "      <td>1</td>\n",
       "      <td>[movie, kids, saw, tonight, child, loved, one,...</td>\n",
       "      <td>[movi, kid, saw, tonight, child, love, one, po...</td>\n",
       "    </tr>\n",
       "    <tr>\n",
       "      <th>3</th>\n",
       "      <td>7186_2</td>\n",
       "      <td>afraid dark left impression several different ...</td>\n",
       "      <td>Negative</td>\n",
       "      <td>0</td>\n",
       "      <td>[afraid, dark, left, impression, several, diff...</td>\n",
       "      <td>[afraid, dark, left, impress, sever, differ, s...</td>\n",
       "    </tr>\n",
       "    <tr>\n",
       "      <th>4</th>\n",
       "      <td>12128_7</td>\n",
       "      <td>accurate depiction small time mob life filmed ...</td>\n",
       "      <td>Positive</td>\n",
       "      <td>1</td>\n",
       "      <td>[accurate, depiction, small, time, mob, life, ...</td>\n",
       "      <td>[accur, depict, small, time, mob, life, film, ...</td>\n",
       "    </tr>\n",
       "  </tbody>\n",
       "</table>\n",
       "</div>"
      ],
      "text/plain": [
       "         id                                             review sentiment  \\\n",
       "0  12311_10  naturally film whos main themes mortality nost...  Positive   \n",
       "1    8348_2  movie disaster within disaster film full great...  Positive   \n",
       "2    5828_4  movie kids saw tonight child loved one point k...  Positive   \n",
       "3    7186_2  afraid dark left impression several different ...  Negative   \n",
       "4   12128_7  accurate depiction small time mob life filmed ...  Positive   \n",
       "\n",
       "   sentiment_value                                 tokenized_sentence  \\\n",
       "0                1  [naturally, film, whos, main, themes, mortalit...   \n",
       "1                1  [movie, disaster, within, disaster, film, full...   \n",
       "2                1  [movie, kids, saw, tonight, child, loved, one,...   \n",
       "3                0  [afraid, dark, left, impression, several, diff...   \n",
       "4                1  [accurate, depiction, small, time, mob, life, ...   \n",
       "\n",
       "                                                stem  \n",
       "0  [natur, film, who, main, theme, mortal, nostal...  \n",
       "1  [movi, disast, within, disast, film, full, gre...  \n",
       "2  [movi, kid, saw, tonight, child, love, one, po...  \n",
       "3  [afraid, dark, left, impress, sever, differ, s...  \n",
       "4  [accur, depict, small, time, mob, life, film, ...  "
      ]
     },
     "execution_count": 120,
     "metadata": {},
     "output_type": "execute_result"
    }
   ],
   "source": [
    "test_df.head(5)"
   ]
  },
  {
   "cell_type": "markdown",
   "id": "a8e8e3e6-fce8-476d-9233-f87f5d45fcb9",
   "metadata": {},
   "source": [
    "**Create a bag-of-words matrix from your stemmed text (output from (4)), where each row is a word-count vector for a single movie review (see sections 5.3 & 6.8 in the Machine Learning with Python Cookbook). Display the dimensions of your bag-of-words matrix. The number of rows in this matrix should be the same as the number of rows in your original data frame.**"
   ]
  },
  {
   "cell_type": "code",
   "execution_count": 121,
   "id": "16719837",
   "metadata": {},
   "outputs": [],
   "source": [
    "# importing additonal required libraries and methods\n",
    "from sklearn.feature_extraction import DictVectorizer"
   ]
  },
  {
   "cell_type": "code",
   "execution_count": 122,
   "id": "3198a9e5",
   "metadata": {},
   "outputs": [],
   "source": [
    "# initialize the variable dictvectorizer with the function DictVectorizer()\n",
    "dictvectorizer = DictVectorizer(sparse=False)"
   ]
  },
  {
   "cell_type": "code",
   "execution_count": 123,
   "id": "4b2de9b9",
   "metadata": {},
   "outputs": [],
   "source": [
    "# creating a stemmed words dataframe to use the index as a key and row contents as the value for the dictionary\n",
    "stemmed_words = test_df[['stem']]"
   ]
  },
  {
   "cell_type": "code",
   "execution_count": 124,
   "id": "eb2a77ba",
   "metadata": {},
   "outputs": [
    {
     "data": {
      "text/html": [
       "<div>\n",
       "<style scoped>\n",
       "    .dataframe tbody tr th:only-of-type {\n",
       "        vertical-align: middle;\n",
       "    }\n",
       "\n",
       "    .dataframe tbody tr th {\n",
       "        vertical-align: top;\n",
       "    }\n",
       "\n",
       "    .dataframe thead th {\n",
       "        text-align: right;\n",
       "    }\n",
       "</style>\n",
       "<table border=\"1\" class=\"dataframe\">\n",
       "  <thead>\n",
       "    <tr style=\"text-align: right;\">\n",
       "      <th></th>\n",
       "      <th>stem</th>\n",
       "    </tr>\n",
       "  </thead>\n",
       "  <tbody>\n",
       "    <tr>\n",
       "      <th>0</th>\n",
       "      <td>[natur, film, who, main, theme, mortal, nostal...</td>\n",
       "    </tr>\n",
       "    <tr>\n",
       "      <th>1</th>\n",
       "      <td>[movi, disast, within, disast, film, full, gre...</td>\n",
       "    </tr>\n",
       "    <tr>\n",
       "      <th>2</th>\n",
       "      <td>[movi, kid, saw, tonight, child, love, one, po...</td>\n",
       "    </tr>\n",
       "    <tr>\n",
       "      <th>3</th>\n",
       "      <td>[afraid, dark, left, impress, sever, differ, s...</td>\n",
       "    </tr>\n",
       "    <tr>\n",
       "      <th>4</th>\n",
       "      <td>[accur, depict, small, time, mob, life, film, ...</td>\n",
       "    </tr>\n",
       "  </tbody>\n",
       "</table>\n",
       "</div>"
      ],
      "text/plain": [
       "                                                stem\n",
       "0  [natur, film, who, main, theme, mortal, nostal...\n",
       "1  [movi, disast, within, disast, film, full, gre...\n",
       "2  [movi, kid, saw, tonight, child, love, one, po...\n",
       "3  [afraid, dark, left, impress, sever, differ, s...\n",
       "4  [accur, depict, small, time, mob, life, film, ..."
      ]
     },
     "execution_count": 124,
     "metadata": {},
     "output_type": "execute_result"
    }
   ],
   "source": [
    "# viewing dataframe\n",
    "stemmed_words.head(5)"
   ]
  },
  {
   "cell_type": "code",
   "execution_count": 125,
   "id": "15947e83",
   "metadata": {},
   "outputs": [],
   "source": [
    "# converting the dataframe to a dictionary by rows\n",
    "stemmed_words_dict = stemmed_words.to_dict('records')"
   ]
  },
  {
   "cell_type": "code",
   "execution_count": 126,
   "id": "42a6c78b",
   "metadata": {},
   "outputs": [
    {
     "data": {
      "text/plain": [
       "list"
      ]
     },
     "execution_count": 126,
     "metadata": {},
     "output_type": "execute_result"
    }
   ],
   "source": [
    "# I am not 100% sure why this returned a list instead of a dictionary\n",
    "type(stemmed_words_dict)"
   ]
  },
  {
   "cell_type": "code",
   "execution_count": 127,
   "id": "bfa93a02",
   "metadata": {},
   "outputs": [],
   "source": [
    "# Converts dictionary to feature matrix\n",
    "features = dictvectorizer.fit_transform(stemmed_words_dict)"
   ]
  },
  {
   "cell_type": "code",
   "execution_count": 128,
   "id": "232e068b",
   "metadata": {},
   "outputs": [
    {
     "data": {
      "text/plain": [
       "numpy.ndarray"
      ]
     },
     "execution_count": 128,
     "metadata": {},
     "output_type": "execute_result"
    }
   ],
   "source": [
    "# checking type of variable 'features'\n",
    "type(features)"
   ]
  },
  {
   "cell_type": "code",
   "execution_count": 129,
   "id": "ef2b81a8",
   "metadata": {},
   "outputs": [
    {
     "data": {
      "text/plain": [
       "array([[0., 0., 0., ..., 0., 0., 0.],\n",
       "       [0., 0., 0., ..., 0., 0., 0.],\n",
       "       [0., 0., 0., ..., 0., 0., 0.],\n",
       "       ...,\n",
       "       [0., 0., 0., ..., 0., 0., 0.],\n",
       "       [0., 0., 0., ..., 0., 0., 0.],\n",
       "       [0., 0., 0., ..., 0., 0., 0.]])"
      ]
     },
     "execution_count": 129,
     "metadata": {},
     "output_type": "execute_result"
    }
   ],
   "source": [
    "features"
   ]
  },
  {
   "cell_type": "markdown",
   "id": "4454ae04",
   "metadata": {},
   "source": [
    "The number of rows in the bag of words matrix matches the number of rows in the test data frame "
   ]
  },
  {
   "cell_type": "code",
   "execution_count": 138,
   "id": "b9d7f043",
   "metadata": {},
   "outputs": [
    {
     "data": {
      "text/plain": [
       "25000"
      ]
     },
     "execution_count": 138,
     "metadata": {},
     "output_type": "execute_result"
    }
   ],
   "source": [
    "# viewing the dimension of the bag of words matrix\n",
    "len(features)"
   ]
  },
  {
   "cell_type": "markdown",
   "id": "246e556c-a8ed-4559-b798-158d48927255",
   "metadata": {},
   "source": [
    "**Create a term frequency-inverse document frequency (tf-idf) matrix from your stemmed text, for your movie reviews (see section 6.9 in the Machine Learning with Python Cookbook). Display the dimensions of your tf-idf matrix. These dimensions should be the same as your bag-of-words matrix.**"
   ]
  },
  {
   "cell_type": "code",
   "execution_count": 130,
   "id": "a2636f6b-fe11-4c56-b10d-6b666a531f59",
   "metadata": {},
   "outputs": [],
   "source": [
    "# importing additonal required libraries and methods\n",
    "from sklearn.feature_extraction.text import CountVectorizer"
   ]
  },
  {
   "cell_type": "code",
   "execution_count": 131,
   "id": "8fdd4bd7",
   "metadata": {},
   "outputs": [],
   "source": [
    "stem = np.array(test_df['stem'])"
   ]
  },
  {
   "cell_type": "code",
   "execution_count": 136,
   "id": "69c92f66",
   "metadata": {},
   "outputs": [
    {
     "data": {
      "text/plain": [
       "numpy.ndarray"
      ]
     },
     "execution_count": 136,
     "metadata": {},
     "output_type": "execute_result"
    }
   ],
   "source": [
    "# checking type of the variable 'stem'\n",
    "type(stem)"
   ]
  },
  {
   "cell_type": "code",
   "execution_count": 132,
   "id": "8be3f48c-e3c5-4731-b6be-c7ded18033cd",
   "metadata": {},
   "outputs": [],
   "source": [
    "# initializing vectorizer variable with the CountVector() method \n",
    "# using the analyzer parameter to work with the list \n",
    "vectorizer = CountVectorizer(analyzer=lambda x: x) \n",
    "bag_of_words = vectorizer.fit(stem)"
   ]
  },
  {
   "cell_type": "code",
   "execution_count": 133,
   "id": "fffb60c2-5771-464e-9c11-c743c39b34a8",
   "metadata": {},
   "outputs": [
    {
     "data": {
      "text/plain": [
       "(25000, 6)"
      ]
     },
     "execution_count": 133,
     "metadata": {},
     "output_type": "execute_result"
    }
   ],
   "source": [
    "# checking the number of rows of the original dataframe to verify the bag_of_words rows match\n",
    "test_df.shape"
   ]
  },
  {
   "cell_type": "code",
   "execution_count": 134,
   "id": "7661aed1",
   "metadata": {},
   "outputs": [],
   "source": [
    "bag_of_words = vectorizer.transform(stem)"
   ]
  },
  {
   "cell_type": "code",
   "execution_count": 135,
   "id": "e767cea4",
   "metadata": {},
   "outputs": [
    {
     "data": {
      "text/plain": [
       "<25000x90673 sparse matrix of type '<class 'numpy.int64'>'\n",
       "\twith 2398689 stored elements in Compressed Sparse Row format>"
      ]
     },
     "execution_count": 135,
     "metadata": {},
     "output_type": "execute_result"
    }
   ],
   "source": [
    "# viewing the dimension of the tf-idf matrix\n",
    "bag_of_words"
   ]
  },
  {
   "cell_type": "markdown",
   "id": "d3202d65",
   "metadata": {},
   "source": [
    "The number of rows in the tf-idf matrix matches the number of rows in the test data frame."
   ]
  },
  {
   "cell_type": "markdown",
   "id": "0c6db360",
   "metadata": {},
   "source": [
    "The book was followed iniatally for the last two parts of the assignment but I was having a few issues trying to translate the examples from the book to the dataframes for the assignment. "
   ]
  }
 ],
 "metadata": {
  "kernelspec": {
   "display_name": "Python 3 (ipykernel)",
   "language": "python",
   "name": "python3"
  },
  "language_info": {
   "codemirror_mode": {
    "name": "ipython",
    "version": 3
   },
   "file_extension": ".py",
   "mimetype": "text/x-python",
   "name": "python",
   "nbconvert_exporter": "python",
   "pygments_lexer": "ipython3",
   "version": "3.9.12"
  }
 },
 "nbformat": 4,
 "nbformat_minor": 5
}
