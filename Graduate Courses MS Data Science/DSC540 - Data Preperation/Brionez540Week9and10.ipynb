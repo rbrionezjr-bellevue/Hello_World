{
 "cells": [
  {
   "cell_type": "markdown",
   "id": "de85f759-0309-4f37-9c2e-5fa5216d8439",
   "metadata": {},
   "source": [
    "# 1. The Data Wrangling Workshop: Activity 7.01, page 388"
   ]
  },
  {
   "cell_type": "code",
   "execution_count": 114,
   "id": "6ef213c8-408f-48d4-96fd-8b49abbbb051",
   "metadata": {},
   "outputs": [],
   "source": [
    "# import libraries\n",
    "import urllib.request, urllib.parse, urllib.error\n",
    "from urllib.request import urlopen\n",
    "import requests\n",
    "from bs4 import BeautifulSoup\n",
    "import ssl\n",
    "import re"
   ]
  },
  {
   "cell_type": "code",
   "execution_count": 115,
   "id": "0cecafd1-a8b4-41cc-9132-f08ff3c8154b",
   "metadata": {},
   "outputs": [],
   "source": [
    "# read the html from the url\n",
    "top100url = 'https://www.gutenberg.org/browse/scores/top'\n",
    "response = requests.get(top100url)"
   ]
  },
  {
   "cell_type": "code",
   "execution_count": 116,
   "id": "12431023-411c-476e-99f5-b4224a347f54",
   "metadata": {},
   "outputs": [],
   "source": [
    "# function to check the status of the web request\n",
    "def web_page_status(r):\n",
    "    if r.status_code==200:\n",
    "        print(\"Request Successful!\")\n",
    "        return 1\n",
    "    else:\n",
    "        print(\"Request Failed!\")\n",
    "        return -1"
   ]
  },
  {
   "cell_type": "code",
   "execution_count": 117,
   "id": "f5dd8cb8-8f0c-4713-b164-8718565ad619",
   "metadata": {},
   "outputs": [
    {
     "name": "stdout",
     "output_type": "stream",
     "text": [
      "Request Successful!\n"
     ]
    },
    {
     "data": {
      "text/plain": [
       "1"
      ]
     },
     "execution_count": 117,
     "metadata": {},
     "output_type": "execute_result"
    }
   ],
   "source": [
    "# running function\n",
    "web_page_status(response)"
   ]
  },
  {
   "cell_type": "code",
   "execution_count": 118,
   "id": "2b7d5c75-6fa3-472a-b91f-ff4e170f5ec4",
   "metadata": {},
   "outputs": [],
   "source": [
    "# contents is the html page\n",
    "contents = response.content.decode(response.encoding)\n",
    "# soup is the parsed html page\n",
    "soup = BeautifulSoup(contents, 'html.parser')"
   ]
  },
  {
   "cell_type": "code",
   "execution_count": 119,
   "id": "dd0de53f-6af3-4298-af57-d29a82ad250c",
   "metadata": {},
   "outputs": [],
   "source": [
    "# Empty list to hold all the http links in the HTML page\n",
    "links=[]\n",
    "# Find all the href tags and store them in the list of links using  for loop\n",
    "for link in soup.find_all('a'):\n",
    "    #print(link.get('href'))\n",
    "   links.append(link.get('href'))"
   ]
  },
  {
   "cell_type": "code",
   "execution_count": 120,
   "id": "21ed40a5-c08e-4c3c-8505-8ab92fd8d480",
   "metadata": {},
   "outputs": [
    {
     "data": {
      "text/plain": [
       "['/',\n",
       " '/about/',\n",
       " '/about/',\n",
       " '/policy/collection_development.html',\n",
       " '/about/contact_information.html',\n",
       " '/about/background/',\n",
       " '/policy/permission.html',\n",
       " '/policy/privacy_policy.html',\n",
       " '/policy/terms_of_use.html',\n",
       " '/ebooks/',\n",
       " '/ebooks/',\n",
       " '/ebooks/bookshelf/',\n",
       " '/browse/scores/top',\n",
       " '/ebooks/offline_catalogs.html',\n",
       " '/help/',\n",
       " '/help/',\n",
       " '/help/copyright.html',\n",
       " '/help/errata.html',\n",
       " '/help/file_formats.html',\n",
       " '/help/faq.html',\n",
       " '/policy/',\n",
       " '/help/public_domain_ebook_submission.html',\n",
       " '/help/submitting_your_own_work.html',\n",
       " '/help/mobile.html',\n",
       " '/attic/',\n",
       " '/donate/',\n",
       " '/donate/',\n",
       " '#books-last1',\n",
       " '#authors-last1',\n",
       " '#books-last7']"
      ]
     },
     "execution_count": 120,
     "metadata": {},
     "output_type": "execute_result"
    }
   ],
   "source": [
    "# reviewing the first 30 links\n",
    "links[:30]"
   ]
  },
  {
   "cell_type": "code",
   "execution_count": 121,
   "id": "47dd94f6-ae90-4216-89a8-37d42b552722",
   "metadata": {},
   "outputs": [
    {
     "data": {
      "text/plain": [
       "675"
      ]
     },
     "execution_count": 121,
     "metadata": {},
     "output_type": "execute_result"
    }
   ],
   "source": [
    "# reviewing how many links are in the list \n",
    "len(links)"
   ]
  },
  {
   "cell_type": "code",
   "execution_count": 122,
   "id": "c4913ab6-cd6e-479e-ac5d-0055da64d072",
   "metadata": {},
   "outputs": [],
   "source": [
    "# creating an empty list for the books \n",
    "booknum=[]\n",
    "\n",
    "# using a regular expression to find the numeric digits in the links using a for loop\n",
    "for i in range(33,133):\n",
    "    link=links[i]\n",
    "    link=link.strip()\n",
    "    # Regular expression to find the numeric digits in the link (href) string\n",
    "    n=re.findall('[0-9]+',link)\n",
    "    if len(n)==1:\n",
    "        # Append the filenumber casted as integer\n",
    "        booknum.append(int(n[0]))"
   ]
  },
  {
   "cell_type": "code",
   "execution_count": 123,
   "id": "d62e2a73-d188-4b3c-b848-98e736b83fc8",
   "metadata": {},
   "outputs": [
    {
     "data": {
      "text/plain": [
       "100"
      ]
     },
     "execution_count": 123,
     "metadata": {},
     "output_type": "execute_result"
    }
   ],
   "source": [
    "# reviewing the length of the booknum list\n",
    "len(booknum)"
   ]
  },
  {
   "cell_type": "code",
   "execution_count": 124,
   "id": "0e76e357-3144-41d4-a53e-d72d3a046ae0",
   "metadata": {},
   "outputs": [
    {
     "name": "stdout",
     "output_type": "stream",
     "text": [
      "\n",
      "The file numbers for the top 100 ebooks on Gutenberg are shown below\n",
      "----------------------------------------------------------------------\n",
      "[84, 1513, 1342, 2701, 145, 2641, 100, 37106, 67979, 16389, 6761, 394, 2160, 4085, 6593, 11, 1259, 5197, 64317, 844, 174, 98, 345, 2542, 73637, 5200, 2554, 1400, 43, 28054, 25344, 2000, 1952, 1661, 76, 1727, 73636, 2591, 1260, 20228, 1080, 5740, 46, 6130, 4300, 2600, 219, 1184, 27827, 73631, 768, 996, 1998, 1232, 36, 55, 35899, 74, 30254, 2680, 23, 514, 2814, 120, 45, 244, 2852, 408, 16, 67098, 3207, 3825, 135, 8800, 1250, 16328, 10676, 600, 4363, 25717, 57634, 47629, 73630, 158, 1497, 205, 1399, 730, 8492, 5827, 58585, 73633, 31284, 73638, 10007, 161, 14859, 41445, 33283, 7370]\n"
     ]
    }
   ],
   "source": [
    "# printing the list\n",
    "print (\"\\nThe file numbers for the top 100 ebooks on Gutenberg are shown below\\n\"+\"-\"*70)\n",
    "print(booknum)"
   ]
  },
  {
   "cell_type": "code",
   "execution_count": 125,
   "id": "71ee3d00-ddd6-4848-8550-dc1ac2dbe63b",
   "metadata": {},
   "outputs": [
    {
     "name": "stdout",
     "output_type": "stream",
     "text": [
      "\n",
      "\n",
      "\n",
      "\n",
      "Top 100 | Project Gutenberg\n",
      "\n",
      "\n",
      "\n",
      "\n",
      "\n",
      "\n",
      "\n",
      "\n",
      "\n",
      "\n",
      "\n",
      "\n",
      "\n",
      "\n",
      "\n",
      "\n",
      "\n",
      "\n",
      "\n",
      "\n",
      "\n",
      "\n",
      "\n",
      "\n",
      "\n",
      "\n",
      "\n",
      "Menu▾\n",
      "\n",
      "\n",
      "\n",
      "About\n",
      "          ▾\n",
      "\n",
      "▾\n",
      "\n",
      "\n",
      "About Project Gutenberg\n",
      "Collection Development\n",
      "Contact Us\n",
      "History & Philosophy\n",
      "Permissions & License\n",
      "Privacy Policy\n",
      "Terms of Use\n",
      "\n",
      "\n",
      "\n",
      "Search and Browse\n",
      "      \t  ▾\n",
      "\n",
      "▾\n",
      "\n",
      "\n",
      "Book Search\n",
      "Bookshelves\n",
      "Frequently Downloaded\n",
      "Offline Catalogs\n",
      "\n",
      "\n",
      "\n",
      "Help\n",
      "          ▾\n",
      "\n",
      "▾\n",
      "\n",
      "\n",
      "All help topics →\n",
      "Copyright How-To\n",
      "Errata, Fixes and Bug Reports\n",
      "File Formats\n",
      "Frequently Asked Questions\n",
      "Policies →\n",
      "Public Domain eBook Submission\n",
      "Submitting Your Own Work\n",
      "Tablets, Phones and eReaders\n",
      "The Attic →\n",
      "\n",
      "\n",
      "Donate\n",
      "\n",
      "\n",
      "\n",
      "\n",
      "\n",
      "\n",
      "\n",
      "\n",
      "\n",
      "\n",
      "Donation\n",
      "\n",
      "\n",
      "\n",
      "\n",
      "\n",
      "\n",
      "\n",
      "Frequently Viewed or Downloaded\n",
      "These listings are based on the number of times each eBook gets downloaded.\n",
      "      Multiple downloads from the same Internet address on the same day count as one download, and addresses that download more than 100 eBooks in a day are considered robots and are not counted.\n",
      "\n",
      "Downloaded Books\n",
      "2024-05-16376253\n",
      "last 7 days3549510\n",
      "last 30 days13546936\n",
      "\n",
      "\n",
      "\n",
      "Top 100 EBooks yesterday\n",
      "Top 100 Authors yesterday\n",
      "Top 100 EBooks last 7 days\n",
      "Top 100 Authors last 7 days\n",
      "Top 100 EBooks last 30 days\n",
      "Top 100 Authors last 30 days\n",
      "\n",
      "\n",
      "Top 100 EBooks yesterday\n",
      "\n",
      "Frankenstein; Or, The Modern Prometheus by Mary Wollstonecraft Shelley (2595)\n",
      "Romeo and Juliet by William Shakespeare (2457)\n",
      "Pride and Prejudice by Jane Austen (2417)\n",
      "Moby Dick; Or, The Whale by Herman Melville (2370)\n",
      "Middlemarch by George Eliot (1815)\n",
      "A Room with a View by E. M.  Forster (1775)\n",
      "The Complete Works of William Shakespeare by William Shakespeare (1709)\n",
      "Little Women; Or, Meg, Jo, Beth, and Amy by Louisa May Alcott (1654)\n",
      "The Blue Castle: a novel by L. M.  Montgomery (1540)\n",
      "The Enchanted April by Elizabeth Von Arnim (1525)\n",
      "The Adventures of Ferdinand Count Fathom — Complete by T.  Smollett (1463)\n",
      "Cranford by Elizabeth Cleghorn Gaskell (1452)\n",
      "The Expedition of Humphry Clinker by T.  Smollett (1417)\n",
      "The Adventures of Roderick Random by T.  Smollett (1404)\n",
      "History of Tom Jones, a Foundling by Henry Fielding (1384)\n"
     ]
    }
   ],
   "source": [
    "# using the .text method to print out the text from the word soup; first character to the 2000th\n",
    "print(soup.text[:2000])"
   ]
  },
  {
   "cell_type": "code",
   "execution_count": 126,
   "id": "9c82c013-f0ad-45bb-ada2-b065f9482197",
   "metadata": {},
   "outputs": [],
   "source": [
    "# creating the satrting title by index\n",
    "start_idx=soup.text.splitlines().index('Top 100 EBooks yesterday')"
   ]
  },
  {
   "cell_type": "code",
   "execution_count": 127,
   "id": "67f4ac83-8cb8-440a-9d3e-90c976a05331",
   "metadata": {},
   "outputs": [
    {
     "data": {
      "text/plain": [
       "113"
      ]
     },
     "execution_count": 127,
     "metadata": {},
     "output_type": "execute_result"
    }
   ],
   "source": [
    "# reviewing value of start_idx\n",
    "start_idx"
   ]
  },
  {
   "cell_type": "code",
   "execution_count": 128,
   "id": "785353d0-d69d-44eb-9f09-757dee46eb4d",
   "metadata": {},
   "outputs": [],
   "source": [
    "# Temp empty list of Ebook names\n",
    "lst_titles_temp=[]\n",
    "# running a for loop over the 100 numeric values of the contents of the soup object while using .text and .splitlines to separate the text\n",
    "for i in range(100):\n",
    "    lst_titles_temp.append(soup.text.splitlines()[start_idx+10+i])"
   ]
  },
  {
   "cell_type": "code",
   "execution_count": 129,
   "id": "6406e109-ce06-4a2a-934f-2de29286b898",
   "metadata": {},
   "outputs": [
    {
     "data": {
      "text/plain": [
       "['Frankenstein; Or, The Modern Prometheus by Mary Wollstonecraft Shelley (2595)',\n",
       " 'Romeo and Juliet by William Shakespeare (2457)',\n",
       " 'Pride and Prejudice by Jane Austen (2417)',\n",
       " 'Moby Dick; Or, The Whale by Herman Melville (2370)',\n",
       " 'Middlemarch by George Eliot (1815)',\n",
       " 'A Room with a View by E. M.  Forster (1775)',\n",
       " 'The Complete Works of William Shakespeare by William Shakespeare (1709)',\n",
       " 'Little Women; Or, Meg, Jo, Beth, and Amy by Louisa May Alcott (1654)',\n",
       " 'The Blue Castle: a novel by L. M.  Montgomery (1540)',\n",
       " 'The Enchanted April by Elizabeth Von Arnim (1525)',\n",
       " 'The Adventures of Ferdinand Count Fathom — Complete by T.  Smollett (1463)',\n",
       " 'Cranford by Elizabeth Cleghorn Gaskell (1452)',\n",
       " 'The Expedition of Humphry Clinker by T.  Smollett (1417)',\n",
       " 'The Adventures of Roderick Random by T.  Smollett (1404)',\n",
       " 'History of Tom Jones, a Foundling by Henry Fielding (1384)',\n",
       " \"Alice's Adventures in Wonderland by Lewis Carroll (1372)\",\n",
       " 'Twenty years after by Alexandre Dumas and Auguste Maquet (1352)',\n",
       " 'My Life — Volume 1 by Richard Wagner (1343)',\n",
       " 'The Great Gatsby by F. Scott  Fitzgerald (1150)',\n",
       " 'The Importance of Being Earnest: A Trivial Comedy for Serious People by Oscar Wilde (940)',\n",
       " 'The Picture of Dorian Gray by Oscar Wilde (848)',\n",
       " 'A Tale of Two Cities by Charles Dickens (834)',\n",
       " 'Dracula by Bram Stoker (828)',\n",
       " \"A Doll's House : a play by Henrik Ibsen (807)\",\n",
       " 'White and black lies : by Madeline Leslie (786)',\n",
       " 'Metamorphosis by Franz Kafka (765)',\n",
       " 'Crime and Punishment by Fyodor Dostoyevsky (701)',\n",
       " 'Great Expectations by Charles Dickens (612)',\n",
       " 'The Strange Case of Dr. Jekyll and Mr. Hyde by Robert Louis Stevenson (575)',\n",
       " 'The Brothers Karamazov by Fyodor Dostoyevsky (566)',\n",
       " 'The Scarlet Letter by Nathaniel Hawthorne (558)',\n",
       " 'Don Quijote by Miguel de Cervantes Saavedra (538)',\n",
       " 'The Yellow Wallpaper by Charlotte Perkins Gilman (531)',\n",
       " 'The Adventures of Sherlock Holmes by Arthur Conan Doyle (521)',\n",
       " 'Adventures of Huckleberry Finn by Mark Twain (508)',\n",
       " 'The Odyssey by Homer (504)',\n",
       " 'New Nick Carter weekly, No. 11, March 13, 1897: Trim in the wilds; or, hunting a criminal on the dar (502)',\n",
       " \"Grimms' Fairy Tales by Jacob Grimm and Wilhelm Grimm (499)\",\n",
       " 'Jane Eyre: An Autobiography by Charlotte Brontë (486)',\n",
       " 'Noli Me Tangere by José Rizal (481)',\n",
       " 'A Modest Proposal by Jonathan Swift (475)',\n",
       " 'Tractatus Logico-Philosophicus by Ludwig Wittgenstein (470)',\n",
       " 'A Christmas Carol in Prose; Being a Ghost Story of Christmas by Charles Dickens (453)',\n",
       " 'The Iliad by Homer (433)',\n",
       " 'Ulysses by James Joyce (422)',\n",
       " 'War and Peace by graf Leo Tolstoy (411)',\n",
       " 'Heart of Darkness by Joseph Conrad (393)',\n",
       " 'The Count of Monte Cristo by Alexandre Dumas and Auguste Maquet (393)',\n",
       " 'The Kama Sutra of Vatsyayana by Vatsyayana (387)',\n",
       " 'The wild duck : by Henrik Ibsen (384)',\n",
       " 'Wuthering Heights by Emily Brontë (371)',\n",
       " 'Don Quixote by Miguel de Cervantes Saavedra (370)',\n",
       " 'Thus Spake Zarathustra: A Book for All and None by Friedrich Wilhelm Nietzsche (365)',\n",
       " 'The Prince by Niccolò Machiavelli (361)',\n",
       " 'The War of the Worlds by H. G.  Wells (352)',\n",
       " 'The Wonderful Wizard of Oz by L. Frank  Baum (347)',\n",
       " 'The Philippines a Century Hence by José Rizal (346)',\n",
       " 'The Adventures of Tom Sawyer, Complete by Mark Twain (343)',\n",
       " 'The Romance of Lust: A classic Victorian erotic novel by Anonymous (339)',\n",
       " 'Meditations by Emperor of Rome Marcus Aurelius (335)',\n",
       " 'Narrative of the Life of Frederick Douglass, an American Slave by Frederick Douglass (320)',\n",
       " 'Little Women by Louisa May Alcott (316)',\n",
       " 'Dubliners by James Joyce (314)',\n",
       " 'Treasure Island by Robert Louis Stevenson (314)',\n",
       " 'Anne of Green Gables by L. M.  Montgomery (310)',\n",
       " 'A Study in Scarlet by Arthur Conan Doyle (308)',\n",
       " 'The Hound of the Baskervilles by Arthur Conan Doyle (306)',\n",
       " 'The Souls of Black Folk by W. E. B.  Du Bois (306)',\n",
       " 'Peter Pan by J. M.  Barrie (299)',\n",
       " 'Winnie-the-Pooh by A. A.  Milne (298)',\n",
       " 'Leviathan by Thomas Hobbes (298)',\n",
       " 'Pygmalion by Bernard Shaw (289)',\n",
       " 'Les Misérables by Victor Hugo (289)',\n",
       " 'The divine comedy by Dante Alighieri (287)',\n",
       " 'Anthem by Ayn Rand (287)',\n",
       " 'Beowulf: An Anglo-Saxon Epic Poem (283)',\n",
       " 'The Reign of Greed by José Rizal (283)',\n",
       " 'Notes from the Underground by Fyodor Dostoyevsky (276)',\n",
       " 'Beyond Good and Evil by Friedrich Wilhelm Nietzsche (272)',\n",
       " 'The History of the Decline and Fall of the Roman Empire by Edward Gibbon (272)',\n",
       " 'The Principles of Psychology, Volume 2 (of 2) by William James (271)',\n",
       " 'Ang \"Filibusterismo\" (Karugtóng ng Noli Me Tangere) by José Rizal (268)',\n",
       " 'Short story classics (Foreign), Vol. 3, German (266)',\n",
       " 'Emma by Jane Austen (264)',\n",
       " 'The Republic by Plato (264)',\n",
       " 'Walden, and On The Duty Of Civil Disobedience by Henry David Thoreau (258)',\n",
       " 'Anna Karenina by graf Leo Tolstoy (254)',\n",
       " 'Oliver Twist by Charles Dickens (253)',\n",
       " 'The King in Yellow by Robert W.  Chambers (247)',\n",
       " 'The Problems of Philosophy by Bertrand Russell (244)',\n",
       " 'The Prophet by Kahlil Gibran (243)',\n",
       " 'Œuvres complètes de Guy de Maupassant - volume 25 by Guy de Maupassant (241)',\n",
       " 'Josefine Mutzenbacher by Felix Salten (240)',\n",
       " 'The disciple by Paul Bourget (238)',\n",
       " 'Carmilla by Joseph Sheridan Le Fanu (236)',\n",
       " 'Sense and Sensibility by Jane Austen (231)',\n",
       " 'Daddy Takes Us to the Garden by Howard Roger Garis (230)',\n",
       " 'Frankenstein; Or, The Modern Prometheus by Mary Wollstonecraft Shelley (229)',\n",
       " 'Calculus Made Easy by Silvanus P.  Thompson (228)',\n",
       " 'Second Treatise of Government by John Locke (228)']"
      ]
     },
     "execution_count": 129,
     "metadata": {},
     "output_type": "execute_result"
    }
   ],
   "source": [
    "# reviewing the contents of the temporary list\n",
    "lst_titles_temp"
   ]
  },
  {
   "cell_type": "code",
   "execution_count": 130,
   "id": "ef1289d7-d5e0-4fa3-afeb-b4ba1527097e",
   "metadata": {},
   "outputs": [],
   "source": [
    "# creating another empty list\n",
    "lst_titles=[]\n",
    "# using a for loop again to loop over the temporary list\n",
    "for i in range(100):\n",
    "    id1,id2=re.match('^[a-zA-Z ]*',lst_titles_temp[i]).span()\n",
    "    lst_titles.append(lst_titles_temp[i][id1:id2])"
   ]
  },
  {
   "cell_type": "code",
   "execution_count": 131,
   "id": "f42d8778-18ef-45ff-8b30-c15963faf353",
   "metadata": {},
   "outputs": [
    {
     "name": "stdout",
     "output_type": "stream",
     "text": [
      "Frankenstein\n",
      "Romeo and Juliet by William Shakespeare \n",
      "Pride and Prejudice by Jane Austen \n",
      "Moby Dick\n",
      "Middlemarch by George Eliot \n",
      "A Room with a View by E\n",
      "The Complete Works of William Shakespeare by William Shakespeare \n",
      "Little Women\n",
      "The Blue Castle\n",
      "The Enchanted April by Elizabeth Von Arnim \n",
      "The Adventures of Ferdinand Count Fathom \n",
      "Cranford by Elizabeth Cleghorn Gaskell \n",
      "The Expedition of Humphry Clinker by T\n",
      "The Adventures of Roderick Random by T\n",
      "History of Tom Jones\n",
      "Alice\n",
      "Twenty years after by Alexandre Dumas and Auguste Maquet \n",
      "My Life \n",
      "The Great Gatsby by F\n",
      "The Importance of Being Earnest\n",
      "The Picture of Dorian Gray by Oscar Wilde \n",
      "A Tale of Two Cities by Charles Dickens \n",
      "Dracula by Bram Stoker \n",
      "A Doll\n",
      "White and black lies \n",
      "Metamorphosis by Franz Kafka \n",
      "Crime and Punishment by Fyodor Dostoyevsky \n",
      "Great Expectations by Charles Dickens \n",
      "The Strange Case of Dr\n",
      "The Brothers Karamazov by Fyodor Dostoyevsky \n",
      "The Scarlet Letter by Nathaniel Hawthorne \n",
      "Don Quijote by Miguel de Cervantes Saavedra \n",
      "The Yellow Wallpaper by Charlotte Perkins Gilman \n",
      "The Adventures of Sherlock Holmes by Arthur Conan Doyle \n",
      "Adventures of Huckleberry Finn by Mark Twain \n",
      "The Odyssey by Homer \n",
      "New Nick Carter weekly\n",
      "Grimms\n",
      "Jane Eyre\n",
      "Noli Me Tangere by Jos\n",
      "A Modest Proposal by Jonathan Swift \n",
      "Tractatus Logico\n",
      "A Christmas Carol in Prose\n",
      "The Iliad by Homer \n",
      "Ulysses by James Joyce \n",
      "War and Peace by graf Leo Tolstoy \n",
      "Heart of Darkness by Joseph Conrad \n",
      "The Count of Monte Cristo by Alexandre Dumas and Auguste Maquet \n",
      "The Kama Sutra of Vatsyayana by Vatsyayana \n",
      "The wild duck \n",
      "Wuthering Heights by Emily Bront\n",
      "Don Quixote by Miguel de Cervantes Saavedra \n",
      "Thus Spake Zarathustra\n",
      "The Prince by Niccol\n",
      "The War of the Worlds by H\n",
      "The Wonderful Wizard of Oz by L\n",
      "The Philippines a Century Hence by Jos\n",
      "The Adventures of Tom Sawyer\n",
      "The Romance of Lust\n",
      "Meditations by Emperor of Rome Marcus Aurelius \n",
      "Narrative of the Life of Frederick Douglass\n",
      "Little Women by Louisa May Alcott \n",
      "Dubliners by James Joyce \n",
      "Treasure Island by Robert Louis Stevenson \n",
      "Anne of Green Gables by L\n",
      "A Study in Scarlet by Arthur Conan Doyle \n",
      "The Hound of the Baskervilles by Arthur Conan Doyle \n",
      "The Souls of Black Folk by W\n",
      "Peter Pan by J\n",
      "Winnie\n",
      "Leviathan by Thomas Hobbes \n",
      "Pygmalion by Bernard Shaw \n",
      "Les Mis\n",
      "The divine comedy by Dante Alighieri \n",
      "Anthem by Ayn Rand \n",
      "Beowulf\n",
      "The Reign of Greed by Jos\n",
      "Notes from the Underground by Fyodor Dostoyevsky \n",
      "Beyond Good and Evil by Friedrich Wilhelm Nietzsche \n",
      "The History of the Decline and Fall of the Roman Empire by Edward Gibbon \n",
      "The Principles of Psychology\n",
      "Ang \n",
      "Short story classics \n",
      "Emma by Jane Austen \n",
      "The Republic by Plato \n",
      "Walden\n",
      "Anna Karenina by graf Leo Tolstoy \n",
      "Oliver Twist by Charles Dickens \n",
      "The King in Yellow by Robert W\n",
      "The Problems of Philosophy by Bertrand Russell \n",
      "The Prophet by Kahlil Gibran \n",
      "\n",
      "Josefine Mutzenbacher by Felix Salten \n",
      "The disciple by Paul Bourget \n",
      "Carmilla by Joseph Sheridan Le Fanu \n",
      "Sense and Sensibility by Jane Austen \n",
      "Daddy Takes Us to the Garden by Howard Roger Garis \n",
      "Frankenstein\n",
      "Calculus Made Easy by Silvanus P\n",
      "Second Treatise of Government by John Locke \n"
     ]
    }
   ],
   "source": [
    "for l in lst_titles:\n",
    "    print(l)"
   ]
  },
  {
   "cell_type": "markdown",
   "id": "cdd859e9-6230-4794-b9f9-68935ae34470",
   "metadata": {},
   "source": [
    "# 2. The Data Wrangling Workshop: Activity 7.02, page 390"
   ]
  },
  {
   "cell_type": "code",
   "execution_count": 132,
   "id": "14628b56-1a49-4dba-a8e2-29e766f4d7b7",
   "metadata": {},
   "outputs": [],
   "source": [
    "# loading libraries\n",
    "import urllib.request, urllib.parse, urllib.error\n",
    "import json"
   ]
  },
  {
   "cell_type": "code",
   "execution_count": 133,
   "id": "270ef366-cbc1-4855-ba2a-6813543ba961",
   "metadata": {},
   "outputs": [],
   "source": [
    "# loading api key json file\n",
    "with open('api-keys/apikey.json') as f:\n",
    "    keys = json.load(f)\n",
    "    omdbapi = keys['OMDBapi']"
   ]
  },
  {
   "cell_type": "code",
   "execution_count": 134,
   "id": "1986f4f3-b0c6-438a-9cbe-a2e9120a0030",
   "metadata": {},
   "outputs": [],
   "source": [
    "# assign the api weblink to a variable \n",
    "api_url = 'http://www.omdbapi.com/?'"
   ]
  },
  {
   "cell_type": "code",
   "execution_count": 135,
   "id": "70d3920f-f4fe-4b0d-ad5b-b4f0cbc243f6",
   "metadata": {},
   "outputs": [],
   "source": [
    "# concatenate last part of the url with the api key variable created from the file, see 'omdbapi' variable\n",
    "api_key = '&apikey='+omdbapi"
   ]
  },
  {
   "cell_type": "code",
   "execution_count": 136,
   "id": "2bb5c284-5f4f-4dc4-9add-ad5cc38a0af8",
   "metadata": {},
   "outputs": [
    {
     "data": {
      "text/plain": [
       "'&apikey=914de75d'"
      ]
     },
     "execution_count": 136,
     "metadata": {},
     "output_type": "execute_result"
    }
   ],
   "source": [
    "api_key"
   ]
  },
  {
   "cell_type": "markdown",
   "id": "c75e7fb3-8f3a-406d-8aeb-c62159e5e248",
   "metadata": {},
   "source": [
    "**Example JSON response**"
   ]
  },
  {
   "cell_type": "markdown",
   "id": "7a339db2-d2e2-46f9-ac92-feea9a3afb95",
   "metadata": {},
   "source": [
    "{\"Title\":\"Titanic\",\"Year\":\"1997\",\"Rated\":\"PG-13\",\"Released\":\"19 Dec 1997\",\"Runtime\":\"194 min\",\"Genre\":\"Drama, Romance\",\"Director\":\"James Cameron\",\"Writer\":\"James Cameron\",\"Actors\":\"Leonardo DiCaprio, Kate Winslet, Billy Zane\",\"Plot\":\"A seventeen-year-old aristocrat falls in love with a kind but poor artist aboard the luxurious, ill-fated R.M.S. Titanic.\",\"Language\":\"English, Swedish, Italian, French\",\"Country\":\"United States, Mexico\",\"Awards\":\"Won 11 Oscars. 126 wins & 83 nominations total\",\"Poster\":\"https://m.media-amazon.com/images/M/MV5BMDdmZGU3NDQtY2E5My00ZTliLWIzOTUtMTY4ZGI1YjdiNjk3XkEyXkFqcGdeQXVyNTA4NzY1MzY@._V1_SX300.jpg\",\"Ratings\":[{\"Source\":\"Internet Movie Database\",\"Value\":\"7.9/10\"},{\"Source\":\"Rotten Tomatoes\",\"Value\":\"88%\"},{\"Source\":\"Metacritic\",\"Value\":\"75/100\"}],\"Metascore\":\"75\",\"imdbRating\":\"7.9\",\"imdbVotes\":\"1,280,439\",\"imdbID\":\"tt0120338\",\"Type\":\"movie\",\"DVD\":\"01 Jun 2014\",\"BoxOffice\":\"$674,292,608\",\"Production\":\"N/A\",\"Website\":\"N/A\",\"Response\":\"True\"}"
   ]
  },
  {
   "cell_type": "code",
   "execution_count": 137,
   "id": "1a7c4e2c-de0f-407d-9975-cef0bbf2b321",
   "metadata": {},
   "outputs": [],
   "source": [
    "# creating a function to print the json data\n",
    "def print_json(json_data):\n",
    "    # creating a list of available keys based on the sample json response\n",
    "    list_keys=['Title', 'Year', 'Rated', 'Released', 'Runtime', 'Genre', 'Director', 'Writer', \n",
    "               'Actors', 'Plot', 'Language', 'Country', 'Awards', 'Ratings', \n",
    "               'Metascore', 'imdbRating', 'imdbVotes', 'imdbID']\n",
    "    # prints 50 hyphens as a seperation\n",
    "    print(\"-\"*50)\n",
    "    # using a for loop to iterate over the list_key variable\n",
    "    for k in list_keys:\n",
    "        # if k is in the list of keys, print the key and it's value \n",
    "        if k in list(json_data.keys()):\n",
    "            print(f\"{k}: {json_data[k]}\")\n",
    "            # prints 50 hyphens as a seperation\n",
    "    print(\"-\"*50)"
   ]
  },
  {
   "cell_type": "code",
   "execution_count": 138,
   "id": "ce672fd8-bf7c-4d3b-a33d-31f7735941c2",
   "metadata": {},
   "outputs": [],
   "source": [
    "# creating a function to save the movie poster\n",
    "def save_poster(json_data):\n",
    "    # importing library\n",
    "    import os\n",
    "    # saving the title from the \"title\" key\n",
    "    title = json_data['Title']\n",
    "    # saving the poster url from the 'poster' key\n",
    "    poster_url = json_data['Poster']\n",
    "    # Splits the poster url by '.' and picks up the last string as file extension\n",
    "    poster_file_extension=poster_url.split('.')[-1]\n",
    "    # Reads the image file from web\n",
    "    poster_data = urllib.request.urlopen(poster_url).read()\n",
    "        \n",
    "    savelocation=os.getcwd()+'\\\\'+'Posters'+'\\\\'\n",
    "    # Creates new directory if the directory does not exist. Otherwise, just use the existing path.\n",
    "    if not os.path.isdir(savelocation):\n",
    "        os.mkdir(savelocation)\n",
    "    # creates the file name\n",
    "    filename=savelocation+str(title)+'.'+poster_file_extension\n",
    "    f=open(filename,'wb')\n",
    "    f.write(poster_data)\n",
    "    f.close()"
   ]
  },
  {
   "cell_type": "code",
   "execution_count": 139,
   "id": "d4d859dd-9492-4e8a-948c-1b61f156645a",
   "metadata": {},
   "outputs": [],
   "source": [
    "# creating a function to search movie titles\n",
    "def search_movie(title):\n",
    "    # using a try statement for errors\n",
    "    try:\n",
    "        # concatentates the api_url with json methods and the api_key\n",
    "        url = api_url + urllib.parse.urlencode({'t': str(title)})+api_key\n",
    "        print(f'Retrieving the data of \"{title}\" now... ')\n",
    "        # prints the concated url\n",
    "        print(url)\n",
    "        uh = urllib.request.urlopen(url)\n",
    "        # setting the result of reading the variable 'uh' to the variable 'data'\n",
    "        data = uh.read()\n",
    "        # loading the json data and saving to a variable\n",
    "        json_data=json.loads(data)\n",
    "\n",
    "        # using an if statement to check for the json data\n",
    "        if json_data['Response']=='True':\n",
    "            print_json(json_data)\n",
    "            # downloads the poster of the movie if the poster key value is not N/A\n",
    "            if json_data['Poster']!='N/A':\n",
    "                save_poster(json_data)\n",
    "        else:\n",
    "            print(\"Error encountered: \",json_data['Error'])\n",
    "    \n",
    "    except urllib.error.URLError as e:\n",
    "        # prints the error retuned if there is one \n",
    "        print(f\"ERROR: {e.reason}\")"
   ]
  },
  {
   "cell_type": "code",
   "execution_count": 140,
   "id": "31f5102b-e585-4f91-ac5f-ec88dcfffbf0",
   "metadata": {},
   "outputs": [
    {
     "name": "stdout",
     "output_type": "stream",
     "text": [
      "Retrieving the data of \"Titanic\" now... \n",
      "http://www.omdbapi.com/?t=Titanic&apikey=914de75d\n",
      "--------------------------------------------------\n",
      "Title: Titanic\n",
      "Year: 1997\n",
      "Rated: PG-13\n",
      "Released: 19 Dec 1997\n",
      "Runtime: 194 min\n",
      "Genre: Drama, Romance\n",
      "Director: James Cameron\n",
      "Writer: James Cameron\n",
      "Actors: Leonardo DiCaprio, Kate Winslet, Billy Zane\n",
      "Plot: A seventeen-year-old aristocrat falls in love with a kind but poor artist aboard the luxurious, ill-fated R.M.S. Titanic.\n",
      "Language: English, Swedish, Italian, French\n",
      "Country: United States, Mexico\n",
      "Awards: Won 11 Oscars. 126 wins & 83 nominations total\n",
      "Ratings: [{'Source': 'Internet Movie Database', 'Value': '7.9/10'}, {'Source': 'Rotten Tomatoes', 'Value': '88%'}, {'Source': 'Metacritic', 'Value': '75/100'}]\n",
      "Metascore: 75\n",
      "imdbRating: 7.9\n",
      "imdbVotes: 1,280,439\n",
      "imdbID: tt0120338\n",
      "--------------------------------------------------\n"
     ]
    }
   ],
   "source": [
    "# using the newly created search function\n",
    "search_movie(\"Titanic\")"
   ]
  },
  {
   "cell_type": "code",
   "execution_count": 141,
   "id": "a900f262-d8fe-4c64-9d7d-229ed11e5625",
   "metadata": {},
   "outputs": [
    {
     "name": "stdout",
     "output_type": "stream",
     "text": [
      "Retrieving the data of \"Night of the Living Dead\" now... \n",
      "http://www.omdbapi.com/?t=Night+of+the+Living+Dead&apikey=914de75d\n",
      "--------------------------------------------------\n",
      "Title: Night of the Living Dead\n",
      "Year: 1968\n",
      "Rated: R\n",
      "Released: 04 Oct 1968\n",
      "Runtime: 96 min\n",
      "Genre: Horror, Thriller\n",
      "Director: George A. Romero\n",
      "Writer: John A. Russo, George A. Romero\n",
      "Actors: Duane Jones, Judith O'Dea, Karl Hardman\n",
      "Plot: A ragtag group of Pennsylvanians barricade themselves in an old farmhouse to remain safe from a horde of flesh-eating ghouls that are ravaging the Northeast of the United States.\n",
      "Language: English\n",
      "Country: United States\n",
      "Awards: 7 wins\n",
      "Ratings: [{'Source': 'Internet Movie Database', 'Value': '7.8/10'}, {'Source': 'Rotten Tomatoes', 'Value': '95%'}, {'Source': 'Metacritic', 'Value': '89/100'}]\n",
      "Metascore: 89\n",
      "imdbRating: 7.8\n",
      "imdbVotes: 139,108\n",
      "imdbID: tt0063350\n",
      "--------------------------------------------------\n"
     ]
    }
   ],
   "source": [
    "# trying a different movie title\n",
    "search_movie('Night of the Living Dead')"
   ]
  },
  {
   "cell_type": "code",
   "execution_count": 142,
   "id": "2446416e-d948-4177-a409-89b5cb7a8449",
   "metadata": {},
   "outputs": [
    {
     "name": "stdout",
     "output_type": "stream",
     "text": [
      "Retrieving the data of \"Random_error\" now... \n",
      "http://www.omdbapi.com/?t=Random_error&apikey=914de75d\n",
      "Error encountered:  Movie not found!\n"
     ]
    }
   ],
   "source": [
    "search_movie(\"Random_error\")"
   ]
  },
  {
   "cell_type": "markdown",
   "id": "c6e973c7-57c9-49f5-ab11-8f8e64b34c63",
   "metadata": {},
   "source": [
    "# 3. Connect to an API of your choice and do a simple data pull - you can use any API - except the API you have selected for your project."
   ]
  },
  {
   "cell_type": "code",
   "execution_count": 143,
   "id": "3c2b24da-6188-4cf3-bfd4-ef6b87345e61",
   "metadata": {},
   "outputs": [
    {
     "name": "stdout",
     "output_type": "stream",
     "text": [
      "[\"animal\",\"career\",\"celebrity\",\"dev\",\"explicit\",\"fashion\",\"food\",\"history\",\"money\",\"movie\",\"music\",\"political\",\"religion\",\"science\",\"sport\",\"travel\"]\n"
     ]
    }
   ],
   "source": [
    "# saving url to a variable\n",
    "category_url = \"https://api.chucknorris.io/jokes/categories\"\n",
    "\n",
    "# defining a function to get the categories from an API\n",
    "def list_of_categories():\n",
    "    response = requests.request(\"GET\", category_url)\n",
    "    data = response.text\n",
    "    print(data)\n",
    "\n",
    "list_of_categories()"
   ]
  },
  {
   "cell_type": "code",
   "execution_count": 144,
   "id": "2fd8a36f-136c-47b1-b12b-8f383430d39a",
   "metadata": {},
   "outputs": [
    {
     "name": "stdout",
     "output_type": "stream",
     "text": [
      "https://api.chucknorris.io/jokes/random?category=animal\n",
      "Chuck Norris can skeletize a cow in two minutes.\n"
     ]
    }
   ],
   "source": [
    "category = 'animal'\n",
    "joke_url = f'https://api.chucknorris.io/jokes/random?category={category}'\n",
    "\n",
    "def chuck_norris_joke():\n",
    "    print(joke_url)\n",
    "    response = requests.request(\"GET\", joke_url)\n",
    "    data = response.json()\n",
    "    # acessing the 'value' key to print the joke\n",
    "    print(data['value'])\n",
    "\n",
    "chuck_norris_joke()"
   ]
  },
  {
   "cell_type": "markdown",
   "id": "e4a4c755-73c8-4644-9f0e-8cb9cc1fd019",
   "metadata": {},
   "source": [
    "# 4. Using one of the datasets provided in Weeks 7 & 8, or a dataset of your own, choose 3 of the following visualizations to complete. "
   ]
  },
  {
   "cell_type": "markdown",
   "id": "3b0e858e-4397-461a-a98e-73e3c54cfc49",
   "metadata": {},
   "source": [
    "- Line\n",
    "- Scatter\n",
    "- Bar\n",
    "- Histogram\n",
    "- Density Plot\n",
    "- Pie Chart"
   ]
  },
  {
   "cell_type": "markdown",
   "id": "8d732b35-2094-4ddc-a3b2-934e02b33787",
   "metadata": {},
   "source": [
    "### You are free to use Matplotlib, Seaborn or another package if you prefer."
   ]
  },
  {
   "cell_type": "code",
   "execution_count": 145,
   "id": "ef5ea250-7125-4998-bea7-b31a54d9cfbd",
   "metadata": {},
   "outputs": [],
   "source": [
    "import pandas as pd\n",
    "import seaborn as sns\n",
    "from matplotlib import pyplot as plt"
   ]
  },
  {
   "cell_type": "code",
   "execution_count": 146,
   "id": "224515f9-ceab-4533-a5ad-5351bd61e678",
   "metadata": {},
   "outputs": [],
   "source": [
    "df = pd.read_csv('Data/pokemon.csv')"
   ]
  },
  {
   "cell_type": "code",
   "execution_count": 147,
   "id": "b70decdf-7531-4ed2-9c33-4dbeebf16bed",
   "metadata": {},
   "outputs": [
    {
     "data": {
      "text/html": [
       "<div>\n",
       "<style scoped>\n",
       "    .dataframe tbody tr th:only-of-type {\n",
       "        vertical-align: middle;\n",
       "    }\n",
       "\n",
       "    .dataframe tbody tr th {\n",
       "        vertical-align: top;\n",
       "    }\n",
       "\n",
       "    .dataframe thead th {\n",
       "        text-align: right;\n",
       "    }\n",
       "</style>\n",
       "<table border=\"1\" class=\"dataframe\">\n",
       "  <thead>\n",
       "    <tr style=\"text-align: right;\">\n",
       "      <th></th>\n",
       "      <th>Number</th>\n",
       "      <th>Name</th>\n",
       "      <th>Type_1</th>\n",
       "      <th>Type_2</th>\n",
       "      <th>Total</th>\n",
       "      <th>HP</th>\n",
       "      <th>Attack</th>\n",
       "      <th>Defense</th>\n",
       "      <th>Sp_Atk</th>\n",
       "      <th>Sp_Def</th>\n",
       "      <th>...</th>\n",
       "      <th>Color</th>\n",
       "      <th>hasGender</th>\n",
       "      <th>Pr_Male</th>\n",
       "      <th>Egg_Group_1</th>\n",
       "      <th>Egg_Group_2</th>\n",
       "      <th>hasMegaEvolution</th>\n",
       "      <th>Height_m</th>\n",
       "      <th>Weight_kg</th>\n",
       "      <th>Catch_Rate</th>\n",
       "      <th>Body_Style</th>\n",
       "    </tr>\n",
       "  </thead>\n",
       "  <tbody>\n",
       "    <tr>\n",
       "      <th>0</th>\n",
       "      <td>1</td>\n",
       "      <td>Bulbasaur</td>\n",
       "      <td>Grass</td>\n",
       "      <td>Poison</td>\n",
       "      <td>318</td>\n",
       "      <td>45</td>\n",
       "      <td>49</td>\n",
       "      <td>49</td>\n",
       "      <td>65</td>\n",
       "      <td>65</td>\n",
       "      <td>...</td>\n",
       "      <td>Green</td>\n",
       "      <td>True</td>\n",
       "      <td>0.875</td>\n",
       "      <td>Monster</td>\n",
       "      <td>Grass</td>\n",
       "      <td>False</td>\n",
       "      <td>0.71</td>\n",
       "      <td>6.9</td>\n",
       "      <td>45</td>\n",
       "      <td>quadruped</td>\n",
       "    </tr>\n",
       "    <tr>\n",
       "      <th>1</th>\n",
       "      <td>2</td>\n",
       "      <td>Ivysaur</td>\n",
       "      <td>Grass</td>\n",
       "      <td>Poison</td>\n",
       "      <td>405</td>\n",
       "      <td>60</td>\n",
       "      <td>62</td>\n",
       "      <td>63</td>\n",
       "      <td>80</td>\n",
       "      <td>80</td>\n",
       "      <td>...</td>\n",
       "      <td>Green</td>\n",
       "      <td>True</td>\n",
       "      <td>0.875</td>\n",
       "      <td>Monster</td>\n",
       "      <td>Grass</td>\n",
       "      <td>False</td>\n",
       "      <td>0.99</td>\n",
       "      <td>13.0</td>\n",
       "      <td>45</td>\n",
       "      <td>quadruped</td>\n",
       "    </tr>\n",
       "    <tr>\n",
       "      <th>2</th>\n",
       "      <td>3</td>\n",
       "      <td>Venusaur</td>\n",
       "      <td>Grass</td>\n",
       "      <td>Poison</td>\n",
       "      <td>525</td>\n",
       "      <td>80</td>\n",
       "      <td>82</td>\n",
       "      <td>83</td>\n",
       "      <td>100</td>\n",
       "      <td>100</td>\n",
       "      <td>...</td>\n",
       "      <td>Green</td>\n",
       "      <td>True</td>\n",
       "      <td>0.875</td>\n",
       "      <td>Monster</td>\n",
       "      <td>Grass</td>\n",
       "      <td>True</td>\n",
       "      <td>2.01</td>\n",
       "      <td>100.0</td>\n",
       "      <td>45</td>\n",
       "      <td>quadruped</td>\n",
       "    </tr>\n",
       "    <tr>\n",
       "      <th>3</th>\n",
       "      <td>4</td>\n",
       "      <td>Charmander</td>\n",
       "      <td>Fire</td>\n",
       "      <td>NaN</td>\n",
       "      <td>309</td>\n",
       "      <td>39</td>\n",
       "      <td>52</td>\n",
       "      <td>43</td>\n",
       "      <td>60</td>\n",
       "      <td>50</td>\n",
       "      <td>...</td>\n",
       "      <td>Red</td>\n",
       "      <td>True</td>\n",
       "      <td>0.875</td>\n",
       "      <td>Monster</td>\n",
       "      <td>Dragon</td>\n",
       "      <td>False</td>\n",
       "      <td>0.61</td>\n",
       "      <td>8.5</td>\n",
       "      <td>45</td>\n",
       "      <td>bipedal_tailed</td>\n",
       "    </tr>\n",
       "    <tr>\n",
       "      <th>4</th>\n",
       "      <td>5</td>\n",
       "      <td>Charmeleon</td>\n",
       "      <td>Fire</td>\n",
       "      <td>NaN</td>\n",
       "      <td>405</td>\n",
       "      <td>58</td>\n",
       "      <td>64</td>\n",
       "      <td>58</td>\n",
       "      <td>80</td>\n",
       "      <td>65</td>\n",
       "      <td>...</td>\n",
       "      <td>Red</td>\n",
       "      <td>True</td>\n",
       "      <td>0.875</td>\n",
       "      <td>Monster</td>\n",
       "      <td>Dragon</td>\n",
       "      <td>False</td>\n",
       "      <td>1.09</td>\n",
       "      <td>19.0</td>\n",
       "      <td>45</td>\n",
       "      <td>bipedal_tailed</td>\n",
       "    </tr>\n",
       "  </tbody>\n",
       "</table>\n",
       "<p>5 rows × 23 columns</p>\n",
       "</div>"
      ],
      "text/plain": [
       "   Number        Name Type_1  Type_2  Total  HP  Attack  Defense  Sp_Atk  \\\n",
       "0       1   Bulbasaur  Grass  Poison    318  45      49       49      65   \n",
       "1       2     Ivysaur  Grass  Poison    405  60      62       63      80   \n",
       "2       3    Venusaur  Grass  Poison    525  80      82       83     100   \n",
       "3       4  Charmander   Fire     NaN    309  39      52       43      60   \n",
       "4       5  Charmeleon   Fire     NaN    405  58      64       58      80   \n",
       "\n",
       "   Sp_Def  ...  Color  hasGender  Pr_Male Egg_Group_1  Egg_Group_2  \\\n",
       "0      65  ...  Green       True    0.875     Monster        Grass   \n",
       "1      80  ...  Green       True    0.875     Monster        Grass   \n",
       "2     100  ...  Green       True    0.875     Monster        Grass   \n",
       "3      50  ...    Red       True    0.875     Monster       Dragon   \n",
       "4      65  ...    Red       True    0.875     Monster       Dragon   \n",
       "\n",
       "   hasMegaEvolution Height_m Weight_kg  Catch_Rate      Body_Style  \n",
       "0             False     0.71       6.9          45       quadruped  \n",
       "1             False     0.99      13.0          45       quadruped  \n",
       "2              True     2.01     100.0          45       quadruped  \n",
       "3             False     0.61       8.5          45  bipedal_tailed  \n",
       "4             False     1.09      19.0          45  bipedal_tailed  \n",
       "\n",
       "[5 rows x 23 columns]"
      ]
     },
     "execution_count": 147,
     "metadata": {},
     "output_type": "execute_result"
    }
   ],
   "source": [
    "df.head(5)"
   ]
  },
  {
   "cell_type": "code",
   "execution_count": 148,
   "id": "ac202fde-63b0-4c9f-b1c6-c6259c2fb9c2",
   "metadata": {},
   "outputs": [
    {
     "data": {
      "text/plain": [
       "Index(['Number', 'Name', 'Type_1', 'Type_2', 'Total', 'HP', 'Attack',\n",
       "       'Defense', 'Sp_Atk', 'Sp_Def', 'Speed', 'Generation', 'isLegendary',\n",
       "       'Color', 'hasGender', 'Pr_Male', 'Egg_Group_1', 'Egg_Group_2',\n",
       "       'hasMegaEvolution', 'Height_m', 'Weight_kg', 'Catch_Rate',\n",
       "       'Body_Style'],\n",
       "      dtype='object')"
      ]
     },
     "execution_count": 148,
     "metadata": {},
     "output_type": "execute_result"
    }
   ],
   "source": [
    "df.columns"
   ]
  },
  {
   "cell_type": "markdown",
   "id": "d6f8f988-fc0e-47b7-829a-8bcd0f9247ef",
   "metadata": {},
   "source": [
    "### Histogram"
   ]
  },
  {
   "cell_type": "code",
   "execution_count": 149,
   "id": "081442a4-a228-47e5-8470-f53eb0886032",
   "metadata": {},
   "outputs": [
    {
     "name": "stderr",
     "output_type": "stream",
     "text": [
      "C:\\Users\\rbrio\\anaconda3\\Lib\\site-packages\\seaborn\\_oldcore.py:1119: FutureWarning: use_inf_as_na option is deprecated and will be removed in a future version. Convert inf values to NaN before operating instead.\n",
      "  with pd.option_context('mode.use_inf_as_na', True):\n"
     ]
    },
    {
     "data": {
      "image/png": "[encoded data removed]",
      "text/plain": [
       "<Figure size 640x480 with 1 Axes>"
      ]
     },
     "metadata": {},
     "output_type": "display_data"
    }
   ],
   "source": [
    "# creating a histogram of pokemon types\n",
    "sns.histplot(df['Type_1'])\n",
    "plt.xticks(rotation=90)\n",
    "plt.title('Histogram of Pokemon Types')\n",
    "plt.show()"
   ]
  },
  {
   "cell_type": "markdown",
   "id": "3efeffee-cd8d-451c-903b-3bc8ed7512ee",
   "metadata": {},
   "source": [
    "### Scatterplot"
   ]
  },
  {
   "cell_type": "code",
   "execution_count": 150,
   "id": "3980ea92-1e9d-4698-bb55-88e2b762911e",
   "metadata": {},
   "outputs": [
    {
     "data": {
      "image/png": "[encoded data removed]",
      "text/plain": [
       "<Figure size 640x480 with 1 Axes>"
      ]
     },
     "metadata": {},
     "output_type": "display_data"
    }
   ],
   "source": [
    "# creating a scatterplot of pokemon heights vs weight\n",
    "plt.scatter(df['Height_m'],df['Weight_kg'])\n",
    "plt.xlabel('Pokemon Height in Meters')\n",
    "plt.ylabel('Pokemon Weight in Kilograms')\n",
    "plt.title('Pokemon Height Vs Weight')\n",
    "plt.show()"
   ]
  },
  {
   "cell_type": "markdown",
   "id": "fa3756aa-b024-4016-bd10-886f41090188",
   "metadata": {},
   "source": [
    "### Density Plot"
   ]
  },
  {
   "cell_type": "code",
   "execution_count": 151,
   "id": "38573fb5-8355-4ac4-8988-c651db44b5ae",
   "metadata": {},
   "outputs": [
    {
     "name": "stderr",
     "output_type": "stream",
     "text": [
      "C:\\Users\\rbrio\\anaconda3\\Lib\\site-packages\\seaborn\\_oldcore.py:1119: FutureWarning: use_inf_as_na option is deprecated and will be removed in a future version. Convert inf values to NaN before operating instead.\n",
      "  with pd.option_context('mode.use_inf_as_na', True):\n",
      "C:\\Users\\rbrio\\anaconda3\\Lib\\site-packages\\seaborn\\_oldcore.py:1119: FutureWarning: use_inf_as_na option is deprecated and will be removed in a future version. Convert inf values to NaN before operating instead.\n",
      "  with pd.option_context('mode.use_inf_as_na', True):\n"
     ]
    },
    {
     "data": {
      "text/plain": [
       "<function matplotlib.pyplot.show(close=None, block=None)>"
      ]
     },
     "execution_count": 151,
     "metadata": {},
     "output_type": "execute_result"
    },
    {
     "data": {
      "image/png": "[encoded data removed]",
      "text/plain": [
       "<Figure size 640x480 with 1 Axes>"
      ]
     },
     "metadata": {},
     "output_type": "display_data"
    }
   ],
   "source": [
    "# plotting the denrsity of the 'Attack' column\n",
    "x = df['Attack']\n",
    "y = df['Defense']\n",
    "sns.kdeplot(x, color=\"red\", fill=True)\n",
    "sns.kdeplot(y, color=\"blue\", fill=True)\n",
    "plt.xlabel('Attack and Defense Values')\n",
    "plt.title('Density Plot of Pokemon Attack and Defense')\n",
    "plt.show"
   ]
  }
 ],
 "metadata": {
  "kernelspec": {
   "display_name": "Python 3 (ipykernel)",
   "language": "python",
   "name": "python3"
  },
  "language_info": {
   "codemirror_mode": {
    "name": "ipython",
    "version": 3
   },
   "file_extension": ".py",
   "mimetype": "text/x-python",
   "name": "python",
   "nbconvert_exporter": "python",
   "pygments_lexer": "ipython3",
   "version": "3.11.7"
  }
 },
 "nbformat": 4,
 "nbformat_minor": 5
}
