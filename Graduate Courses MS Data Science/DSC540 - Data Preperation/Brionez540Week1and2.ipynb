{
 "cells": [
  {
   "cell_type": "markdown",
   "id": "4dd07b1b",
   "metadata": {},
   "source": [
    "# Assignment Week 1 and 2"
   ]
  },
  {
   "cell_type": "markdown",
   "id": "018b65eb-123f-4031-9d5b-d31062abc44a",
   "metadata": {},
   "source": [
    "## Create a Jupyter notebook where you create a list, iterate over the list and sort your results, generate random numbers, add to the list, and then print your results."
   ]
  },
  {
   "cell_type": "code",
   "execution_count": 88,
   "id": "ce481fda-8b27-44ec-916b-de467ae25445",
   "metadata": {},
   "outputs": [],
   "source": [
    "import pandas as pd\n",
    "import numpy as np\n",
    "import random\n",
    "from statistics import mean"
   ]
  },
  {
   "cell_type": "markdown",
   "id": "5058fec8",
   "metadata": {},
   "source": [
    "**Create a List**"
   ]
  },
  {
   "cell_type": "code",
   "execution_count": 89,
   "id": "14d5a012",
   "metadata": {},
   "outputs": [],
   "source": [
    "# Creating a list of numbers\n",
    "numbers = [1, 2, 3, 4, 5, 6, 7, 8, 9]"
   ]
  },
  {
   "cell_type": "markdown",
   "id": "536c920e-3eda-40d5-b903-9bf6c3f7f554",
   "metadata": {},
   "source": [
    "**Iterate Over List**"
   ]
  },
  {
   "cell_type": "code",
   "execution_count": 90,
   "id": "6624c3dd",
   "metadata": {},
   "outputs": [
    {
     "name": "stdout",
     "output_type": "stream",
     "text": [
      "[1, 3, 5, 7, 9]\n"
     ]
    }
   ],
   "source": [
    "# Creating a for loop\n",
    "for num in numbers:\n",
    "    # Checks for remainder 0 if divided by 2\n",
    "    if num % 2 == 0:\n",
    "        # removes numbers with zero remainder when divided by 2\n",
    "        numbers.remove(num)\n",
    "print(numbers)"
   ]
  },
  {
   "cell_type": "markdown",
   "id": "1e9c947d-4049-4477-ab46-edb9ac62c938",
   "metadata": {},
   "source": [
    "**Sort Values**"
   ]
  },
  {
   "cell_type": "code",
   "execution_count": 91,
   "id": "d2fd32cf",
   "metadata": {},
   "outputs": [
    {
     "data": {
      "text/plain": [
       "[9, 7, 5, 3, 1]"
      ]
     },
     "execution_count": 91,
     "metadata": {},
     "output_type": "execute_result"
    }
   ],
   "source": [
    "# Using sort with reverse set to true for descending order\n",
    "numbers.sort(reverse=True)\n",
    "numbers"
   ]
  },
  {
   "cell_type": "markdown",
   "id": "be098ab0-ef82-4538-a2d0-ed63e36db85e",
   "metadata": {},
   "source": [
    "**Generate Random Numbers**"
   ]
  },
  {
   "cell_type": "code",
   "execution_count": 92,
   "id": "23bd0961-b097-499f-acbc-bb17e15fd8dc",
   "metadata": {},
   "outputs": [
    {
     "data": {
      "text/plain": [
       "[11, 18, 14, 14, 18, 17, 11, 10, 12]"
      ]
     },
     "execution_count": 92,
     "metadata": {},
     "output_type": "execute_result"
    }
   ],
   "source": [
    "# generating random number in a list using a range\n",
    "random_list = [random.randrange(10, 20) for i in range(9)]\n",
    "random_list"
   ]
  },
  {
   "cell_type": "markdown",
   "id": "8c405d30-5a2c-4430-bd42-6a397d8382e7",
   "metadata": {},
   "source": [
    "**Add to the List**"
   ]
  },
  {
   "cell_type": "code",
   "execution_count": 93,
   "id": "02bf0c66-1505-4e69-a52c-0dfca50121fc",
   "metadata": {},
   "outputs": [],
   "source": [
    "# Using a for loop to ad numbers to a list\n",
    "for num in random_list:\n",
    "    if num not in numbers:\n",
    "        numbers.append(num)"
   ]
  },
  {
   "cell_type": "markdown",
   "id": "11090266-f077-4932-9e2f-70659cf42808",
   "metadata": {},
   "source": [
    "**Print Results**"
   ]
  },
  {
   "cell_type": "code",
   "execution_count": 94,
   "id": "ab0fedfe-8c9e-4eb6-85b6-476e58c72190",
   "metadata": {},
   "outputs": [
    {
     "name": "stdout",
     "output_type": "stream",
     "text": [
      "[9, 7, 5, 3, 1, 11, 18, 14, 17, 10, 12]\n"
     ]
    }
   ],
   "source": [
    "print(numbers)"
   ]
  },
  {
   "cell_type": "markdown",
   "id": "ff421f37-a321-4371-895f-58f00946bf54",
   "metadata": {},
   "source": [
    "## Create a line chart with Matplotlib and the following data file."
   ]
  },
  {
   "cell_type": "code",
   "execution_count": 95,
   "id": "52beb063-689d-4fe1-afe7-eb5b1815aaba",
   "metadata": {},
   "outputs": [],
   "source": [
    "import matplotlib.pyplot as plt "
   ]
  },
  {
   "cell_type": "code",
   "execution_count": 96,
   "id": "d556a403-c66f-4ab6-8359-f91b073a8d9e",
   "metadata": {},
   "outputs": [],
   "source": [
    "# reading the exel workbook and saving to a dataframe\n",
    "df = pd.read_excel('world-population.xlsm')"
   ]
  },
  {
   "cell_type": "code",
   "execution_count": 97,
   "id": "dc097979-66a6-4e21-be32-482e8d4f0892",
   "metadata": {},
   "outputs": [
    {
     "data": {
      "text/html": [
       "<div>\n",
       "<style scoped>\n",
       "    .dataframe tbody tr th:only-of-type {\n",
       "        vertical-align: middle;\n",
       "    }\n",
       "\n",
       "    .dataframe tbody tr th {\n",
       "        vertical-align: top;\n",
       "    }\n",
       "\n",
       "    .dataframe thead th {\n",
       "        text-align: right;\n",
       "    }\n",
       "</style>\n",
       "<table border=\"1\" class=\"dataframe\">\n",
       "  <thead>\n",
       "    <tr style=\"text-align: right;\">\n",
       "      <th></th>\n",
       "      <th>Year</th>\n",
       "      <th>Population</th>\n",
       "    </tr>\n",
       "  </thead>\n",
       "  <tbody>\n",
       "    <tr>\n",
       "      <th>0</th>\n",
       "      <td>1960</td>\n",
       "      <td>3028654024</td>\n",
       "    </tr>\n",
       "    <tr>\n",
       "      <th>1</th>\n",
       "      <td>1961</td>\n",
       "      <td>3068356747</td>\n",
       "    </tr>\n",
       "    <tr>\n",
       "      <th>2</th>\n",
       "      <td>1962</td>\n",
       "      <td>3121963107</td>\n",
       "    </tr>\n",
       "    <tr>\n",
       "      <th>3</th>\n",
       "      <td>1963</td>\n",
       "      <td>3187471383</td>\n",
       "    </tr>\n",
       "    <tr>\n",
       "      <th>4</th>\n",
       "      <td>1964</td>\n",
       "      <td>3253112403</td>\n",
       "    </tr>\n",
       "  </tbody>\n",
       "</table>\n",
       "</div>"
      ],
      "text/plain": [
       "   Year  Population\n",
       "0  1960  3028654024\n",
       "1  1961  3068356747\n",
       "2  1962  3121963107\n",
       "3  1963  3187471383\n",
       "4  1964  3253112403"
      ]
     },
     "execution_count": 97,
     "metadata": {},
     "output_type": "execute_result"
    }
   ],
   "source": [
    "# veiwing the first 5 rows\n",
    "df.head(5)"
   ]
  },
  {
   "cell_type": "code",
   "execution_count": 98,
   "id": "10505886",
   "metadata": {},
   "outputs": [
    {
     "data": {
      "text/plain": [
       "(50, 2)"
      ]
     },
     "execution_count": 98,
     "metadata": {},
     "output_type": "execute_result"
    }
   ],
   "source": [
    "# viewing the overall shape of the dataframe \n",
    "df.shape"
   ]
  },
  {
   "cell_type": "code",
   "execution_count": 99,
   "id": "eeeef093-1391-406e-b06a-2f8b3aca339e",
   "metadata": {},
   "outputs": [],
   "source": [
    "# creating year and population variables from the dataframe\n",
    "year = df['Year']\n",
    "population = df['Population']\n",
    "# This could be done without this particular step"
   ]
  },
  {
   "cell_type": "code",
   "execution_count": 100,
   "id": "b2eeaf7a-4955-4476-87f3-8ec5b8f50901",
   "metadata": {},
   "outputs": [
    {
     "data": {
      "image/png": "[encoded data removed]",
      "text/plain": [
       "<Figure size 640x480 with 1 Axes>"
      ]
     },
     "metadata": {},
     "output_type": "display_data"
    }
   ],
   "source": [
    "# using matplotlib funcitons to plot\n",
    "plt.plot(year, population)\n",
    "plt.xlabel(\"Year\")\n",
    "plt.ylabel(\"Population\")\n",
    "plt.title(\"Population vs Years\")\n",
    "plt.show()"
   ]
  },
  {
   "cell_type": "markdown",
   "id": "cdc130a2-d12f-4d10-bda4-d9e94c84560e",
   "metadata": {},
   "source": [
    "## Activity 1.01: Handling Lists"
   ]
  },
  {
   "cell_type": "markdown",
   "id": "7504da26-619d-4d69-b377-a509ee116d23",
   "metadata": {},
   "source": [
    "1. Create a list of 100 random numbers"
   ]
  },
  {
   "cell_type": "code",
   "execution_count": 101,
   "id": "7f93b40f-1429-479b-8680-963d658b4c2c",
   "metadata": {},
   "outputs": [],
   "source": [
    "# Creating a list of random integers in a range \n",
    "list_1 = [random.randint(0, 100) for x in range(0,100)]"
   ]
  },
  {
   "cell_type": "markdown",
   "id": "1d8cbe15-28f0-4a9b-8ceb-230214441685",
   "metadata": {},
   "source": [
    "2. Create a new list from the list_1 with numbers divisible by 3"
   ]
  },
  {
   "cell_type": "code",
   "execution_count": 102,
   "id": "c8bc5133-b955-4b79-8536-3b0d76c09535",
   "metadata": {},
   "outputs": [
    {
     "name": "stdout",
     "output_type": "stream",
     "text": [
      "[51, 18, 60, 60, 0, 48, 99, 96, 30, 33, 93, 60, 39, 51, 54, 90, 18, 63, 84, 42, 45, 93, 60, 51, 24, 36, 3]\n"
     ]
    }
   ],
   "source": [
    "# Creating an empty list \n",
    "list_2 = []\n",
    "# Using a for loop to return integers divisble by 3\n",
    "for x in list_1:\n",
    "    if x % 3 == 0:\n",
    "        list_2.append(x)\n",
    "print(list_2)"
   ]
  },
  {
   "cell_type": "markdown",
   "id": "52d47d8e-9e90-40a7-9f5a-e80c73d03302",
   "metadata": {},
   "source": [
    "3. Calculate the length of the two lists and store the difference in a new variable"
   ]
  },
  {
   "cell_type": "code",
   "execution_count": 103,
   "id": "d73e53db-cfae-4cb9-b37a-b823dff24bbc",
   "metadata": {},
   "outputs": [
    {
     "data": {
      "text/plain": [
       "73"
      ]
     },
     "execution_count": 103,
     "metadata": {},
     "output_type": "execute_result"
    }
   ],
   "source": [
    "# Calcualting the difference in length\n",
    "diff = len(list_1) - len(list_2)\n",
    "diff"
   ]
  },
  {
   "cell_type": "markdown",
   "id": "fa863ff4-072b-45ed-8416-d93c07609922",
   "metadata": {},
   "source": [
    "4. Using a loop, perform steps 1, 2, and 3, and find the difference variable 10 times"
   ]
  },
  {
   "cell_type": "code",
   "execution_count": 104,
   "id": "e3caf22f-5acd-4d94-a2f0-3d58bf375d8b",
   "metadata": {},
   "outputs": [
    {
     "name": "stdout",
     "output_type": "stream",
     "text": [
      "[61, 59, 67, 72, 68, 68, 66, 69, 68, 67]\n"
     ]
    }
   ],
   "source": [
    "# Create an empty list\n",
    "diff_list = []\n",
    "# create a for loop in range 0 to 10\n",
    "for num in range(0,10):\n",
    "    # sets list_1 equal to a list of random integers \n",
    "    list_1 = [random.randint(0, 100) for x in range(0,100)]\n",
    "    # create an empty list_2\n",
    "    list_2 = []\n",
    "    # create for list to append integers divisible by 3 to the empty list list_2\n",
    "    for x in list_1:\n",
    "        if x % 3 == 0:\n",
    "            list_2.append(x)\n",
    "            # find the difference in length between two lists\n",
    "    diff = len(list_1) - len(list_2)\n",
    "    # append the difference to the empty list diff_list\n",
    "    diff_list.append(diff)\n",
    "print(diff_list)"
   ]
  },
  {
   "cell_type": "markdown",
   "id": "759825f5-91be-4616-9177-b2650856a4cf",
   "metadata": {},
   "source": [
    "5. Find the arithmetic mean of these 10 different values. The output will vary with each run but should look similar to \"66.3\""
   ]
  },
  {
   "cell_type": "code",
   "execution_count": 105,
   "id": "4259d999-76a3-4711-8121-85f83ffea692",
   "metadata": {},
   "outputs": [
    {
     "data": {
      "text/plain": [
       "66.5"
      ]
     },
     "execution_count": 105,
     "metadata": {},
     "output_type": "execute_result"
    }
   ],
   "source": [
    "# Using mean() to calculatet he mean of the list\n",
    "mean(diff_list)"
   ]
  },
  {
   "cell_type": "markdown",
   "id": "b0e07d0e-ff49-4ff6-871c-a5c7e7d83f85",
   "metadata": {},
   "source": [
    "## Activity 1.02: Analyzing a Multiline String and Generating the Unique Word Count"
   ]
  },
  {
   "cell_type": "markdown",
   "id": "3349ba23-2fc4-4d32-8d9c-b4b28ae104ba",
   "metadata": {},
   "source": [
    "1. Create a 'multiline_text' variable."
   ]
  },
  {
   "cell_type": "code",
   "execution_count": 106,
   "id": "d43b9bad-69e8-4cf5-82b0-151cb4dcd423",
   "metadata": {},
   "outputs": [],
   "source": [
    "multiline_text = \"\"\"It is a truth universally acknowledged, that a single man in possession of a good fortune, must be in want of a wife.\n",
    "\n",
    "However little known the feelings or views of such a man may be on his first entering a neighbourhood, this truth is so well fixed in the minds of the surrounding families, that he is considered the rightful property of some one or other of their daughters.\n",
    "\n",
    "\"My dear Mr. Bennet,\" said his lady to him one day, \"have you heard that Netherfield Park is let at last?\"\n",
    "\n",
    "Mr. Bennet replied that he had not.\n",
    "\n",
    "\"But it is,\" returned she; \"for Mrs. Long has just been here, and she told me all about it.\"\n",
    "\n",
    "Mr. Bennet made no answer.\n",
    "\n",
    "\"Do you not want to know who has taken it?\" cried his wife impatiently.\n",
    "\n",
    "\"You want to tell me, and I have no objection to hearing it.\"\n",
    "\n",
    "This was invitation enough.\n",
    "\n",
    "\"Why, my dear, you must know, Mrs. Long says that Netherfield is taken by a young man of large fortune from the north of England; that he came down on Monday in a chaise and four to see the place, and was so much delighted with it, that he agreed with Mr. Morris immediately; that he is to take possession before Michaelmas, and some of his servants are to be in the house by the end of next week.\"\n",
    "\n",
    "\"What is his name?\"\"\""
   ]
  },
  {
   "cell_type": "markdown",
   "id": "a8f4b7e0-285a-4d56-969c-62fa278a9939",
   "metadata": {},
   "source": [
    "2. Find the type and length of the 'multiline_text' variable. "
   ]
  },
  {
   "cell_type": "code",
   "execution_count": 107,
   "id": "fdbb1975-5da0-4cb4-b573-2653b9e481fb",
   "metadata": {},
   "outputs": [
    {
     "data": {
      "text/plain": [
       "str"
      ]
     },
     "execution_count": 107,
     "metadata": {},
     "output_type": "execute_result"
    }
   ],
   "source": [
    "# Using the type() function\n",
    "type(multiline_text)"
   ]
  },
  {
   "cell_type": "code",
   "execution_count": 108,
   "id": "3e6c9a54-48c6-4fc0-b9a9-d61508153cbe",
   "metadata": {},
   "outputs": [
    {
     "data": {
      "text/plain": [
       "1228"
      ]
     },
     "execution_count": 108,
     "metadata": {},
     "output_type": "execute_result"
    }
   ],
   "source": [
    "# Using the len() function\n",
    "len(multiline_text)"
   ]
  },
  {
   "cell_type": "markdown",
   "id": "5d8f9d27-dcd2-4d74-a06a-d66827f70813",
   "metadata": {},
   "source": [
    "3. Remove all new lines and symbols using the replace method."
   ]
  },
  {
   "cell_type": "code",
   "execution_count": 109,
   "id": "d3167a2c-2344-4cf0-a002-2e45b3300cfa",
   "metadata": {},
   "outputs": [
    {
     "data": {
      "text/plain": [
       "'It is a truth universally acknowledged, that a single man in possession of a good fortune, must be in want of a wife.However little known the feelings or views of such a man may be on his first entering a neighbourhood, this truth is so well fixed in the minds of the surrounding families, that he is considered the rightful property of some one or other of their daughters.\"My dear Mr. Bennet,\" said his lady to him one day, \"have you heard that Netherfield Park is let at last?\"Mr. Bennet replied that he had not.\"But it is,\" returned she; \"for Mrs. Long has just been here, and she told me all about it.\"Mr. Bennet made no answer.\"Do you not want to know who has taken it?\" cried his wife impatiently.\"You want to tell me, and I have no objection to hearing it.\"This was invitation enough.\"Why, my dear, you must know, Mrs. Long says that Netherfield is taken by a young man of large fortune from the north of England; that he came down on Monday in a chaise and four to see the place, and was so much delighted with it, that he agreed with Mr. Morris immediately; that he is to take possession before Michaelmas, and some of his servants are to be in the house by the end of next week.\"\"What is his name?'"
      ]
     },
     "execution_count": 109,
     "metadata": {},
     "output_type": "execute_result"
    }
   ],
   "source": [
    "# using replace() to remove new lines and replacing with an empty string\n",
    "multiline_text = multiline_text.replace(\"\\n\", \"\")\n",
    "multiline_text"
   ]
  },
  {
   "cell_type": "code",
   "execution_count": 110,
   "id": "d17c222c-3d6e-4a7e-a676-d6d52425aa25",
   "metadata": {},
   "outputs": [
    {
     "data": {
      "text/plain": [
       "'It is a truth universally acknowledged  that a single man in possession of a good fortune  must be in want of a wife However little known the feelings or views of such a man may be on his first entering a neighbourhood  this truth is so well fixed in the minds of the surrounding families  that he is considered the rightful property of some one or other of their daughters  My dear Mr  Bennet   said his lady to him one day   have you heard that Netherfield Park is let at last  Mr  Bennet replied that he had not  But it is   returned she   for Mrs  Long has just been here  and she told me all about it  Mr  Bennet made no answer  Do you not want to know who has taken it   cried his wife impatiently  You want to tell me  and I have no objection to hearing it  This was invitation enough  Why  my dear  you must know  Mrs  Long says that Netherfield is taken by a young man of large fortune from the north of England  that he came down on Monday in a chaise and four to see the place  and was so much delighted with it  that he agreed with Mr  Morris immediately  that he is to take possession before Michaelmas  and some of his servants are to be in the house by the end of next week   What is his name '"
      ]
     },
     "execution_count": 110,
     "metadata": {},
     "output_type": "execute_result"
    }
   ],
   "source": [
    "# creating a list of characters to remove\n",
    "bad_chars = [';', ':', '!', \"*\", \".\", \"?\", \",\", '\"']\n",
    "\n",
    "# looping through the text to remove characters from the list\n",
    "for i in bad_chars:\n",
    "    multiline_text = multiline_text.replace(i ,\" \")\n",
    "multiline_text"
   ]
  },
  {
   "cell_type": "markdown",
   "id": "90925f6f-7be7-4536-a2a0-079b3b3068d7",
   "metadata": {},
   "source": [
    "4. Find all of the words in multline_text using the split() method"
   ]
  },
  {
   "cell_type": "code",
   "execution_count": 111,
   "id": "709f17d9-3acd-413e-81bb-0ffd4e5e1588",
   "metadata": {},
   "outputs": [
    {
     "data": {
      "text/plain": [
       "['It',\n",
       " 'is',\n",
       " 'a',\n",
       " 'truth',\n",
       " 'universally',\n",
       " 'acknowledged',\n",
       " 'that',\n",
       " 'a',\n",
       " 'single',\n",
       " 'man',\n",
       " 'in',\n",
       " 'possession',\n",
       " 'of',\n",
       " 'a',\n",
       " 'good',\n",
       " 'fortune',\n",
       " 'must',\n",
       " 'be',\n",
       " 'in',\n",
       " 'want',\n",
       " 'of',\n",
       " 'a',\n",
       " 'wife',\n",
       " 'However',\n",
       " 'little',\n",
       " 'known',\n",
       " 'the',\n",
       " 'feelings',\n",
       " 'or',\n",
       " 'views',\n",
       " 'of',\n",
       " 'such',\n",
       " 'a',\n",
       " 'man',\n",
       " 'may',\n",
       " 'be',\n",
       " 'on',\n",
       " 'his',\n",
       " 'first',\n",
       " 'entering',\n",
       " 'a',\n",
       " 'neighbourhood',\n",
       " 'this',\n",
       " 'truth',\n",
       " 'is',\n",
       " 'so',\n",
       " 'well',\n",
       " 'fixed',\n",
       " 'in',\n",
       " 'the',\n",
       " 'minds',\n",
       " 'of',\n",
       " 'the',\n",
       " 'surrounding',\n",
       " 'families',\n",
       " 'that',\n",
       " 'he',\n",
       " 'is',\n",
       " 'considered',\n",
       " 'the',\n",
       " 'rightful',\n",
       " 'property',\n",
       " 'of',\n",
       " 'some',\n",
       " 'one',\n",
       " 'or',\n",
       " 'other',\n",
       " 'of',\n",
       " 'their',\n",
       " 'daughters',\n",
       " 'My',\n",
       " 'dear',\n",
       " 'Mr',\n",
       " 'Bennet',\n",
       " 'said',\n",
       " 'his',\n",
       " 'lady',\n",
       " 'to',\n",
       " 'him',\n",
       " 'one',\n",
       " 'day',\n",
       " 'have',\n",
       " 'you',\n",
       " 'heard',\n",
       " 'that',\n",
       " 'Netherfield',\n",
       " 'Park',\n",
       " 'is',\n",
       " 'let',\n",
       " 'at',\n",
       " 'last',\n",
       " 'Mr',\n",
       " 'Bennet',\n",
       " 'replied',\n",
       " 'that',\n",
       " 'he',\n",
       " 'had',\n",
       " 'not',\n",
       " 'But',\n",
       " 'it',\n",
       " 'is',\n",
       " 'returned',\n",
       " 'she',\n",
       " 'for',\n",
       " 'Mrs',\n",
       " 'Long',\n",
       " 'has',\n",
       " 'just',\n",
       " 'been',\n",
       " 'here',\n",
       " 'and',\n",
       " 'she',\n",
       " 'told',\n",
       " 'me',\n",
       " 'all',\n",
       " 'about',\n",
       " 'it',\n",
       " 'Mr',\n",
       " 'Bennet',\n",
       " 'made',\n",
       " 'no',\n",
       " 'answer',\n",
       " 'Do',\n",
       " 'you',\n",
       " 'not',\n",
       " 'want',\n",
       " 'to',\n",
       " 'know',\n",
       " 'who',\n",
       " 'has',\n",
       " 'taken',\n",
       " 'it',\n",
       " 'cried',\n",
       " 'his',\n",
       " 'wife',\n",
       " 'impatiently',\n",
       " 'You',\n",
       " 'want',\n",
       " 'to',\n",
       " 'tell',\n",
       " 'me',\n",
       " 'and',\n",
       " 'I',\n",
       " 'have',\n",
       " 'no',\n",
       " 'objection',\n",
       " 'to',\n",
       " 'hearing',\n",
       " 'it',\n",
       " 'This',\n",
       " 'was',\n",
       " 'invitation',\n",
       " 'enough',\n",
       " 'Why',\n",
       " 'my',\n",
       " 'dear',\n",
       " 'you',\n",
       " 'must',\n",
       " 'know',\n",
       " 'Mrs',\n",
       " 'Long',\n",
       " 'says',\n",
       " 'that',\n",
       " 'Netherfield',\n",
       " 'is',\n",
       " 'taken',\n",
       " 'by',\n",
       " 'a',\n",
       " 'young',\n",
       " 'man',\n",
       " 'of',\n",
       " 'large',\n",
       " 'fortune',\n",
       " 'from',\n",
       " 'the',\n",
       " 'north',\n",
       " 'of',\n",
       " 'England',\n",
       " 'that',\n",
       " 'he',\n",
       " 'came',\n",
       " 'down',\n",
       " 'on',\n",
       " 'Monday',\n",
       " 'in',\n",
       " 'a',\n",
       " 'chaise',\n",
       " 'and',\n",
       " 'four',\n",
       " 'to',\n",
       " 'see',\n",
       " 'the',\n",
       " 'place',\n",
       " 'and',\n",
       " 'was',\n",
       " 'so',\n",
       " 'much',\n",
       " 'delighted',\n",
       " 'with',\n",
       " 'it',\n",
       " 'that',\n",
       " 'he',\n",
       " 'agreed',\n",
       " 'with',\n",
       " 'Mr',\n",
       " 'Morris',\n",
       " 'immediately',\n",
       " 'that',\n",
       " 'he',\n",
       " 'is',\n",
       " 'to',\n",
       " 'take',\n",
       " 'possession',\n",
       " 'before',\n",
       " 'Michaelmas',\n",
       " 'and',\n",
       " 'some',\n",
       " 'of',\n",
       " 'his',\n",
       " 'servants',\n",
       " 'are',\n",
       " 'to',\n",
       " 'be',\n",
       " 'in',\n",
       " 'the',\n",
       " 'house',\n",
       " 'by',\n",
       " 'the',\n",
       " 'end',\n",
       " 'of',\n",
       " 'next',\n",
       " 'week',\n",
       " 'What',\n",
       " 'is',\n",
       " 'his',\n",
       " 'name']"
      ]
     },
     "execution_count": 111,
     "metadata": {},
     "output_type": "execute_result"
    }
   ],
   "source": [
    "# Creating a list of all words\n",
    "all_words = multiline_text.split()\n",
    "all_words"
   ]
  },
  {
   "cell_type": "code",
   "execution_count": 112,
   "id": "0e511781-645c-4a69-9d8e-24ae647b700f",
   "metadata": {},
   "outputs": [
    {
     "data": {
      "text/plain": [
       "236"
      ]
     },
     "execution_count": 112,
     "metadata": {},
     "output_type": "execute_result"
    }
   ],
   "source": [
    "# using len() function on the list\n",
    "len(all_words)"
   ]
  },
  {
   "cell_type": "markdown",
   "id": "2414a1b4-1110-4f65-82b8-650bdcab3871",
   "metadata": {},
   "source": [
    "5. Create a list from this list that will contain only the unique words."
   ]
  },
  {
   "cell_type": "code",
   "execution_count": 113,
   "id": "546e1591-517c-4005-878a-434ac221892e",
   "metadata": {},
   "outputs": [
    {
     "data": {
      "text/plain": [
       "['It',\n",
       " 'is',\n",
       " 'a',\n",
       " 'truth',\n",
       " 'universally',\n",
       " 'acknowledged',\n",
       " 'that',\n",
       " 'single',\n",
       " 'man',\n",
       " 'in',\n",
       " 'possession',\n",
       " 'of',\n",
       " 'good',\n",
       " 'fortune',\n",
       " 'must',\n",
       " 'be',\n",
       " 'want',\n",
       " 'wife',\n",
       " 'However',\n",
       " 'little',\n",
       " 'known',\n",
       " 'the',\n",
       " 'feelings',\n",
       " 'or',\n",
       " 'views',\n",
       " 'such',\n",
       " 'may',\n",
       " 'on',\n",
       " 'his',\n",
       " 'first',\n",
       " 'entering',\n",
       " 'neighbourhood',\n",
       " 'this',\n",
       " 'so',\n",
       " 'well',\n",
       " 'fixed',\n",
       " 'minds',\n",
       " 'surrounding',\n",
       " 'families',\n",
       " 'he',\n",
       " 'considered',\n",
       " 'rightful',\n",
       " 'property',\n",
       " 'some',\n",
       " 'one',\n",
       " 'other',\n",
       " 'their',\n",
       " 'daughters',\n",
       " 'My',\n",
       " 'dear',\n",
       " 'Mr',\n",
       " 'Bennet',\n",
       " 'said',\n",
       " 'lady',\n",
       " 'to',\n",
       " 'him',\n",
       " 'day',\n",
       " 'have',\n",
       " 'you',\n",
       " 'heard',\n",
       " 'Netherfield',\n",
       " 'Park',\n",
       " 'let',\n",
       " 'at',\n",
       " 'last',\n",
       " 'replied',\n",
       " 'had',\n",
       " 'not',\n",
       " 'But',\n",
       " 'it',\n",
       " 'returned',\n",
       " 'she',\n",
       " 'for',\n",
       " 'Mrs',\n",
       " 'Long',\n",
       " 'has',\n",
       " 'just',\n",
       " 'been',\n",
       " 'here',\n",
       " 'and',\n",
       " 'told',\n",
       " 'me',\n",
       " 'all',\n",
       " 'about',\n",
       " 'made',\n",
       " 'no',\n",
       " 'answer',\n",
       " 'Do',\n",
       " 'know',\n",
       " 'who',\n",
       " 'taken',\n",
       " 'cried',\n",
       " 'impatiently',\n",
       " 'You',\n",
       " 'tell',\n",
       " 'I',\n",
       " 'objection',\n",
       " 'hearing',\n",
       " 'This',\n",
       " 'was',\n",
       " 'invitation',\n",
       " 'enough',\n",
       " 'Why',\n",
       " 'my',\n",
       " 'says',\n",
       " 'by',\n",
       " 'young',\n",
       " 'large',\n",
       " 'from',\n",
       " 'north',\n",
       " 'England',\n",
       " 'came',\n",
       " 'down',\n",
       " 'Monday',\n",
       " 'chaise',\n",
       " 'four',\n",
       " 'see',\n",
       " 'place',\n",
       " 'much',\n",
       " 'delighted',\n",
       " 'with',\n",
       " 'agreed',\n",
       " 'Morris',\n",
       " 'immediately',\n",
       " 'take',\n",
       " 'before',\n",
       " 'Michaelmas',\n",
       " 'servants',\n",
       " 'are',\n",
       " 'house',\n",
       " 'end',\n",
       " 'next',\n",
       " 'week',\n",
       " 'What',\n",
       " 'name']"
      ]
     },
     "execution_count": 113,
     "metadata": {},
     "output_type": "execute_result"
    }
   ],
   "source": [
    "# creating an empty list\n",
    "unique_words = []\n",
    "\n",
    "# a for loop iterates over all words and creates a second list \n",
    "for i in all_words:\n",
    "    if i not in unique_words:\n",
    "        unique_words.append(i)\n",
    "unique_words"
   ]
  },
  {
   "cell_type": "code",
   "execution_count": 114,
   "id": "e2e07d65-089a-4164-949b-838753419677",
   "metadata": {},
   "outputs": [
    {
     "data": {
      "text/plain": [
       "135"
      ]
     },
     "execution_count": 114,
     "metadata": {},
     "output_type": "execute_result"
    }
   ],
   "source": [
    "# using len() on the unique_words list\n",
    "len(unique_words)"
   ]
  },
  {
   "cell_type": "code",
   "execution_count": 115,
   "id": "8efdec0d-f04c-4193-816a-89b0ec6a7e9e",
   "metadata": {},
   "outputs": [
    {
     "data": {
      "text/plain": [
       "135"
      ]
     },
     "execution_count": 115,
     "metadata": {},
     "output_type": "execute_result"
    }
   ],
   "source": [
    "# creating a dictionary using the all_words list as the key\n",
    "unique_words_as_dict = dict.fromkeys(all_words)\n",
    "# using len to check the length of the dictionary\n",
    "len(list(unique_words_as_dict.keys()))"
   ]
  },
  {
   "cell_type": "markdown",
   "id": "c062f3de-cadc-4858-9803-037c29bcdf30",
   "metadata": {},
   "source": [
    "6. Count the number of times the unique word has appeared in the list using the key and value in dict."
   ]
  },
  {
   "cell_type": "code",
   "execution_count": 116,
   "id": "3dbf0f87-b486-4eb9-9097-74c79620098c",
   "metadata": {},
   "outputs": [
    {
     "data": {
      "text/plain": [
       "{'It': 1,\n",
       " 'is': 8,\n",
       " 'a': 8,\n",
       " 'truth': 2,\n",
       " 'universally': 1,\n",
       " 'acknowledged': 1,\n",
       " 'that': 8,\n",
       " 'single': 1,\n",
       " 'man': 3,\n",
       " 'in': 5,\n",
       " 'possession': 2,\n",
       " 'of': 10,\n",
       " 'good': 1,\n",
       " 'fortune': 2,\n",
       " 'must': 2,\n",
       " 'be': 3,\n",
       " 'want': 3,\n",
       " 'wife': 2,\n",
       " 'However': 1,\n",
       " 'little': 1,\n",
       " 'known': 1,\n",
       " 'the': 8,\n",
       " 'feelings': 1,\n",
       " 'or': 2,\n",
       " 'views': 1,\n",
       " 'such': 1,\n",
       " 'may': 1,\n",
       " 'on': 2,\n",
       " 'his': 5,\n",
       " 'first': 1,\n",
       " 'entering': 1,\n",
       " 'neighbourhood': 1,\n",
       " 'this': 1,\n",
       " 'so': 2,\n",
       " 'well': 1,\n",
       " 'fixed': 1,\n",
       " 'minds': 1,\n",
       " 'surrounding': 1,\n",
       " 'families': 1,\n",
       " 'he': 5,\n",
       " 'considered': 1,\n",
       " 'rightful': 1,\n",
       " 'property': 1,\n",
       " 'some': 2,\n",
       " 'one': 2,\n",
       " 'other': 1,\n",
       " 'their': 1,\n",
       " 'daughters': 1,\n",
       " 'My': 1,\n",
       " 'dear': 2,\n",
       " 'Mr': 4,\n",
       " 'Bennet': 3,\n",
       " 'said': 1,\n",
       " 'lady': 1,\n",
       " 'to': 7,\n",
       " 'him': 1,\n",
       " 'day': 1,\n",
       " 'have': 2,\n",
       " 'you': 3,\n",
       " 'heard': 1,\n",
       " 'Netherfield': 2,\n",
       " 'Park': 1,\n",
       " 'let': 1,\n",
       " 'at': 1,\n",
       " 'last': 1,\n",
       " 'replied': 1,\n",
       " 'had': 1,\n",
       " 'not': 2,\n",
       " 'But': 1,\n",
       " 'it': 5,\n",
       " 'returned': 1,\n",
       " 'she': 2,\n",
       " 'for': 1,\n",
       " 'Mrs': 2,\n",
       " 'Long': 2,\n",
       " 'has': 2,\n",
       " 'just': 1,\n",
       " 'been': 1,\n",
       " 'here': 1,\n",
       " 'and': 5,\n",
       " 'told': 1,\n",
       " 'me': 2,\n",
       " 'all': 1,\n",
       " 'about': 1,\n",
       " 'made': 1,\n",
       " 'no': 2,\n",
       " 'answer': 1,\n",
       " 'Do': 1,\n",
       " 'know': 2,\n",
       " 'who': 1,\n",
       " 'taken': 2,\n",
       " 'cried': 1,\n",
       " 'impatiently': 1,\n",
       " 'You': 1,\n",
       " 'tell': 1,\n",
       " 'I': 1,\n",
       " 'objection': 1,\n",
       " 'hearing': 1,\n",
       " 'This': 1,\n",
       " 'was': 2,\n",
       " 'invitation': 1,\n",
       " 'enough': 1,\n",
       " 'Why': 1,\n",
       " 'my': 1,\n",
       " 'says': 1,\n",
       " 'by': 2,\n",
       " 'young': 1,\n",
       " 'large': 1,\n",
       " 'from': 1,\n",
       " 'north': 1,\n",
       " 'England': 1,\n",
       " 'came': 1,\n",
       " 'down': 1,\n",
       " 'Monday': 1,\n",
       " 'chaise': 1,\n",
       " 'four': 1,\n",
       " 'see': 1,\n",
       " 'place': 1,\n",
       " 'much': 1,\n",
       " 'delighted': 1,\n",
       " 'with': 2,\n",
       " 'agreed': 1,\n",
       " 'Morris': 1,\n",
       " 'immediately': 1,\n",
       " 'take': 1,\n",
       " 'before': 1,\n",
       " 'Michaelmas': 1,\n",
       " 'servants': 1,\n",
       " 'are': 1,\n",
       " 'house': 1,\n",
       " 'end': 1,\n",
       " 'next': 1,\n",
       " 'week': 1,\n",
       " 'What': 1,\n",
       " 'name': 1}"
      ]
     },
     "execution_count": 116,
     "metadata": {},
     "output_type": "execute_result"
    }
   ],
   "source": [
    "# for loop to iterate over all_words list\n",
    "for word in all_words:\n",
    "    # if statement to check if the word is already in the list\n",
    "    if unique_words_as_dict[word] is None:\n",
    "        unique_words_as_dict[word] = 1\n",
    "    else:\n",
    "        # increment the count of the word if it is in the list\n",
    "        unique_words_as_dict[word] += 1\n",
    "unique_words_as_dict"
   ]
  },
  {
   "cell_type": "markdown",
   "id": "a03acc85-8104-4cd3-ad83-cf5d514b22df",
   "metadata": {},
   "source": [
    "Below is my initial attemp at creating the dictionary to count the uniqe words. I could not get just right so refrenced the solution file to see the method used. "
   ]
  },
  {
   "cell_type": "code",
   "execution_count": 117,
   "id": "05d29be7-7e43-4f16-9c68-9379ac3626bd",
   "metadata": {},
   "outputs": [],
   "source": [
    "#unique_count = dict()\n",
    "\n",
    "#for word in unique_words:\n",
    "    #if word in unique_words:\n",
    "        #unique_count[word] = unique_count[word] + 1\n",
    "    #else:\n",
    "        #unique_count[word] = 1"
   ]
  },
  {
   "cell_type": "markdown",
   "id": "c3f59cb7-5bcf-4ffc-b5d7-11e0dcdce701",
   "metadata": {},
   "source": [
    "7. Find the top 25 words from the unique words that you have found using the slice method."
   ]
  },
  {
   "cell_type": "code",
   "execution_count": 118,
   "id": "7fd587d8-be21-44cf-aeee-f6f3f7dd9500",
   "metadata": {},
   "outputs": [
    {
     "data": {
      "text/plain": [
       "[('of', 10),\n",
       " ('is', 8),\n",
       " ('a', 8),\n",
       " ('that', 8),\n",
       " ('the', 8),\n",
       " ('to', 7),\n",
       " ('in', 5),\n",
       " ('his', 5),\n",
       " ('he', 5),\n",
       " ('it', 5),\n",
       " ('and', 5),\n",
       " ('Mr', 4),\n",
       " ('man', 3),\n",
       " ('be', 3),\n",
       " ('want', 3),\n",
       " ('Bennet', 3),\n",
       " ('you', 3),\n",
       " ('truth', 2),\n",
       " ('possession', 2),\n",
       " ('fortune', 2),\n",
       " ('must', 2),\n",
       " ('wife', 2),\n",
       " ('or', 2),\n",
       " ('on', 2),\n",
       " ('so', 2)]"
      ]
     },
     "execution_count": 118,
     "metadata": {},
     "output_type": "execute_result"
    }
   ],
   "source": [
    "# Using sorted to sort the dictionary values\n",
    "top_words = sorted(unique_words_as_dict.items(), key=lambda key_val_tuple: key_val_tuple[1], reverse=True)\n",
    "# code for a range of the start, to 25\n",
    "top_words[:25]"
   ]
  },
  {
   "cell_type": "markdown",
   "id": "eb0069ac-ee24-4b94-b519-b53fc824864e",
   "metadata": {},
   "source": [
    "## Activity 2.01: Permutation, Iterator, Lambda, and List"
   ]
  },
  {
   "cell_type": "markdown",
   "id": "4dc7b597-842d-40d5-b49a-8babeac688ca",
   "metadata": {},
   "source": [
    "1. Look up the definition of permutations and dropwhile from itertools."
   ]
  },
  {
   "cell_type": "code",
   "execution_count": 119,
   "id": "4b526210-08a7-43ec-9cd6-ce0d127ec03f",
   "metadata": {},
   "outputs": [
    {
     "data": {
      "text/plain": [
       "\u001b[1;31mInit signature:\u001b[0m \u001b[0mpermutations\u001b[0m\u001b[1;33m(\u001b[0m\u001b[0miterable\u001b[0m\u001b[1;33m,\u001b[0m \u001b[0mr\u001b[0m\u001b[1;33m=\u001b[0m\u001b[1;32mNone\u001b[0m\u001b[1;33m)\u001b[0m\u001b[1;33m\u001b[0m\u001b[1;33m\u001b[0m\u001b[0m\n",
       "\u001b[1;31mDocstring:\u001b[0m     \n",
       "Return successive r-length permutations of elements in the iterable.\n",
       "\n",
       "permutations(range(3), 2) --> (0,1), (0,2), (1,0), (1,2), (2,0), (2,1)\n",
       "\u001b[1;31mType:\u001b[0m           type\n",
       "\u001b[1;31mSubclasses:\u001b[0m     "
      ]
     },
     "metadata": {},
     "output_type": "display_data"
    }
   ],
   "source": [
    "# Importing and using the \"?\" on itertools for explanationa and help on the functions \n",
    "from itertools import permutations, dropwhile\n",
    "permutations?"
   ]
  },
  {
   "cell_type": "code",
   "execution_count": 120,
   "id": "9e909f61",
   "metadata": {},
   "outputs": [
    {
     "data": {
      "text/plain": [
       "\u001b[1;31mInit signature:\u001b[0m \u001b[0mdropwhile\u001b[0m\u001b[1;33m(\u001b[0m\u001b[0mpredicate\u001b[0m\u001b[1;33m,\u001b[0m \u001b[0miterable\u001b[0m\u001b[1;33m,\u001b[0m \u001b[1;33m/\u001b[0m\u001b[1;33m)\u001b[0m\u001b[1;33m\u001b[0m\u001b[1;33m\u001b[0m\u001b[0m\n",
       "\u001b[1;31mDocstring:\u001b[0m     \n",
       "Drop items from the iterable while predicate(item) is true.\n",
       "\n",
       "Afterwards, return every element until the iterable is exhausted.\n",
       "\u001b[1;31mType:\u001b[0m           type\n",
       "\u001b[1;31mSubclasses:\u001b[0m     "
      ]
     },
     "metadata": {},
     "output_type": "display_data"
    }
   ],
   "source": [
    "dropwhile?"
   ]
  },
  {
   "cell_type": "code",
   "execution_count": 121,
   "id": "96f904cd-96ea-4a07-8f6b-bd595c5b3bd7",
   "metadata": {},
   "outputs": [
    {
     "data": {
      "text/plain": [
       "<itertools.permutations at 0x1cdc4b4a7f0>"
      ]
     },
     "execution_count": 121,
     "metadata": {},
     "output_type": "execute_result"
    }
   ],
   "source": [
    "permutations(range(3))"
   ]
  },
  {
   "cell_type": "code",
   "execution_count": 122,
   "id": "662f5bd7-146b-4b94-a59e-4e699f3132c4",
   "metadata": {},
   "outputs": [
    {
     "name": "stdout",
     "output_type": "stream",
     "text": [
      "(0, 1, 2)\n",
      "(0, 2, 1)\n",
      "(1, 0, 2)\n",
      "(1, 2, 0)\n",
      "(2, 0, 1)\n",
      "(2, 1, 0)\n"
     ]
    }
   ],
   "source": [
    "# The for loop iterates over and prints the tuples in the permutation\n",
    "for number_tuple in permutations(range(3)):\n",
    "    print(number_tuple)\n",
    "    # assert isinstance returns an assertion error if the returned variable is not the desired instance, a tuple in this case\n",
    "    assert isinstance(number_tuple, tuple)  "
   ]
  },
  {
   "cell_type": "code",
   "execution_count": 123,
   "id": "7bd643d7-7055-4022-a1c2-167765ee519c",
   "metadata": {},
   "outputs": [
    {
     "name": "stdout",
     "output_type": "stream",
     "text": [
      "[1, 2]\n",
      "[2, 1]\n",
      "[1, 0, 2]\n",
      "[1, 2, 0]\n",
      "[2, 0, 1]\n",
      "[2, 1, 0]\n"
     ]
    }
   ],
   "source": [
    "# for loop iterating over the permutaions in range 3\n",
    "for number_tuple in permutations(range(3)):\n",
    "    # creates list while iterating, the dropwhile function causes the loop to run/iterate except when the x is less than or equal to zero. \n",
    "    # this explains why all values in the zero index of the list are non zero.\n",
    "    print(list(dropwhile(lambda x: x <= 0, number_tuple)))  "
   ]
  },
  {
   "cell_type": "code",
   "execution_count": 124,
   "id": "82ceedb2-ebbe-4c72-a09f-b37a24eb61de",
   "metadata": {},
   "outputs": [
    {
     "name": "stdout",
     "output_type": "stream",
     "text": [
      "12.0\n",
      "21.0\n",
      "102.0\n",
      "120.0\n",
      "201.0\n",
      "210.0\n"
     ]
    }
   ],
   "source": [
    "import math\n",
    "# Defines a function that converts list items to a single number based on the numbers in the list\n",
    "def convert_to_number(number_stack):\n",
    "    final_number = 0\n",
    "    # The range is 0 to the length of the list \n",
    "    for i in range(0, len(number_stack)):\n",
    "        # final number is calucalted by taking the first digit of the list, removing the last digit, and then finally raising \n",
    "        # 10 to the power of i, which is the length of the list after using the .pop()\n",
    "        final_number += (number_stack.pop() * (math.pow(10, i)))\n",
    "    return final_number\n",
    "\n",
    "for number_tuple in permutations(range(3)):\n",
    "    # Creating the number stack variable for the function \"convert_to_number\"\n",
    "    number_stack = list(dropwhile(lambda x: x <= 0, number_tuple))\n",
    "    # print the list of generated numbers from the function \"convert_to_number\"\n",
    "    print(convert_to_number(number_stack))  "
   ]
  },
  {
   "cell_type": "markdown",
   "id": "5f63443c",
   "metadata": {},
   "source": [
    "I had a hard time trying to figure the last part of activity 2.01 on my own and ultimatley need the solution guide to wrap my head around what was needed. "
   ]
  },
  {
   "cell_type": "markdown",
   "id": "e7211393",
   "metadata": {},
   "source": [
    "## Activity 2.02: Designing Your Own CSV Parser"
   ]
  },
  {
   "cell_type": "markdown",
   "id": "8c2ea17a",
   "metadata": {},
   "source": [
    "1. Import zip_longest from itertools. Create a function to zip header, line, and fillvalue = None"
   ]
  },
  {
   "cell_type": "code",
   "execution_count": 125,
   "id": "d652b8de",
   "metadata": {},
   "outputs": [],
   "source": [
    "from itertools import zip_longest  "
   ]
  },
  {
   "cell_type": "code",
   "execution_count": 126,
   "id": "2df003a7",
   "metadata": {},
   "outputs": [],
   "source": [
    "def create_dict_line(header, line):\n",
    "    # Zips the first parameter with the second, and fill value set to None fills the missing values with \"None\"\n",
    "    zipped_line = zip_longest(header, line, fillvalue=None)\n",
    "    # Using dictionary comprehension to generate the final dict\n",
    "    final_dict = {kv[0]: kv[1] for kv in zipped_line}\n",
    "    return final_dict"
   ]
  },
  {
   "cell_type": "markdown",
   "id": "d9bf9ccb-aec9-42fa-ba33-72478c8313c1",
   "metadata": {},
   "source": [
    "I was easier to do most of the code in two blocks instead of the indivual steps the the books layed out. "
   ]
  },
  {
   "cell_type": "code",
   "execution_count": 127,
   "id": "b2b9134a",
   "metadata": {},
   "outputs": [
    {
     "name": "stdout",
     "output_type": "stream",
     "text": [
      "{'Region': 'Central America and the Caribbean', 'Country': 'Antigua and Barbuda ', 'Item Type': 'Baby Food', 'Sales Channel': 'Online', 'Order Priority': 'M', 'Order Date': '12/20/2013', 'Order ID': '957081544', 'Ship Date': '1/11/2014', 'Units Sold': '552', 'Unit Price': '255.28', 'Unit Cost': '159.42', 'Total Revenue': '140914.56', 'Total Cost': '87999.84', 'Total Profit': '52914.72'}\n",
      "{'Region': 'Central America and the Caribbean', 'Country': 'Panama', 'Item Type': 'Snacks', 'Sales Channel': 'Offline', 'Order Priority': 'C', 'Order Date': '7/5/2010', 'Order ID': '301644504', 'Ship Date': '7/26/2010', 'Units Sold': '2167', 'Unit Price': '152.58', 'Unit Cost': '97.44', 'Total Revenue': '330640.86', 'Total Cost': '211152.48', 'Total Profit': '119488.38'}\n",
      "{'Region': 'Europe', 'Country': 'Czech Republic', 'Item Type': 'Beverages', 'Sales Channel': 'Offline', 'Order Priority': 'C', 'Order Date': '9/12/2011', 'Order ID': '478051030', 'Ship Date': '9/29/2011', 'Units Sold': '4778', 'Unit Price': '47.45', 'Unit Cost': '31.79', 'Total Revenue': '226716.10', 'Total Cost': '151892.62', 'Total Profit': '74823.48'}\n"
     ]
    }
   ],
   "source": [
    "# opening the csv file as fd (downloaded csv to folder)\n",
    "with open(\"sales_record.csv\", \"r\") as fd:\n",
    "    # sets variable \"first_line\" to first read line using .readline() function\n",
    "    first_line = fd.readline()\n",
    "    # header variable is the first row of the CSV with the new line characters removed and split on the commas\n",
    "    header = first_line.replace(\"\\n\", \"\").split(\",\")\n",
    "    # creating a for loop to loop over each row in the csv\n",
    "    # enumerate() initiliazes a counter\n",
    "    for i, line in enumerate(fd):\n",
    "        # line variable is set to the rows in the csv with the new line characters removed and split on the commas\n",
    "        line = line.replace(\"\\n\", \"\").split(\",\")\n",
    "        # \n",
    "        d = create_dict_line(header, line)\n",
    "        print(d)\n",
    "        if i >= 2:\n",
    "            break"
   ]
  }
 ],
 "metadata": {
  "kernelspec": {
   "display_name": "Python 3 (ipykernel)",
   "language": "python",
   "name": "python3"
  },
  "language_info": {
   "codemirror_mode": {
    "name": "ipython",
    "version": 3
   },
   "file_extension": ".py",
   "mimetype": "text/x-python",
   "name": "python",
   "nbconvert_exporter": "python",
   "pygments_lexer": "ipython3",
   "version": "3.11.5"
  }
 },
 "nbformat": 4,
 "nbformat_minor": 5
}
